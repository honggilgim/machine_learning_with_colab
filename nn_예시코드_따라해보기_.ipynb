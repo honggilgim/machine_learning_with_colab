{
  "nbformat": 4,
  "nbformat_minor": 0,
  "metadata": {
    "colab": {
      "name": "nn 예시코드 따라해보기..ipynb",
      "provenance": [],
      "authorship_tag": "ABX9TyMxIE2Dk/Zi03BCBxVG9i/K",
      "include_colab_link": true
    },
    "kernelspec": {
      "name": "python3",
      "display_name": "Python 3"
    },
    "language_info": {
      "name": "python"
    }
  },
  "cells": [
    {
      "cell_type": "markdown",
      "metadata": {
        "id": "view-in-github",
        "colab_type": "text"
      },
      "source": [
        "<a href=\"https://colab.research.google.com/github/honggilgim/python_test_with_colab/blob/main/nn_%EC%98%88%EC%8B%9C%EC%BD%94%EB%93%9C_%EB%94%B0%EB%9D%BC%ED%95%B4%EB%B3%B4%EA%B8%B0_.ipynb\" target=\"_parent\"><img src=\"https://colab.research.google.com/assets/colab-badge.svg\" alt=\"Open In Colab\"/></a>"
      ]
    },
    {
      "cell_type": "code",
      "execution_count": 1,
      "metadata": {
        "id": "bWgJ1aDrPhd7"
      },
      "outputs": [],
      "source": [
        "import os\n",
        "import numpy as np\n",
        "import pandas as pd"
      ]
    },
    {
      "cell_type": "code",
      "source": [
        "train = pd.read_csv('/content/train2.csv')\n",
        "test = pd.read_csv('/content/test2.csv')\n",
        "\n",
        "train.drop('id', axis=1, inplace=True)\n",
        "test.drop('id', axis=1, inplace=True)\n",
        "\n",
        "train_X = train.drop('Target', axis=1)\n",
        "train_y = train.Target"
      ],
      "metadata": {
        "id": "AkcraLJhQPs2"
      },
      "execution_count": 2,
      "outputs": []
    },
    {
      "cell_type": "code",
      "source": [
        "train_X = pd.get_dummies(data = train_X, columns = ['Gender'], prefix = 'Gender')\n",
        "test = pd.get_dummies(data = test, columns = ['Gender'], prefix = 'Gender')"
      ],
      "metadata": {
        "id": "PFfmFUUxQXSx"
      },
      "execution_count": 3,
      "outputs": []
    },
    {
      "cell_type": "code",
      "source": [
        "foreign_body = train_X['Whole Weight'] - (train_X['Shucked Weight'] + train_X['Viscra Weight'] + train_X['Shell Weight'])"
      ],
      "metadata": {
        "id": "VNFBQblLQY2E"
      },
      "execution_count": 4,
      "outputs": []
    },
    {
      "cell_type": "code",
      "source": [
        "foreign_body[47]"
      ],
      "metadata": {
        "colab": {
          "base_uri": "https://localhost:8080/"
        },
        "id": "T1J-D96xQdJE",
        "outputId": "8782c28a-7c37-452e-83b7-fb9ba37d3c56"
      },
      "execution_count": 5,
      "outputs": [
        {
          "output_type": "execute_result",
          "data": {
            "text/plain": [
              "0.10650000000000004"
            ]
          },
          "metadata": {},
          "execution_count": 5
        }
      ]
    },
    {
      "cell_type": "code",
      "source": [
        "area = 0.5 * train_X['Lenght'] * 0.5 * train_X['Diameter'] * np.pi\n",
        "train_X['Area'] = area"
      ],
      "metadata": {
        "id": "cNv-5QvzQjSo"
      },
      "execution_count": 6,
      "outputs": []
    },
    {
      "cell_type": "code",
      "source": [
        "area = 0.5 * test['Lenght'] * 0.5 * test['Diameter'] * np.pi\n",
        "test['Area'] = area"
      ],
      "metadata": {
        "id": "XaB-awSdQkJl"
      },
      "execution_count": 7,
      "outputs": []
    },
    {
      "cell_type": "code",
      "source": [
        "perimeter = np.pi * np.sqrt(0.5 * ((train_X['Lenght'] ** 2) + (train_X['Diameter'] ** 2)))\n",
        "train_X['Perimeter'] = perimeter"
      ],
      "metadata": {
        "id": "ejEf3U-DQlye"
      },
      "execution_count": 8,
      "outputs": []
    },
    {
      "cell_type": "code",
      "source": [
        "perimeter = np.pi * np.sqrt(0.5 * ((test['Lenght'] ** 2) + (test['Diameter'] ** 2)))\n",
        "test['Perimeter'] = perimeter"
      ],
      "metadata": {
        "id": "Y35Cl9zOQnR-"
      },
      "execution_count": 9,
      "outputs": []
    },
    {
      "cell_type": "code",
      "source": [
        "from tensorflow.keras.layers import *\n",
        "from tensorflow.keras.models import *\n",
        "from tensorflow.keras.optimizers import *\n",
        "from tensorflow.keras.callbacks import *"
      ],
      "metadata": {
        "id": "NUf0fg9_QobN"
      },
      "execution_count": 10,
      "outputs": []
    },
    {
      "cell_type": "code",
      "source": [
        "# 딥러닝 모델 선언\n",
        "model = Sequential()\n",
        "model.add(Dense(16, input_dim=len(train_X.columns), activation='elu'))\n",
        "model.add(Dense(32, activation='elu'))    \n",
        "model.add(Dense(64, activation='elu'))  \n",
        "model.add(Dropout(0.5))  \n",
        "model.add(Dense(32, activation='elu'))\n",
        "model.add(Dense(16, activation='elu'))\n",
        "model.add(Dense(1))\n",
        "\n",
        "\n",
        "model.compile(loss='mean_absolute_error',\n",
        "              optimizer='Nadam', \n",
        "              metrics=['mae'])"
      ],
      "metadata": {
        "id": "Vd9Npt1cQqx_"
      },
      "execution_count": 11,
      "outputs": []
    },
    {
      "cell_type": "code",
      "source": [
        "# 모델 저장 폴더 만들기\n",
        "MODEL_DIR = './model/'\n",
        "if not os.path.exists(MODEL_DIR):\n",
        "    os.mkdir(MODEL_DIR)\n",
        "\n",
        "modelpath = \"./model/{epoch:02d}-{val_loss:.4f}.hdf5\""
      ],
      "metadata": {
        "id": "zBuZCqBvQtJL"
      },
      "execution_count": 12,
      "outputs": []
    },
    {
      "cell_type": "code",
      "source": [
        "# 모델 업데이트 및 저장\n",
        "cp = ModelCheckpoint(filepath=modelpath, monitor='val_mae', verbose=0, save_best_only=True, mode = 'min')"
      ],
      "metadata": {
        "id": "Fou7J7oEQumr"
      },
      "execution_count": 13,
      "outputs": []
    },
    {
      "cell_type": "code",
      "source": [
        "\n",
        "# 학습 자동 중단 설정\n",
        "es = EarlyStopping(monitor='val_mae', patience=50, mode='min')\n",
        "\n",
        "rlrp = ReduceLROnPlateau(monitor='val_mae', factor=0.2, patience=40, mode='min')"
      ],
      "metadata": {
        "id": "EiRLO4snQwyi"
      },
      "execution_count": 14,
      "outputs": []
    },
    {
      "cell_type": "code",
      "source": [
        "# 모델 학습\n",
        "model.fit(train_X, train_y, validation_split=0.3, epochs=1000, batch_size=32, verbose=1, callbacks=[es, cp, rlrp])"
      ],
      "metadata": {
        "colab": {
          "base_uri": "https://localhost:8080/"
        },
        "id": "pn9jPCX-Qypd",
        "outputId": "ae926349-18e0-4a0d-91f1-93969ef1260e"
      },
      "execution_count": 15,
      "outputs": [
        {
          "output_type": "stream",
          "name": "stdout",
          "text": [
            "Epoch 1/1000\n",
            "25/25 [==============================] - 2s 12ms/step - loss: 24.0766 - mae: 24.0766 - val_loss: 5.2258 - val_mae: 5.2258 - lr: 0.0010\n",
            "Epoch 2/1000\n",
            "25/25 [==============================] - 0s 5ms/step - loss: 10.4672 - mae: 10.4672 - val_loss: 4.3781 - val_mae: 4.3781 - lr: 0.0010\n",
            "Epoch 3/1000\n",
            "25/25 [==============================] - 0s 5ms/step - loss: 6.8643 - mae: 6.8643 - val_loss: 4.0656 - val_mae: 4.0656 - lr: 0.0010\n",
            "Epoch 4/1000\n",
            "25/25 [==============================] - 0s 5ms/step - loss: 5.4075 - mae: 5.4075 - val_loss: 3.9509 - val_mae: 3.9509 - lr: 0.0010\n",
            "Epoch 5/1000\n",
            "25/25 [==============================] - 0s 5ms/step - loss: 4.8392 - mae: 4.8392 - val_loss: 3.6901 - val_mae: 3.6901 - lr: 0.0010\n",
            "Epoch 6/1000\n",
            "25/25 [==============================] - 0s 5ms/step - loss: 4.3760 - mae: 4.3760 - val_loss: 3.3646 - val_mae: 3.3646 - lr: 0.0010\n",
            "Epoch 7/1000\n",
            "25/25 [==============================] - 0s 5ms/step - loss: 3.8735 - mae: 3.8735 - val_loss: 3.1964 - val_mae: 3.1964 - lr: 0.0010\n",
            "Epoch 8/1000\n",
            "25/25 [==============================] - 0s 6ms/step - loss: 3.6642 - mae: 3.6642 - val_loss: 3.1399 - val_mae: 3.1399 - lr: 0.0010\n",
            "Epoch 9/1000\n",
            "25/25 [==============================] - 0s 5ms/step - loss: 3.3481 - mae: 3.3481 - val_loss: 2.9951 - val_mae: 2.9951 - lr: 0.0010\n",
            "Epoch 10/1000\n",
            "25/25 [==============================] - 0s 5ms/step - loss: 3.1099 - mae: 3.1099 - val_loss: 2.8874 - val_mae: 2.8874 - lr: 0.0010\n",
            "Epoch 11/1000\n",
            "25/25 [==============================] - 0s 4ms/step - loss: 2.9822 - mae: 2.9822 - val_loss: 2.9656 - val_mae: 2.9656 - lr: 0.0010\n",
            "Epoch 12/1000\n",
            "25/25 [==============================] - 0s 4ms/step - loss: 2.8055 - mae: 2.8055 - val_loss: 2.7113 - val_mae: 2.7113 - lr: 0.0010\n",
            "Epoch 13/1000\n",
            "25/25 [==============================] - 0s 5ms/step - loss: 2.7273 - mae: 2.7273 - val_loss: 2.6578 - val_mae: 2.6578 - lr: 0.0010\n",
            "Epoch 14/1000\n",
            "25/25 [==============================] - 0s 4ms/step - loss: 2.6711 - mae: 2.6711 - val_loss: 3.1254 - val_mae: 3.1254 - lr: 0.0010\n",
            "Epoch 15/1000\n",
            "25/25 [==============================] - 0s 5ms/step - loss: 2.5750 - mae: 2.5750 - val_loss: 2.6396 - val_mae: 2.6396 - lr: 0.0010\n",
            "Epoch 16/1000\n",
            "25/25 [==============================] - 0s 4ms/step - loss: 2.5913 - mae: 2.5913 - val_loss: 2.6529 - val_mae: 2.6529 - lr: 0.0010\n",
            "Epoch 17/1000\n",
            "25/25 [==============================] - 0s 4ms/step - loss: 2.5407 - mae: 2.5407 - val_loss: 2.7858 - val_mae: 2.7858 - lr: 0.0010\n",
            "Epoch 18/1000\n",
            "25/25 [==============================] - 0s 5ms/step - loss: 2.5122 - mae: 2.5122 - val_loss: 2.5858 - val_mae: 2.5858 - lr: 0.0010\n",
            "Epoch 19/1000\n",
            "25/25 [==============================] - 0s 4ms/step - loss: 2.5444 - mae: 2.5444 - val_loss: 2.7232 - val_mae: 2.7232 - lr: 0.0010\n",
            "Epoch 20/1000\n",
            "25/25 [==============================] - 0s 5ms/step - loss: 2.5468 - mae: 2.5468 - val_loss: 2.5602 - val_mae: 2.5602 - lr: 0.0010\n",
            "Epoch 21/1000\n",
            "25/25 [==============================] - 0s 5ms/step - loss: 2.4427 - mae: 2.4427 - val_loss: 2.4268 - val_mae: 2.4268 - lr: 0.0010\n",
            "Epoch 22/1000\n",
            "25/25 [==============================] - 0s 4ms/step - loss: 2.4835 - mae: 2.4835 - val_loss: 2.8461 - val_mae: 2.8461 - lr: 0.0010\n",
            "Epoch 23/1000\n",
            "25/25 [==============================] - 0s 4ms/step - loss: 2.4293 - mae: 2.4293 - val_loss: 2.3018 - val_mae: 2.3018 - lr: 0.0010\n",
            "Epoch 24/1000\n",
            "25/25 [==============================] - 0s 4ms/step - loss: 2.4164 - mae: 2.4164 - val_loss: 2.4824 - val_mae: 2.4824 - lr: 0.0010\n",
            "Epoch 25/1000\n",
            "25/25 [==============================] - 0s 4ms/step - loss: 2.4595 - mae: 2.4595 - val_loss: 2.7276 - val_mae: 2.7276 - lr: 0.0010\n",
            "Epoch 26/1000\n",
            "25/25 [==============================] - 0s 4ms/step - loss: 2.3630 - mae: 2.3630 - val_loss: 2.5490 - val_mae: 2.5490 - lr: 0.0010\n",
            "Epoch 27/1000\n",
            "25/25 [==============================] - 0s 4ms/step - loss: 2.3997 - mae: 2.3997 - val_loss: 2.3772 - val_mae: 2.3772 - lr: 0.0010\n",
            "Epoch 28/1000\n",
            "25/25 [==============================] - 0s 4ms/step - loss: 2.4028 - mae: 2.4028 - val_loss: 2.6041 - val_mae: 2.6041 - lr: 0.0010\n",
            "Epoch 29/1000\n",
            "25/25 [==============================] - 0s 4ms/step - loss: 2.3903 - mae: 2.3903 - val_loss: 2.5474 - val_mae: 2.5474 - lr: 0.0010\n",
            "Epoch 30/1000\n",
            "25/25 [==============================] - 0s 4ms/step - loss: 2.3827 - mae: 2.3827 - val_loss: 2.3175 - val_mae: 2.3175 - lr: 0.0010\n",
            "Epoch 31/1000\n",
            "25/25 [==============================] - 0s 4ms/step - loss: 2.3839 - mae: 2.3839 - val_loss: 2.4030 - val_mae: 2.4030 - lr: 0.0010\n",
            "Epoch 32/1000\n",
            "25/25 [==============================] - 0s 3ms/step - loss: 2.4270 - mae: 2.4270 - val_loss: 2.3114 - val_mae: 2.3114 - lr: 0.0010\n",
            "Epoch 33/1000\n",
            "25/25 [==============================] - 0s 4ms/step - loss: 2.3719 - mae: 2.3719 - val_loss: 2.3258 - val_mae: 2.3258 - lr: 0.0010\n",
            "Epoch 34/1000\n",
            "25/25 [==============================] - 0s 4ms/step - loss: 2.3406 - mae: 2.3406 - val_loss: 2.4590 - val_mae: 2.4590 - lr: 0.0010\n",
            "Epoch 35/1000\n",
            "25/25 [==============================] - 0s 5ms/step - loss: 2.3355 - mae: 2.3355 - val_loss: 2.2057 - val_mae: 2.2057 - lr: 0.0010\n",
            "Epoch 36/1000\n",
            "25/25 [==============================] - 0s 4ms/step - loss: 2.3886 - mae: 2.3886 - val_loss: 2.4838 - val_mae: 2.4838 - lr: 0.0010\n",
            "Epoch 37/1000\n",
            "25/25 [==============================] - 0s 6ms/step - loss: 2.3038 - mae: 2.3038 - val_loss: 2.2054 - val_mae: 2.2054 - lr: 0.0010\n",
            "Epoch 38/1000\n",
            "25/25 [==============================] - 0s 4ms/step - loss: 2.3100 - mae: 2.3100 - val_loss: 2.2101 - val_mae: 2.2101 - lr: 0.0010\n",
            "Epoch 39/1000\n",
            "25/25 [==============================] - 0s 4ms/step - loss: 2.3224 - mae: 2.3224 - val_loss: 2.4728 - val_mae: 2.4728 - lr: 0.0010\n",
            "Epoch 40/1000\n",
            "25/25 [==============================] - 0s 5ms/step - loss: 2.3204 - mae: 2.3204 - val_loss: 2.1695 - val_mae: 2.1695 - lr: 0.0010\n",
            "Epoch 41/1000\n",
            "25/25 [==============================] - 0s 4ms/step - loss: 2.2806 - mae: 2.2806 - val_loss: 2.7842 - val_mae: 2.7842 - lr: 0.0010\n",
            "Epoch 42/1000\n",
            "25/25 [==============================] - 0s 4ms/step - loss: 2.3361 - mae: 2.3361 - val_loss: 2.2130 - val_mae: 2.2130 - lr: 0.0010\n",
            "Epoch 43/1000\n",
            "25/25 [==============================] - 0s 4ms/step - loss: 2.3653 - mae: 2.3653 - val_loss: 2.6956 - val_mae: 2.6956 - lr: 0.0010\n",
            "Epoch 44/1000\n",
            "25/25 [==============================] - 0s 4ms/step - loss: 2.2902 - mae: 2.2902 - val_loss: 2.4498 - val_mae: 2.4498 - lr: 0.0010\n",
            "Epoch 45/1000\n",
            "25/25 [==============================] - 0s 4ms/step - loss: 2.2616 - mae: 2.2616 - val_loss: 2.4943 - val_mae: 2.4943 - lr: 0.0010\n",
            "Epoch 46/1000\n",
            "25/25 [==============================] - 0s 6ms/step - loss: 2.2513 - mae: 2.2513 - val_loss: 2.1300 - val_mae: 2.1300 - lr: 0.0010\n",
            "Epoch 47/1000\n",
            "25/25 [==============================] - 0s 3ms/step - loss: 2.2069 - mae: 2.2069 - val_loss: 2.6627 - val_mae: 2.6627 - lr: 0.0010\n",
            "Epoch 48/1000\n",
            "25/25 [==============================] - 0s 5ms/step - loss: 2.2366 - mae: 2.2366 - val_loss: 2.0750 - val_mae: 2.0750 - lr: 0.0010\n",
            "Epoch 49/1000\n",
            "25/25 [==============================] - 0s 4ms/step - loss: 2.2575 - mae: 2.2575 - val_loss: 2.1567 - val_mae: 2.1567 - lr: 0.0010\n",
            "Epoch 50/1000\n",
            "25/25 [==============================] - 0s 3ms/step - loss: 2.1850 - mae: 2.1850 - val_loss: 2.4649 - val_mae: 2.4649 - lr: 0.0010\n",
            "Epoch 51/1000\n",
            "25/25 [==============================] - 0s 4ms/step - loss: 2.2347 - mae: 2.2347 - val_loss: 2.1281 - val_mae: 2.1281 - lr: 0.0010\n",
            "Epoch 52/1000\n",
            "25/25 [==============================] - 0s 3ms/step - loss: 2.2085 - mae: 2.2085 - val_loss: 2.3784 - val_mae: 2.3784 - lr: 0.0010\n",
            "Epoch 53/1000\n",
            "25/25 [==============================] - 0s 3ms/step - loss: 2.1872 - mae: 2.1872 - val_loss: 2.0854 - val_mae: 2.0854 - lr: 0.0010\n",
            "Epoch 54/1000\n",
            "25/25 [==============================] - 0s 5ms/step - loss: 2.1686 - mae: 2.1686 - val_loss: 2.0691 - val_mae: 2.0691 - lr: 0.0010\n",
            "Epoch 55/1000\n",
            "25/25 [==============================] - 0s 4ms/step - loss: 2.1519 - mae: 2.1519 - val_loss: 2.6429 - val_mae: 2.6429 - lr: 0.0010\n",
            "Epoch 56/1000\n",
            "25/25 [==============================] - 0s 4ms/step - loss: 2.1560 - mae: 2.1560 - val_loss: 3.1298 - val_mae: 3.1298 - lr: 0.0010\n",
            "Epoch 57/1000\n",
            "25/25 [==============================] - 0s 4ms/step - loss: 2.1243 - mae: 2.1243 - val_loss: 2.2689 - val_mae: 2.2689 - lr: 0.0010\n",
            "Epoch 58/1000\n",
            "25/25 [==============================] - 0s 4ms/step - loss: 2.1096 - mae: 2.1096 - val_loss: 2.3764 - val_mae: 2.3764 - lr: 0.0010\n",
            "Epoch 59/1000\n",
            "25/25 [==============================] - 0s 5ms/step - loss: 2.1101 - mae: 2.1101 - val_loss: 2.0474 - val_mae: 2.0474 - lr: 0.0010\n",
            "Epoch 60/1000\n",
            "25/25 [==============================] - 0s 4ms/step - loss: 2.1417 - mae: 2.1417 - val_loss: 2.2946 - val_mae: 2.2946 - lr: 0.0010\n",
            "Epoch 61/1000\n",
            "25/25 [==============================] - 0s 3ms/step - loss: 2.1094 - mae: 2.1094 - val_loss: 2.0673 - val_mae: 2.0673 - lr: 0.0010\n",
            "Epoch 62/1000\n",
            "25/25 [==============================] - 0s 4ms/step - loss: 2.1345 - mae: 2.1345 - val_loss: 2.5747 - val_mae: 2.5747 - lr: 0.0010\n",
            "Epoch 63/1000\n",
            "25/25 [==============================] - 0s 4ms/step - loss: 2.1046 - mae: 2.1046 - val_loss: 2.1941 - val_mae: 2.1941 - lr: 0.0010\n",
            "Epoch 64/1000\n",
            "25/25 [==============================] - 0s 4ms/step - loss: 2.0895 - mae: 2.0895 - val_loss: 2.1503 - val_mae: 2.1503 - lr: 0.0010\n",
            "Epoch 65/1000\n",
            "25/25 [==============================] - 0s 5ms/step - loss: 2.0766 - mae: 2.0766 - val_loss: 1.9385 - val_mae: 1.9385 - lr: 0.0010\n",
            "Epoch 66/1000\n",
            "25/25 [==============================] - 0s 4ms/step - loss: 2.1304 - mae: 2.1304 - val_loss: 2.5397 - val_mae: 2.5397 - lr: 0.0010\n",
            "Epoch 67/1000\n",
            "25/25 [==============================] - 0s 4ms/step - loss: 2.0645 - mae: 2.0645 - val_loss: 2.2181 - val_mae: 2.2181 - lr: 0.0010\n",
            "Epoch 68/1000\n",
            "25/25 [==============================] - 0s 4ms/step - loss: 2.0563 - mae: 2.0563 - val_loss: 1.9600 - val_mae: 1.9600 - lr: 0.0010\n",
            "Epoch 69/1000\n",
            "25/25 [==============================] - 0s 4ms/step - loss: 2.1333 - mae: 2.1333 - val_loss: 2.7491 - val_mae: 2.7491 - lr: 0.0010\n",
            "Epoch 70/1000\n",
            "25/25 [==============================] - 0s 4ms/step - loss: 2.0691 - mae: 2.0691 - val_loss: 1.9818 - val_mae: 1.9818 - lr: 0.0010\n",
            "Epoch 71/1000\n",
            "25/25 [==============================] - 0s 5ms/step - loss: 2.0652 - mae: 2.0652 - val_loss: 2.0911 - val_mae: 2.0911 - lr: 0.0010\n",
            "Epoch 72/1000\n",
            "25/25 [==============================] - 0s 4ms/step - loss: 2.0450 - mae: 2.0450 - val_loss: 2.2618 - val_mae: 2.2618 - lr: 0.0010\n",
            "Epoch 73/1000\n",
            "25/25 [==============================] - 0s 4ms/step - loss: 2.0508 - mae: 2.0508 - val_loss: 2.3912 - val_mae: 2.3912 - lr: 0.0010\n",
            "Epoch 74/1000\n",
            "25/25 [==============================] - 0s 3ms/step - loss: 1.9584 - mae: 1.9584 - val_loss: 1.9594 - val_mae: 1.9594 - lr: 0.0010\n",
            "Epoch 75/1000\n",
            "25/25 [==============================] - 0s 4ms/step - loss: 1.9570 - mae: 1.9570 - val_loss: 2.0139 - val_mae: 2.0139 - lr: 0.0010\n",
            "Epoch 76/1000\n",
            "25/25 [==============================] - 0s 5ms/step - loss: 2.0060 - mae: 2.0060 - val_loss: 1.9151 - val_mae: 1.9151 - lr: 0.0010\n",
            "Epoch 77/1000\n",
            "25/25 [==============================] - 0s 4ms/step - loss: 2.0090 - mae: 2.0090 - val_loss: 1.9349 - val_mae: 1.9349 - lr: 0.0010\n",
            "Epoch 78/1000\n",
            "25/25 [==============================] - 0s 4ms/step - loss: 1.9890 - mae: 1.9890 - val_loss: 1.9928 - val_mae: 1.9928 - lr: 0.0010\n",
            "Epoch 79/1000\n",
            "25/25 [==============================] - 0s 3ms/step - loss: 2.0204 - mae: 2.0204 - val_loss: 2.4180 - val_mae: 2.4180 - lr: 0.0010\n",
            "Epoch 80/1000\n",
            "25/25 [==============================] - 0s 4ms/step - loss: 1.9602 - mae: 1.9602 - val_loss: 2.4076 - val_mae: 2.4076 - lr: 0.0010\n",
            "Epoch 81/1000\n",
            "25/25 [==============================] - 0s 4ms/step - loss: 1.9715 - mae: 1.9715 - val_loss: 1.9794 - val_mae: 1.9794 - lr: 0.0010\n",
            "Epoch 82/1000\n",
            "25/25 [==============================] - 0s 4ms/step - loss: 1.9615 - mae: 1.9615 - val_loss: 2.1206 - val_mae: 2.1206 - lr: 0.0010\n",
            "Epoch 83/1000\n",
            "25/25 [==============================] - 0s 3ms/step - loss: 1.9743 - mae: 1.9743 - val_loss: 1.9688 - val_mae: 1.9688 - lr: 0.0010\n",
            "Epoch 84/1000\n",
            "25/25 [==============================] - 0s 3ms/step - loss: 1.9816 - mae: 1.9816 - val_loss: 2.1039 - val_mae: 2.1039 - lr: 0.0010\n",
            "Epoch 85/1000\n",
            "25/25 [==============================] - 0s 4ms/step - loss: 1.9862 - mae: 1.9862 - val_loss: 2.2727 - val_mae: 2.2727 - lr: 0.0010\n",
            "Epoch 86/1000\n",
            "25/25 [==============================] - 0s 4ms/step - loss: 1.9217 - mae: 1.9217 - val_loss: 1.9238 - val_mae: 1.9238 - lr: 0.0010\n",
            "Epoch 87/1000\n",
            "25/25 [==============================] - 0s 4ms/step - loss: 2.0214 - mae: 2.0214 - val_loss: 2.3737 - val_mae: 2.3737 - lr: 0.0010\n",
            "Epoch 88/1000\n",
            "25/25 [==============================] - 0s 4ms/step - loss: 1.9427 - mae: 1.9427 - val_loss: 1.9255 - val_mae: 1.9255 - lr: 0.0010\n",
            "Epoch 89/1000\n",
            "25/25 [==============================] - 0s 4ms/step - loss: 1.9874 - mae: 1.9874 - val_loss: 2.1076 - val_mae: 2.1076 - lr: 0.0010\n",
            "Epoch 90/1000\n",
            "25/25 [==============================] - 0s 4ms/step - loss: 1.9199 - mae: 1.9199 - val_loss: 2.1395 - val_mae: 2.1395 - lr: 0.0010\n",
            "Epoch 91/1000\n",
            "25/25 [==============================] - 0s 4ms/step - loss: 1.9468 - mae: 1.9468 - val_loss: 2.2433 - val_mae: 2.2433 - lr: 0.0010\n",
            "Epoch 92/1000\n",
            "25/25 [==============================] - 0s 4ms/step - loss: 1.9407 - mae: 1.9407 - val_loss: 2.0802 - val_mae: 2.0802 - lr: 0.0010\n",
            "Epoch 93/1000\n",
            "25/25 [==============================] - 0s 4ms/step - loss: 1.9362 - mae: 1.9362 - val_loss: 2.4717 - val_mae: 2.4717 - lr: 0.0010\n",
            "Epoch 94/1000\n",
            "25/25 [==============================] - 0s 6ms/step - loss: 1.9303 - mae: 1.9303 - val_loss: 1.9261 - val_mae: 1.9261 - lr: 0.0010\n",
            "Epoch 95/1000\n",
            "25/25 [==============================] - 0s 4ms/step - loss: 1.9401 - mae: 1.9401 - val_loss: 1.9868 - val_mae: 1.9868 - lr: 0.0010\n",
            "Epoch 96/1000\n",
            "25/25 [==============================] - 0s 4ms/step - loss: 1.8976 - mae: 1.8976 - val_loss: 1.9521 - val_mae: 1.9521 - lr: 0.0010\n",
            "Epoch 97/1000\n",
            "25/25 [==============================] - 0s 4ms/step - loss: 1.9142 - mae: 1.9142 - val_loss: 1.9517 - val_mae: 1.9517 - lr: 0.0010\n",
            "Epoch 98/1000\n",
            "25/25 [==============================] - 0s 4ms/step - loss: 1.9508 - mae: 1.9508 - val_loss: 1.9505 - val_mae: 1.9505 - lr: 0.0010\n",
            "Epoch 99/1000\n",
            "25/25 [==============================] - 0s 4ms/step - loss: 1.9198 - mae: 1.9198 - val_loss: 1.9846 - val_mae: 1.9846 - lr: 0.0010\n",
            "Epoch 100/1000\n",
            "25/25 [==============================] - 0s 5ms/step - loss: 1.9116 - mae: 1.9116 - val_loss: 1.8933 - val_mae: 1.8933 - lr: 0.0010\n",
            "Epoch 101/1000\n",
            "25/25 [==============================] - 0s 4ms/step - loss: 1.9074 - mae: 1.9074 - val_loss: 2.1853 - val_mae: 2.1853 - lr: 0.0010\n",
            "Epoch 102/1000\n",
            "25/25 [==============================] - 0s 4ms/step - loss: 1.9604 - mae: 1.9604 - val_loss: 1.9929 - val_mae: 1.9929 - lr: 0.0010\n",
            "Epoch 103/1000\n",
            "25/25 [==============================] - 0s 6ms/step - loss: 1.9000 - mae: 1.9000 - val_loss: 1.9257 - val_mae: 1.9257 - lr: 0.0010\n",
            "Epoch 104/1000\n",
            "25/25 [==============================] - 0s 4ms/step - loss: 1.8803 - mae: 1.8803 - val_loss: 1.9169 - val_mae: 1.9169 - lr: 0.0010\n",
            "Epoch 105/1000\n",
            "25/25 [==============================] - 0s 3ms/step - loss: 1.8757 - mae: 1.8757 - val_loss: 2.1981 - val_mae: 2.1981 - lr: 0.0010\n",
            "Epoch 106/1000\n",
            "25/25 [==============================] - 0s 5ms/step - loss: 1.9112 - mae: 1.9112 - val_loss: 1.8802 - val_mae: 1.8802 - lr: 0.0010\n",
            "Epoch 107/1000\n",
            "25/25 [==============================] - 0s 4ms/step - loss: 1.8885 - mae: 1.8885 - val_loss: 1.9365 - val_mae: 1.9365 - lr: 0.0010\n",
            "Epoch 108/1000\n",
            "25/25 [==============================] - 0s 4ms/step - loss: 1.8140 - mae: 1.8140 - val_loss: 2.5994 - val_mae: 2.5994 - lr: 0.0010\n",
            "Epoch 109/1000\n",
            "25/25 [==============================] - 0s 4ms/step - loss: 1.9221 - mae: 1.9221 - val_loss: 2.0838 - val_mae: 2.0838 - lr: 0.0010\n",
            "Epoch 110/1000\n",
            "25/25 [==============================] - 0s 4ms/step - loss: 1.8918 - mae: 1.8918 - val_loss: 1.9545 - val_mae: 1.9545 - lr: 0.0010\n",
            "Epoch 111/1000\n",
            "25/25 [==============================] - 0s 4ms/step - loss: 1.9086 - mae: 1.9086 - val_loss: 2.0483 - val_mae: 2.0483 - lr: 0.0010\n",
            "Epoch 112/1000\n",
            "25/25 [==============================] - 0s 4ms/step - loss: 1.9445 - mae: 1.9445 - val_loss: 2.0136 - val_mae: 2.0136 - lr: 0.0010\n",
            "Epoch 113/1000\n",
            "25/25 [==============================] - 0s 4ms/step - loss: 1.9142 - mae: 1.9142 - val_loss: 2.0508 - val_mae: 2.0508 - lr: 0.0010\n",
            "Epoch 114/1000\n",
            "25/25 [==============================] - 0s 4ms/step - loss: 1.8585 - mae: 1.8585 - val_loss: 2.1371 - val_mae: 2.1371 - lr: 0.0010\n",
            "Epoch 115/1000\n",
            "25/25 [==============================] - 0s 4ms/step - loss: 1.8803 - mae: 1.8803 - val_loss: 1.9858 - val_mae: 1.9858 - lr: 0.0010\n",
            "Epoch 116/1000\n",
            "25/25 [==============================] - 0s 4ms/step - loss: 1.8505 - mae: 1.8505 - val_loss: 2.1220 - val_mae: 2.1220 - lr: 0.0010\n",
            "Epoch 117/1000\n",
            "25/25 [==============================] - 0s 4ms/step - loss: 1.8557 - mae: 1.8557 - val_loss: 2.0879 - val_mae: 2.0879 - lr: 0.0010\n",
            "Epoch 118/1000\n",
            "25/25 [==============================] - 0s 4ms/step - loss: 1.8851 - mae: 1.8851 - val_loss: 1.9858 - val_mae: 1.9858 - lr: 0.0010\n",
            "Epoch 119/1000\n",
            "25/25 [==============================] - 0s 4ms/step - loss: 1.9053 - mae: 1.9053 - val_loss: 2.3414 - val_mae: 2.3414 - lr: 0.0010\n",
            "Epoch 120/1000\n",
            "25/25 [==============================] - 0s 3ms/step - loss: 1.8982 - mae: 1.8982 - val_loss: 1.9855 - val_mae: 1.9855 - lr: 0.0010\n",
            "Epoch 121/1000\n",
            "25/25 [==============================] - 0s 4ms/step - loss: 1.8834 - mae: 1.8834 - val_loss: 2.5161 - val_mae: 2.5161 - lr: 0.0010\n",
            "Epoch 122/1000\n",
            "25/25 [==============================] - 0s 4ms/step - loss: 1.9110 - mae: 1.9110 - val_loss: 1.9613 - val_mae: 1.9613 - lr: 0.0010\n",
            "Epoch 123/1000\n",
            "25/25 [==============================] - 0s 4ms/step - loss: 1.9168 - mae: 1.9168 - val_loss: 1.9036 - val_mae: 1.9036 - lr: 0.0010\n",
            "Epoch 124/1000\n",
            "25/25 [==============================] - 0s 4ms/step - loss: 1.8919 - mae: 1.8919 - val_loss: 2.1814 - val_mae: 2.1814 - lr: 0.0010\n",
            "Epoch 125/1000\n",
            "25/25 [==============================] - 0s 4ms/step - loss: 1.8609 - mae: 1.8609 - val_loss: 2.0342 - val_mae: 2.0342 - lr: 0.0010\n",
            "Epoch 126/1000\n",
            "25/25 [==============================] - 0s 4ms/step - loss: 1.8491 - mae: 1.8491 - val_loss: 2.3151 - val_mae: 2.3151 - lr: 0.0010\n",
            "Epoch 127/1000\n",
            "25/25 [==============================] - 0s 4ms/step - loss: 1.8634 - mae: 1.8634 - val_loss: 1.9755 - val_mae: 1.9755 - lr: 0.0010\n",
            "Epoch 128/1000\n",
            "25/25 [==============================] - 0s 4ms/step - loss: 1.8610 - mae: 1.8610 - val_loss: 2.1021 - val_mae: 2.1021 - lr: 0.0010\n",
            "Epoch 129/1000\n",
            "25/25 [==============================] - 0s 3ms/step - loss: 1.8777 - mae: 1.8777 - val_loss: 2.0013 - val_mae: 2.0013 - lr: 0.0010\n",
            "Epoch 130/1000\n",
            "25/25 [==============================] - 0s 4ms/step - loss: 1.8844 - mae: 1.8844 - val_loss: 1.9785 - val_mae: 1.9785 - lr: 0.0010\n",
            "Epoch 131/1000\n",
            "25/25 [==============================] - 0s 4ms/step - loss: 1.8013 - mae: 1.8013 - val_loss: 2.5501 - val_mae: 2.5501 - lr: 0.0010\n",
            "Epoch 132/1000\n",
            "25/25 [==============================] - 0s 4ms/step - loss: 1.8896 - mae: 1.8896 - val_loss: 2.0375 - val_mae: 2.0375 - lr: 0.0010\n",
            "Epoch 133/1000\n",
            "25/25 [==============================] - 0s 4ms/step - loss: 1.8726 - mae: 1.8726 - val_loss: 1.9835 - val_mae: 1.9835 - lr: 0.0010\n",
            "Epoch 134/1000\n",
            "25/25 [==============================] - 0s 4ms/step - loss: 1.8825 - mae: 1.8825 - val_loss: 2.0960 - val_mae: 2.0960 - lr: 0.0010\n",
            "Epoch 135/1000\n",
            "25/25 [==============================] - 0s 4ms/step - loss: 1.8511 - mae: 1.8511 - val_loss: 2.0031 - val_mae: 2.0031 - lr: 0.0010\n",
            "Epoch 136/1000\n",
            "25/25 [==============================] - 0s 4ms/step - loss: 1.8675 - mae: 1.8675 - val_loss: 1.9416 - val_mae: 1.9416 - lr: 0.0010\n",
            "Epoch 137/1000\n",
            "25/25 [==============================] - 0s 4ms/step - loss: 1.8265 - mae: 1.8265 - val_loss: 1.9025 - val_mae: 1.9025 - lr: 0.0010\n",
            "Epoch 138/1000\n",
            "25/25 [==============================] - 0s 4ms/step - loss: 1.8787 - mae: 1.8787 - val_loss: 2.2019 - val_mae: 2.2019 - lr: 0.0010\n",
            "Epoch 139/1000\n",
            "25/25 [==============================] - 0s 4ms/step - loss: 1.9020 - mae: 1.9020 - val_loss: 2.0650 - val_mae: 2.0650 - lr: 0.0010\n",
            "Epoch 140/1000\n",
            "25/25 [==============================] - 0s 4ms/step - loss: 1.8569 - mae: 1.8569 - val_loss: 2.2899 - val_mae: 2.2899 - lr: 0.0010\n",
            "Epoch 141/1000\n",
            "25/25 [==============================] - 0s 5ms/step - loss: 1.8763 - mae: 1.8763 - val_loss: 2.1374 - val_mae: 2.1374 - lr: 0.0010\n",
            "Epoch 142/1000\n",
            "25/25 [==============================] - 0s 4ms/step - loss: 1.8774 - mae: 1.8774 - val_loss: 1.9279 - val_mae: 1.9279 - lr: 0.0010\n",
            "Epoch 143/1000\n",
            "25/25 [==============================] - 0s 4ms/step - loss: 1.9017 - mae: 1.9017 - val_loss: 2.0329 - val_mae: 2.0329 - lr: 0.0010\n",
            "Epoch 144/1000\n",
            "25/25 [==============================] - 0s 4ms/step - loss: 1.8547 - mae: 1.8547 - val_loss: 1.9551 - val_mae: 1.9551 - lr: 0.0010\n",
            "Epoch 145/1000\n",
            "25/25 [==============================] - 0s 4ms/step - loss: 1.8614 - mae: 1.8614 - val_loss: 2.0265 - val_mae: 2.0265 - lr: 0.0010\n",
            "Epoch 146/1000\n",
            "25/25 [==============================] - 0s 4ms/step - loss: 1.8032 - mae: 1.8032 - val_loss: 1.9041 - val_mae: 1.9041 - lr: 0.0010\n",
            "Epoch 147/1000\n",
            "25/25 [==============================] - 0s 4ms/step - loss: 1.7704 - mae: 1.7704 - val_loss: 2.0439 - val_mae: 2.0439 - lr: 2.0000e-04\n",
            "Epoch 148/1000\n",
            "25/25 [==============================] - 0s 4ms/step - loss: 1.8503 - mae: 1.8503 - val_loss: 1.9945 - val_mae: 1.9945 - lr: 2.0000e-04\n",
            "Epoch 149/1000\n",
            "25/25 [==============================] - 0s 4ms/step - loss: 1.7914 - mae: 1.7914 - val_loss: 1.9784 - val_mae: 1.9784 - lr: 2.0000e-04\n",
            "Epoch 150/1000\n",
            "25/25 [==============================] - 0s 4ms/step - loss: 1.7978 - mae: 1.7978 - val_loss: 2.0620 - val_mae: 2.0620 - lr: 2.0000e-04\n",
            "Epoch 151/1000\n",
            "25/25 [==============================] - 0s 4ms/step - loss: 1.7971 - mae: 1.7971 - val_loss: 1.9771 - val_mae: 1.9771 - lr: 2.0000e-04\n",
            "Epoch 152/1000\n",
            "25/25 [==============================] - 0s 4ms/step - loss: 1.7901 - mae: 1.7901 - val_loss: 2.1331 - val_mae: 2.1331 - lr: 2.0000e-04\n",
            "Epoch 153/1000\n",
            "25/25 [==============================] - 0s 4ms/step - loss: 1.8080 - mae: 1.8080 - val_loss: 1.9845 - val_mae: 1.9845 - lr: 2.0000e-04\n",
            "Epoch 154/1000\n",
            "25/25 [==============================] - 0s 4ms/step - loss: 1.7852 - mae: 1.7852 - val_loss: 1.9133 - val_mae: 1.9133 - lr: 2.0000e-04\n",
            "Epoch 155/1000\n",
            "25/25 [==============================] - 0s 4ms/step - loss: 1.8067 - mae: 1.8067 - val_loss: 2.0235 - val_mae: 2.0235 - lr: 2.0000e-04\n",
            "Epoch 156/1000\n",
            "25/25 [==============================] - 0s 4ms/step - loss: 1.7935 - mae: 1.7935 - val_loss: 2.0930 - val_mae: 2.0930 - lr: 2.0000e-04\n"
          ]
        },
        {
          "output_type": "execute_result",
          "data": {
            "text/plain": [
              "<keras.callbacks.History at 0x7fb8a72cd250>"
            ]
          },
          "metadata": {},
          "execution_count": 15
        }
      ]
    },
    {
      "cell_type": "code",
      "source": [
        "#Y_prediction = model.predict(test).flatten()"
      ],
      "metadata": {
        "id": "JqTOxpPdQ5fR"
      },
      "execution_count": 17,
      "outputs": []
    }
  ]
}