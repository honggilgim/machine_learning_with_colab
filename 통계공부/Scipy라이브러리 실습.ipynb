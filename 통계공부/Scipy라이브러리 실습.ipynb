{
  "nbformat": 4,
  "nbformat_minor": 0,
  "metadata": {
    "colab": {
      "name": "Scipy.ipynb",
      "provenance": [],
      "authorship_tag": "ABX9TyM4zG0XGDd1TPYyXvZDvgIS",
      "include_colab_link": true
    },
    "kernelspec": {
      "name": "python3",
      "display_name": "Python 3"
    },
    "language_info": {
      "name": "python"
    }
  },
  "cells": [
    {
      "cell_type": "markdown",
      "metadata": {
        "id": "view-in-github",
        "colab_type": "text"
      },
      "source": [
        "<a href=\"https://colab.research.google.com/github/honggilgim/python_test_with_colab/blob/main/Scipy.ipynb\" target=\"_parent\"><img src=\"https://colab.research.google.com/assets/colab-badge.svg\" alt=\"Open In Colab\"/></a>"
      ]
    },
    {
      "cell_type": "code",
      "execution_count": null,
      "metadata": {
        "id": "d422qudxcU3K"
      },
      "outputs": [],
      "source": [
        "def f(x):\n",
        "  return (x**3-1)"
      ]
    },
    {
      "cell_type": "code",
      "source": [
        "from scipy import optimize"
      ],
      "metadata": {
        "id": "KWVYtTnCcebN"
      },
      "execution_count": null,
      "outputs": []
    },
    {
      "cell_type": "code",
      "source": [
        "root = optimize.newton(f, 1.5)\n",
        "print(root)"
      ],
      "metadata": {
        "colab": {
          "base_uri": "https://localhost:8080/"
        },
        "id": "BGsj3oa2cecQ",
        "outputId": "e52fb10f-976a-42b5-f15e-dce5dcf67fe7"
      },
      "execution_count": null,
      "outputs": [
        {
          "output_type": "stream",
          "name": "stdout",
          "text": [
            "1.0000000000000016\n"
          ]
        }
      ]
    },
    {
      "cell_type": "code",
      "source": [
        "root = optimize.newton(f, 1.5, fprime = lambda x: 3* x**2)\n",
        "print(root)"
      ],
      "metadata": {
        "colab": {
          "base_uri": "https://localhost:8080/"
        },
        "id": "VFJW_HNocedY",
        "outputId": "5e784ed4-4305-4604-a2ad-824d9d79a209"
      },
      "execution_count": null,
      "outputs": [
        {
          "output_type": "stream",
          "name": "stdout",
          "text": [
            "1.0\n"
          ]
        }
      ]
    },
    {
      "cell_type": "code",
      "source": [
        "cur_x=3"
      ],
      "metadata": {
        "id": "pmmsO47ZiYUI"
      },
      "execution_count": null,
      "outputs": []
    },
    {
      "cell_type": "code",
      "source": [
        "rate=0.01"
      ],
      "metadata": {
        "id": "eLbXDQShibTP"
      },
      "execution_count": null,
      "outputs": []
    },
    {
      "cell_type": "code",
      "source": [
        "percision=0.000001"
      ],
      "metadata": {
        "id": "SvF2lSrNida_"
      },
      "execution_count": null,
      "outputs": []
    },
    {
      "cell_type": "code",
      "source": [
        "pervious_step_size=1"
      ],
      "metadata": {
        "id": "-sRIwtH0ig9O"
      },
      "execution_count": null,
      "outputs": []
    },
    {
      "cell_type": "code",
      "source": [
        "max_iters = 10000"
      ],
      "metadata": {
        "id": "LeJGK3GqimYI"
      },
      "execution_count": null,
      "outputs": []
    },
    {
      "cell_type": "code",
      "source": [
        "iters = 0\n",
        "df = lambda x: 2*(x+5)\n",
        "while(pervious_step_size > percision) and (iters < max_iters):\n",
        "  perv_x = cur_x\n",
        "  cur_x=cur_x-rate * df(perv_x)\n",
        "  previous_step_size = abs(cur_x - perv_x)\n",
        "  iters = iters+1"
      ],
      "metadata": {
        "id": "f4-KEOPjirGm"
      },
      "execution_count": null,
      "outputs": []
    },
    {
      "cell_type": "code",
      "source": [
        "print(\"국소 최소값은?\", cur_x)"
      ],
      "metadata": {
        "colab": {
          "base_uri": "https://localhost:8080/"
        },
        "id": "xDphhm1MirHS",
        "outputId": "a1a3838d-c310-44d1-9b5a-89dd2ae643f8"
      },
      "execution_count": null,
      "outputs": [
        {
          "output_type": "stream",
          "name": "stdout",
          "text": [
            "국소 최소값은? -4.999999999999979\n"
          ]
        }
      ]
    },
    {
      "cell_type": "code",
      "source": [
        ""
      ],
      "metadata": {
        "id": "L78BxYwHirIG"
      },
      "execution_count": null,
      "outputs": []
    },
    {
      "cell_type": "code",
      "source": [
        ""
      ],
      "metadata": {
        "id": "e6h0kbwoirI-"
      },
      "execution_count": null,
      "outputs": []
    }
  ]
}
