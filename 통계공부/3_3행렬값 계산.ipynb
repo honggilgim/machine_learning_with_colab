{
  "nbformat": 4,
  "nbformat_minor": 0,
  "metadata": {
    "colab": {
      "name": "3*3array.ipynb",
      "provenance": [],
      "authorship_tag": "ABX9TyNdLPjNwLLGGdmRqnLRbR9c",
      "include_colab_link": true
    },
    "kernelspec": {
      "name": "python3",
      "display_name": "Python 3"
    },
    "language_info": {
      "name": "python"
    }
  },
  "cells": [
    {
      "cell_type": "markdown",
      "metadata": {
        "id": "view-in-github",
        "colab_type": "text"
      },
      "source": [
        "<a href=\"https://colab.research.google.com/github/honggilgim/python_test_with_colab/blob/main/3_3array.ipynb\" target=\"_parent\"><img src=\"https://colab.research.google.com/assets/colab-badge.svg\" alt=\"Open In Colab\"/></a>"
      ]
    },
    {
      "cell_type": "code",
      "execution_count": null,
      "metadata": {
        "id": "KHQBtQJuZBAp"
      },
      "outputs": [],
      "source": [
        ""
      ]
    },
    {
      "cell_type": "code",
      "source": [
        "import numpy as np"
      ],
      "metadata": {
        "id": "jtdNrJiqZE37"
      },
      "execution_count": null,
      "outputs": []
    },
    {
      "cell_type": "code",
      "source": [
        "arr = np.array([[2,3],[1,2]])"
      ],
      "metadata": {
        "id": "fz28PvXkZKeE"
      },
      "execution_count": null,
      "outputs": []
    },
    {
      "cell_type": "code",
      "source": [
        "np.dot(arr,arr)"
      ],
      "metadata": {
        "colab": {
          "base_uri": "https://localhost:8080/"
        },
        "id": "VCQ9rHJdZR4L",
        "outputId": "0ec87f15-1508-4e3b-a21b-20f7a079db76"
      },
      "execution_count": null,
      "outputs": [
        {
          "output_type": "execute_result",
          "data": {
            "text/plain": [
              "array([[ 7, 12],\n",
              "       [ 4,  7]])"
            ]
          },
          "metadata": {},
          "execution_count": 4
        }
      ]
    },
    {
      "cell_type": "code",
      "source": [
        "np.inner(arr,arr)"
      ],
      "metadata": {
        "colab": {
          "base_uri": "https://localhost:8080/"
        },
        "id": "HtFE6OrjZvga",
        "outputId": "a2979b82-1527-4dfe-eb22-47502b0e9c68"
      },
      "execution_count": null,
      "outputs": [
        {
          "output_type": "execute_result",
          "data": {
            "text/plain": [
              "array([[13,  8],\n",
              "       [ 8,  5]])"
            ]
          },
          "metadata": {},
          "execution_count": 5
        }
      ]
    },
    {
      "cell_type": "code",
      "source": [
        "ar2 = np.array([[3,6,9],[6,9,3],[3,9,6]])"
      ],
      "metadata": {
        "id": "lPmsOu7EaD5s"
      },
      "execution_count": null,
      "outputs": []
    },
    {
      "cell_type": "code",
      "source": [
        "np.unique(ar2)"
      ],
      "metadata": {
        "colab": {
          "base_uri": "https://localhost:8080/"
        },
        "id": "jmYFxVpYaJlu",
        "outputId": "83055b0f-fab0-4e30-9327-1b36d25f954b"
      },
      "execution_count": null,
      "outputs": [
        {
          "output_type": "execute_result",
          "data": {
            "text/plain": [
              "array([3, 6, 9])"
            ]
          },
          "metadata": {},
          "execution_count": 14
        }
      ]
    },
    {
      "cell_type": "code",
      "source": [
        "arr1 = np.array([3,6,9])"
      ],
      "metadata": {
        "id": "aUlIagsxaSjU"
      },
      "execution_count": null,
      "outputs": []
    },
    {
      "cell_type": "code",
      "source": [
        "arr2 = np.array([6,9,3])"
      ],
      "metadata": {
        "id": "CbQQSzoJaX4i"
      },
      "execution_count": null,
      "outputs": []
    },
    {
      "cell_type": "code",
      "source": [
        "arr3 = np.array([3,9,6])"
      ],
      "metadata": {
        "id": "NCcZwJs6afAJ"
      },
      "execution_count": null,
      "outputs": []
    },
    {
      "cell_type": "code",
      "source": [
        "np.unique(arr1)"
      ],
      "metadata": {
        "colab": {
          "base_uri": "https://localhost:8080/"
        },
        "id": "rkfYiQ8yaiX5",
        "outputId": "0bc05f7d-8e87-4667-b1d9-7d21b481760f"
      },
      "execution_count": null,
      "outputs": [
        {
          "output_type": "execute_result",
          "data": {
            "text/plain": [
              "array([3, 6, 9])"
            ]
          },
          "metadata": {},
          "execution_count": 17
        }
      ]
    },
    {
      "cell_type": "code",
      "source": [
        "import numpy.linalg as alg\n",
        "\n",
        "A=np.array([[3,6,9],[6,9,3],[3,9,6]])\n",
        "_eigenvalue,_eigenvector=alg.eig(A)\n",
        "print(_eigenvalue)\n",
        "print(_eigenvector)"
      ],
      "metadata": {
        "colab": {
          "base_uri": "https://localhost:8080/"
        },
        "id": "dhOLMtgLcBKM",
        "outputId": "82afad43-1a3d-4d07-f537-a1ed6e1c7529"
      },
      "execution_count": null,
      "outputs": [
        {
          "output_type": "stream",
          "name": "stdout",
          "text": [
            "[ 1.80000000e+01+0.j -6.10622664e-16+3.j -6.10622664e-16-3.j]\n",
            "[[ 0.57735027+0.j          0.74678799+0.j          0.74678799-0.j        ]\n",
            " [ 0.57735027+0.j         -0.41202096-0.28326441j -0.41202096+0.28326441j]\n",
            " [ 0.57735027+0.j          0.02575131+0.43777227j  0.02575131-0.43777227j]]\n"
          ]
        }
      ]
    },
    {
      "cell_type": "code",
      "source": [
        "np.linalg.eig(ar2)"
      ],
      "metadata": {
        "id": "RxOrDubIcXDb",
        "outputId": "8196e117-ce31-40d5-9775-0f1dd2fce0fe",
        "colab": {
          "base_uri": "https://localhost:8080/"
        }
      },
      "execution_count": null,
      "outputs": [
        {
          "output_type": "execute_result",
          "data": {
            "text/plain": [
              "(array([ 1.80000000e+01+0.j, -6.10622664e-16+3.j, -6.10622664e-16-3.j]),\n",
              " array([[ 0.57735027+0.j        ,  0.74678799+0.j        ,\n",
              "          0.74678799-0.j        ],\n",
              "        [ 0.57735027+0.j        , -0.41202096-0.28326441j,\n",
              "         -0.41202096+0.28326441j],\n",
              "        [ 0.57735027+0.j        ,  0.02575131+0.43777227j,\n",
              "          0.02575131-0.43777227j]]))"
            ]
          },
          "metadata": {},
          "execution_count": 19
        }
      ]
    }
  ]
}
