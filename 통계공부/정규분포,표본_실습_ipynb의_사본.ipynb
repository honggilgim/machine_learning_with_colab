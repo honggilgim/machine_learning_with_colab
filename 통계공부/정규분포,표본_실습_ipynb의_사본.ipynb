{
  "nbformat": 4,
  "nbformat_minor": 0,
  "metadata": {
    "colab": {
      "name": "정규분포,표본 실습.ipynb의 사본",
      "provenance": [],
      "collapsed_sections": [],
      "authorship_tag": "ABX9TyPv21y4vOUx2v7b5bQq53Is",
      "include_colab_link": true
    },
    "kernelspec": {
      "name": "python3",
      "display_name": "Python 3"
    },
    "language_info": {
      "name": "python"
    }
  },
  "cells": [
    {
      "cell_type": "markdown",
      "metadata": {
        "id": "view-in-github",
        "colab_type": "text"
      },
      "source": [
        "<a href=\"https://colab.research.google.com/github/honggilgim/python_test_with_colab/blob/main/%EC%A0%95%EA%B7%9C%EB%B6%84%ED%8F%AC%2C%ED%91%9C%EB%B3%B8_%EC%8B%A4%EC%8A%B5_ipynb%EC%9D%98_%EC%82%AC%EB%B3%B8.ipynb\" target=\"_parent\"><img src=\"https://colab.research.google.com/assets/colab-badge.svg\" alt=\"Open In Colab\"/></a>"
      ]
    },
    {
      "cell_type": "code",
      "execution_count": null,
      "metadata": {
        "colab": {
          "base_uri": "https://localhost:8080/"
        },
        "id": "sPM82JdjxMC_",
        "outputId": "78dda9c6-6046-40ea-bde8-20bbe830e6fe"
      },
      "outputs": [
        {
          "output_type": "stream",
          "name": "stdout",
          "text": [
            "Reading package lists... Done\n",
            "Building dependency tree       \n",
            "Reading state information... Done\n",
            "fonts-nanum is already the newest version (20170925-1).\n",
            "The following packages were automatically installed and are no longer required:\n",
            "  libnvidia-common-460 nsight-compute-2020.2.0\n",
            "Use 'sudo apt autoremove' to remove them.\n",
            "0 upgraded, 0 newly installed, 0 to remove and 42 not upgraded.\n",
            "/usr/share/fonts: caching, new cache contents: 0 fonts, 1 dirs\n",
            "/usr/share/fonts/truetype: caching, new cache contents: 0 fonts, 3 dirs\n",
            "/usr/share/fonts/truetype/humor-sans: caching, new cache contents: 1 fonts, 0 dirs\n",
            "/usr/share/fonts/truetype/liberation: caching, new cache contents: 16 fonts, 0 dirs\n",
            "/usr/share/fonts/truetype/nanum: caching, new cache contents: 10 fonts, 0 dirs\n",
            "/usr/local/share/fonts: caching, new cache contents: 0 fonts, 0 dirs\n",
            "/root/.local/share/fonts: skipping, no such directory\n",
            "/root/.fonts: skipping, no such directory\n",
            "/var/cache/fontconfig: cleaning cache directory\n",
            "/root/.cache/fontconfig: not cleaning non-existent cache directory\n",
            "/root/.fontconfig: not cleaning non-existent cache directory\n",
            "fc-cache: succeeded\n"
          ]
        }
      ],
      "source": [
        "!sudo apt-get install -y fonts-nanum\n",
        "!sudo fc-cache -fv\n",
        "!rm ~/.cache/matplotlib -rf"
      ]
    },
    {
      "cell_type": "code",
      "source": [
        "import scipy as sp\n",
        "import scipy.stats\n",
        "import numpy as np\n",
        "import matplotlib.pyplot as plt\n",
        "\n",
        "mu = 0\n",
        "std = 1\n",
        "rv = sp.stats.norm(mu, std)\n",
        "\n",
        "plt.rc('font', family='NanumBarunGothic')\n",
        "\n",
        "xx = np.linspace(-5,5,100)\n",
        "plt.plot(xx,rv.pdf(xx))\n",
        "plt.arrow(0,0.05,2,0,lw=3, color='r',\n",
        "          head_width=0.02, head_length=0.2, length_includes_head=True)\n",
        "plt.arrow(0,0.05,-2,0,lw=3, color='r',\n",
        "          head_width=0.02, head_length=0.2, length_includes_head=True)\n",
        "plt.text(-0.95, 0.03, \"표준편차의 약 4배\")\n",
        "plt.ylabel(\"p(x)\")\n",
        "plt.title(\"정규분포의 확률도함수\")\n",
        "plt.show()"
      ],
      "metadata": {
        "colab": {
          "base_uri": "https://localhost:8080/",
          "height": 373
        },
        "id": "hvabpKMExl3w",
        "outputId": "3ae8bf15-dc94-4544-f489-862286173b2b"
      },
      "execution_count": null,
      "outputs": [
        {
          "output_type": "stream",
          "name": "stderr",
          "text": [
            "/usr/local/lib/python3.7/dist-packages/matplotlib/backends/backend_agg.py:214: RuntimeWarning: Glyph 8722 missing from current font.\n",
            "  font.set_text(s, 0.0, flags=flags)\n",
            "/usr/local/lib/python3.7/dist-packages/matplotlib/backends/backend_agg.py:183: RuntimeWarning: Glyph 8722 missing from current font.\n",
            "  font.set_text(s, 0, flags=flags)\n"
          ]
        },
        {
          "output_type": "display_data",
          "data": {
            "text/plain": [
              "<Figure size 432x288 with 1 Axes>"
            ],
            "image/png": "[encoded data removed]"
          },
          "metadata": {
            "needs_background": "light"
          }
        }
      ]
    },
    {
      "cell_type": "code",
      "source": [
        "np.random.seed(0)\n",
        "x = rv.rvs(20)"
      ],
      "metadata": {
        "id": "ARXwigCOy31Z"
      },
      "execution_count": null,
      "outputs": []
    },
    {
      "cell_type": "code",
      "source": [
        "x"
      ],
      "metadata": {
        "colab": {
          "base_uri": "https://localhost:8080/"
        },
        "id": "PX-OqufKy_oA",
        "outputId": "99414e9b-5608-4e12-857d-23c4ad3113e2"
      },
      "execution_count": null,
      "outputs": [
        {
          "output_type": "execute_result",
          "data": {
            "text/plain": [
              "array([ 1.76405235,  0.40015721,  0.97873798,  2.2408932 ,  1.86755799,\n",
              "       -0.97727788,  0.95008842, -0.15135721, -0.10321885,  0.4105985 ,\n",
              "        0.14404357,  1.45427351,  0.76103773,  0.12167502,  0.44386323,\n",
              "        0.33367433,  1.49407907, -0.20515826,  0.3130677 , -0.85409574])"
            ]
          },
          "metadata": {},
          "execution_count": 6
        }
      ]
    },
    {
      "cell_type": "code",
      "source": [
        "import seaborn as sns\n",
        "\n",
        "sns.distplot(x, rug=True, kde=False, fit=sp.stats.norm)\n",
        "plt.title(\"랜덤 표본 생성 결과\")\n",
        "plt.xlabel(\"표본값\")\n",
        "plt.ylabel(\"$p(x)$\")\n",
        "plt.show()"
      ],
      "metadata": {
        "colab": {
          "base_uri": "https://localhost:8080/",
          "height": 461
        },
        "id": "kXBxKsg9zAwY",
        "outputId": "20047c0d-8a44-420e-a2f1-d78dfcfffa38"
      },
      "execution_count": null,
      "outputs": [
        {
          "output_type": "stream",
          "name": "stderr",
          "text": [
            "/usr/local/lib/python3.7/dist-packages/seaborn/distributions.py:2619: FutureWarning: `distplot` is a deprecated function and will be removed in a future version. Please adapt your code to use either `displot` (a figure-level function with similar flexibility) or `histplot` (an axes-level function for histograms).\n",
            "  warnings.warn(msg, FutureWarning)\n",
            "/usr/local/lib/python3.7/dist-packages/seaborn/distributions.py:2103: FutureWarning: The `axis` variable is no longer used and will be removed. Instead, assign variables directly to `x` or `y`.\n",
            "  warnings.warn(msg, FutureWarning)\n",
            "/usr/local/lib/python3.7/dist-packages/matplotlib/backends/backend_agg.py:214: RuntimeWarning: Glyph 8722 missing from current font.\n",
            "  font.set_text(s, 0.0, flags=flags)\n",
            "/usr/local/lib/python3.7/dist-packages/matplotlib/backends/backend_agg.py:183: RuntimeWarning: Glyph 8722 missing from current font.\n",
            "  font.set_text(s, 0, flags=flags)\n"
          ]
        },
        {
          "output_type": "display_data",
          "data": {
            "text/plain": [
              "<Figure size 432x288 with 1 Axes>"
            ],
            "image/png": "[encoded data removed]"
          },
          "metadata": {
            "needs_background": "light"
          }
        }
      ]
    },
    {
      "cell_type": "code",
      "source": [
        "x_sorted = np.sort(x)\n",
        "x_sorted"
      ],
      "metadata": {
        "colab": {
          "base_uri": "https://localhost:8080/"
        },
        "id": "JttujjiAzdHx",
        "outputId": "d2479bc5-5dd9-407c-a742-d3c3c403e36e"
      },
      "execution_count": null,
      "outputs": [
        {
          "output_type": "execute_result",
          "data": {
            "text/plain": [
              "array([-0.97727788, -0.85409574, -0.20515826, -0.15135721, -0.10321885,\n",
              "        0.12167502,  0.14404357,  0.3130677 ,  0.33367433,  0.40015721,\n",
              "        0.4105985 ,  0.44386323,  0.76103773,  0.95008842,  0.97873798,\n",
              "        1.45427351,  1.49407907,  1.76405235,  1.86755799,  2.2408932 ])"
            ]
          },
          "metadata": {},
          "execution_count": 9
        }
      ]
    },
    {
      "cell_type": "code",
      "source": [
        "from scipy.stats.morestats import _calc_uniform_order_statistic_medians\n",
        "\n",
        "position = _calc_uniform_order_statistic_medians(len(x))\n",
        "position"
      ],
      "metadata": {
        "colab": {
          "base_uri": "https://localhost:8080/"
        },
        "id": "HOai8u_8zkEf",
        "outputId": "db6902d1-05cd-4837-eabc-f09d86f8bf71"
      },
      "execution_count": null,
      "outputs": [
        {
          "output_type": "execute_result",
          "data": {
            "text/plain": [
              "array([0.03406367, 0.08261724, 0.13172109, 0.18082494, 0.2299288 ,\n",
              "       0.27903265, 0.32813651, 0.37724036, 0.42634422, 0.47544807,\n",
              "       0.52455193, 0.57365578, 0.62275964, 0.67186349, 0.72096735,\n",
              "       0.7700712 , 0.81917506, 0.86827891, 0.91738276, 0.96593633])"
            ]
          },
          "metadata": {},
          "execution_count": 10
        }
      ]
    },
    {
      "cell_type": "code",
      "source": [
        "qf = rv.ppf(position)\n",
        "qf"
      ],
      "metadata": {
        "colab": {
          "base_uri": "https://localhost:8080/"
        },
        "id": "tteP00XTzygI",
        "outputId": "e06171f4-042e-4f14-e89c-24cefa2ea0e4"
      },
      "execution_count": null,
      "outputs": [
        {
          "output_type": "execute_result",
          "data": {
            "text/plain": [
              "array([-1.8241636 , -1.38768012, -1.11829229, -0.91222575, -0.73908135,\n",
              "       -0.5857176 , -0.44506467, -0.31273668, -0.18568928, -0.06158146,\n",
              "        0.06158146,  0.18568928,  0.31273668,  0.44506467,  0.5857176 ,\n",
              "        0.73908135,  0.91222575,  1.11829229,  1.38768012,  1.8241636 ])"
            ]
          },
          "metadata": {},
          "execution_count": 11
        }
      ]
    },
    {
      "cell_type": "code",
      "source": [
        "plt.scatter(qf,x_sorted)\n",
        "plt.title(\"Q-Q 플롯\")\n",
        "plt.xlabel(\"이론적인 위치값\")\n",
        "plt.ylabel(\"정렬된 표본 데이터\")\n",
        "plt.axis(\"equal\")\n",
        "plt.show()"
      ],
      "metadata": {
        "colab": {
          "base_uri": "https://localhost:8080/",
          "height": 387
        },
        "id": "n_siG-uiz4xY",
        "outputId": "405f8ae7-d267-4185-9202-e26f2c50d64e"
      },
      "execution_count": null,
      "outputs": [
        {
          "output_type": "stream",
          "name": "stderr",
          "text": [
            "/usr/local/lib/python3.7/dist-packages/matplotlib/backends/backend_agg.py:214: RuntimeWarning: Glyph 8722 missing from current font.\n",
            "  font.set_text(s, 0.0, flags=flags)\n",
            "/usr/local/lib/python3.7/dist-packages/matplotlib/backends/backend_agg.py:183: RuntimeWarning: Glyph 8722 missing from current font.\n",
            "  font.set_text(s, 0, flags=flags)\n"
          ]
        },
        {
          "output_type": "display_data",
          "data": {
            "text/plain": [
              "<Figure size 432x288 with 1 Axes>"
            ],
            "image/png": "[encoded data removed]"
          },
          "metadata": {
            "needs_background": "light"
          }
        }
      ]
    }
  ]
}
