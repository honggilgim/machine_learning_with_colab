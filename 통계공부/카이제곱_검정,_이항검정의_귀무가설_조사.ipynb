{
  "nbformat": 4,
  "nbformat_minor": 0,
  "metadata": {
    "colab": {
      "name": "카이제곱 검정, 이항검정의 귀무가설 조사",
      "provenance": [],
      "collapsed_sections": [],
      "authorship_tag": "ABX9TyPLYa3IQhrhuwjyRGmbWoCE",
      "include_colab_link": true
    },
    "kernelspec": {
      "name": "python3",
      "display_name": "Python 3"
    },
    "language_info": {
      "name": "python"
    }
  },
  "cells": [
    {
      "cell_type": "markdown",
      "metadata": {
        "id": "view-in-github",
        "colab_type": "text"
      },
      "source": [
        "<a href=\"https://colab.research.google.com/github/honggilgim/python_test_with_colab/blob/main/%EC%B9%B4%EC%9D%B4%EC%A0%9C%EA%B3%B1_%EA%B2%80%EC%A0%95%2C_%EC%9D%B4%ED%95%AD%EA%B2%80%EC%A0%95%EC%9D%98_%EA%B7%80%EB%AC%B4%EA%B0%80%EC%84%A4_%EC%A1%B0%EC%82%AC.ipynb\" target=\"_parent\"><img src=\"https://colab.research.google.com/assets/colab-badge.svg\" alt=\"Open In Colab\"/></a>"
      ]
    },
    {
      "cell_type": "code",
      "execution_count": 2,
      "metadata": {
        "id": "wGYoOlMPv_p5"
      },
      "outputs": [],
      "source": [
        "import numpy as np\n",
        "import scipy as sp\n",
        "from scipy import stats\n",
        "import seaborn as sns\n",
        "import matplotlib.pyplot as plt"
      ]
    },
    {
      "cell_type": "code",
      "source": [
        "# 이항검정 실습\n",
        "# 이항검정 : 이항분포를 이용하여 베르누이 확률변수의 모수 u에 대한 가설 조사\n",
        "# 데이터 생성 모수는 0.5이고, N=10 일 때 1이 나올 횟수가 7이여야 함.\n",
        "N = 10\n",
        "mu_0 = 0.5\n",
        "np.random.seed(0)\n",
        "x = sp.stats.bernoulli(mu_0).rvs(N)\n",
        "n = np.count_nonzero(x)\n",
        "print(n)"
      ],
      "metadata": {
        "colab": {
          "base_uri": "https://localhost:8080/"
        },
        "id": "ZA7B10UruD4R",
        "outputId": "9b35fbcc-326d-47cd-d44b-c0f4f6e715e1"
      },
      "execution_count": 3,
      "outputs": [
        {
          "output_type": "stream",
          "name": "stdout",
          "text": [
            "7\n"
          ]
        }
      ]
    },
    {
      "cell_type": "code",
      "source": [
        "# 귀무가설 조사를 위해 이항검정 결과 확인\n",
        "sp.stats.binom_test(n, N)"
      ],
      "metadata": {
        "colab": {
          "base_uri": "https://localhost:8080/"
        },
        "id": "x6pPFx6hudHK",
        "outputId": "c834d60e-fd21-4aed-fea9-9e40490d7fc0"
      },
      "execution_count": 5,
      "outputs": [
        {
          "output_type": "execute_result",
          "data": {
            "text/plain": [
              "0.3437499999999999"
            ]
          },
          "metadata": {},
          "execution_count": 5
        }
      ]
    },
    {
      "cell_type": "code",
      "source": [
        "# 카이제곱 검정 : 실습\n",
        "# 데이터 : 귀무가설 모수 0.25, 0.25, 0.25, 0.25\n",
        "N = 10\n",
        "K = 4\n",
        "mu_0 = np.ones(K)/K\n",
        "np.random.seed(0)\n",
        "x = np. random.choice(K,N,p=mu_0)\n",
        "n = np.bincount(x, minlength=K)\n",
        "print(n)"
      ],
      "metadata": {
        "colab": {
          "base_uri": "https://localhost:8080/"
        },
        "id": "32lrBN3UumVg",
        "outputId": "d59a142a-1bd1-4ce0-fb28-4ad9cb2d573a"
      },
      "execution_count": 6,
      "outputs": [
        {
          "output_type": "stream",
          "name": "stdout",
          "text": [
            "[0 3 5 2]\n"
          ]
        }
      ]
    },
    {
      "cell_type": "code",
      "source": [
        "# 검정 결과\n",
        "sp.stats.chisquare(n)\n",
        "# 결과 : 귀무가설 기각할 수 없음"
      ],
      "metadata": {
        "colab": {
          "base_uri": "https://localhost:8080/"
        },
        "id": "a0mh9KdDu7cs",
        "outputId": "6f8d3a5d-46e4-42ea-cc6e-afcc991d0201"
      },
      "execution_count": 7,
      "outputs": [
        {
          "output_type": "execute_result",
          "data": {
            "text/plain": [
              "Power_divergenceResult(statistic=5.199999999999999, pvalue=0.157724450396663)"
            ]
          },
          "metadata": {},
          "execution_count": 7
        }
      ]
    },
    {
      "cell_type": "code",
      "source": [
        "# 데이터의 개수를 늘리고, 귀무가설의 mu_0를 다른 것으로 수정해보기. 검정 결과에 따라 귀무가설을 기각할 수 있음.\n",
        "N = 100\n",
        "K = 4\n",
        "mu_0 = np.array([0.35, 0.30, 0.20, 0.15])\n",
        "np.random.seed(0)\n",
        "x = np. random.choice(K,N,p=mu_0)\n",
        "n = np.bincount(x, minlength=K)\n",
        "print(n)"
      ],
      "metadata": {
        "colab": {
          "base_uri": "https://localhost:8080/"
        },
        "id": "Z4GbP4ILu_Yt",
        "outputId": "08d88f05-1e0a-45e9-da12-10704a804c5f"
      },
      "execution_count": 8,
      "outputs": [
        {
          "output_type": "stream",
          "name": "stdout",
          "text": [
            "[37 32 20 11]\n"
          ]
        }
      ]
    },
    {
      "cell_type": "code",
      "source": [
        "sp.stats.chisquare(n)"
      ],
      "metadata": {
        "colab": {
          "base_uri": "https://localhost:8080/"
        },
        "id": "WiogWyyRvO1C",
        "outputId": "3eec8924-3896-4df4-ac91-68c7c4736a05"
      },
      "execution_count": 9,
      "outputs": [
        {
          "output_type": "execute_result",
          "data": {
            "text/plain": [
              "Power_divergenceResult(statistic=16.56, pvalue=0.0008703471978912127)"
            ]
          },
          "metadata": {},
          "execution_count": 9
        }
      ]
    },
    {
      "cell_type": "code",
      "source": [
        ""
      ],
      "metadata": {
        "id": "lXd_Bh_XvVDo"
      },
      "execution_count": null,
      "outputs": []
    }
  ]
}
