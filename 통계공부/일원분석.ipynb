{
  "nbformat": 4,
  "nbformat_minor": 0,
  "metadata": {
    "colab": {
      "name": "주어진 데이터로 일원분석하기.ipynb",
      "provenance": [],
      "authorship_tag": "ABX9TyPS0XMfPAboplbNUTClEBKq",
      "include_colab_link": true
    },
    "kernelspec": {
      "name": "python3",
      "display_name": "Python 3"
    },
    "language_info": {
      "name": "python"
    }
  },
  "cells": [
    {
      "cell_type": "markdown",
      "metadata": {
        "id": "view-in-github",
        "colab_type": "text"
      },
      "source": [
        "<a href=\"https://colab.research.google.com/github/honggilgim/python_test_with_colab/blob/main/%EC%A3%BC%EC%96%B4%EC%A7%84_%EB%8D%B0%EC%9D%B4%ED%84%B0%EB%A1%9C_%EC%9D%BC%EC%9B%90%EB%B6%84%EC%84%9D%ED%95%98%EA%B8%B0.ipynb\" target=\"_parent\"><img src=\"https://colab.research.google.com/assets/colab-badge.svg\" alt=\"Open In Colab\"/></a>"
      ]
    },
    {
      "cell_type": "code",
      "execution_count": 1,
      "metadata": {
        "id": "EKRUx-WTYZgB"
      },
      "outputs": [],
      "source": [
        "# 주어진 데이터로 일원 분산분석하기.\n",
        "\n",
        "import scipy.stats as stats\n",
        "import pandas as pd\n",
        "import matplotlib.pyplot as plt\n",
        "import numpy as np\n"
      ]
    },
    {
      "cell_type": "code",
      "source": [
        "data = np.genfromtxt('/content/altman_910.txt', delimiter=',')"
      ],
      "metadata": {
        "id": "Ez_5u-IKZe_0"
      },
      "execution_count": 2,
      "outputs": []
    },
    {
      "cell_type": "code",
      "source": [
        "# 첫 열의 값이 1이면 group1로, 2이면 group2로 나누기\n",
        "group1 = data[data[:, 1]==1 ,0]\n",
        "group2 = data[data[:, 1]==2, 0]\n",
        "group3 = data[data[:, 1]==3, 0]\n"
      ],
      "metadata": {
        "id": "WlxIbsKiZQQI"
      },
      "execution_count": 3,
      "outputs": []
    },
    {
      "cell_type": "code",
      "source": [
        "plot_data = [group1, group2, group3]\n",
        "ax = plt.boxplot(plot_data)\n",
        "plt.show()"
      ],
      "metadata": {
        "colab": {
          "base_uri": "https://localhost:8080/",
          "height": 325
        },
        "id": "FfQRgZ5RZqds",
        "outputId": "ac6dea1e-4228-4999-f724-44c70e098ad3"
      },
      "execution_count": 4,
      "outputs": [
        {
          "output_type": "stream",
          "name": "stderr",
          "text": [
            "/usr/local/lib/python3.7/dist-packages/matplotlib/cbook/__init__.py:1376: VisibleDeprecationWarning: Creating an ndarray from ragged nested sequences (which is a list-or-tuple of lists-or-tuples-or ndarrays with different lengths or shapes) is deprecated. If you meant to do this, you must specify 'dtype=object' when creating the ndarray.\n",
            "  X = np.atleast_1d(X.T if isinstance(X, np.ndarray) else np.asarray(X))\n"
          ]
        },
        {
          "output_type": "display_data",
          "data": {
            "text/plain": [
              "<Figure size 432x288 with 1 Axes>"
            ],
            "image/png": "[encoded data removed]"
          },
          "metadata": {
            "needs_background": "light"
          }
        }
      ]
    },
    {
      "cell_type": "code",
      "source": [
        "# 같은 자료에서 그룹별로 값에 대하여 일원 분석하기\n",
        "stats.f_oneway(group1,group2,group3)"
      ],
      "metadata": {
        "colab": {
          "base_uri": "https://localhost:8080/"
        },
        "id": "_rPdFOHwZuHl",
        "outputId": "a04c2ca6-8c40-4f41-feb5-e3bb52a1e7c0"
      },
      "execution_count": 5,
      "outputs": [
        {
          "output_type": "execute_result",
          "data": {
            "text/plain": [
              "F_onewayResult(statistic=3.7113359882669763, pvalue=0.043589334959178244)"
            ]
          },
          "metadata": {},
          "execution_count": 5
        }
      ]
    },
    {
      "cell_type": "code",
      "source": [
        "# 각 그룹쌍에 대하여 t 검정하기\n",
        "print(stats.ttest_ind(group1,group2))"
      ],
      "metadata": {
        "colab": {
          "base_uri": "https://localhost:8080/"
        },
        "id": "N-JsM50rZ-l-",
        "outputId": "d480dbe7-16c5-41f0-edd3-41986808ec99"
      },
      "execution_count": 6,
      "outputs": [
        {
          "output_type": "stream",
          "name": "stdout",
          "text": [
            "Ttest_indResult(statistic=2.5581789927784295, pvalue=0.02184081286794004)\n"
          ]
        }
      ]
    },
    {
      "cell_type": "code",
      "source": [
        "print(stats.ttest_ind(group1,group3))"
      ],
      "metadata": {
        "colab": {
          "base_uri": "https://localhost:8080/"
        },
        "id": "XQ_lVILpaFQg",
        "outputId": "2ee40553-90f0-4f8c-bdcb-517457ae3874"
      },
      "execution_count": 7,
      "outputs": [
        {
          "output_type": "stream",
          "name": "stdout",
          "text": [
            "Ttest_indResult(statistic=1.326611291434599, pvalue=0.21151930405600672)\n"
          ]
        }
      ]
    },
    {
      "cell_type": "code",
      "source": [
        "print(stats.ttest_ind(group2,group3))"
      ],
      "metadata": {
        "colab": {
          "base_uri": "https://localhost:8080/"
        },
        "id": "_n61tGAhaG_I",
        "outputId": "052d9752-47d6-4605-ac63-d66717eed480"
      },
      "execution_count": 8,
      "outputs": [
        {
          "output_type": "stream",
          "name": "stdout",
          "text": [
            "Ttest_indResult(statistic=-1.0724508202985763, pvalue=0.30461196197608215)\n"
          ]
        }
      ]
    },
    {
      "cell_type": "code",
      "source": [
        "# 그룹 1과 2의 평균값에 대해 다중 비교하기\n",
        "\n",
        "from statsmodels.stats.multicomp import pairwise_tukeyhsd\n",
        "tukey = pairwise_tukeyhsd(endog=data[:,0],\n",
        "                          groups=data[:,1],\n",
        "                          alpha=0.05)\n",
        "tukey.summary()\n",
        "# 다중 비교 결과. group1과 group2에서 귀무 가설이 기각되는 것을 볼 수 있음."
      ],
      "metadata": {
        "colab": {
          "base_uri": "https://localhost:8080/",
          "height": 117
        },
        "id": "RaVvTYHUaJcC",
        "outputId": "86ca4cb5-936d-4135-c487-fe276850c26b"
      },
      "execution_count": 10,
      "outputs": [
        {
          "output_type": "execute_result",
          "data": {
            "text/plain": [
              "<class 'statsmodels.iolib.table.SimpleTable'>"
            ],
            "text/html": [
              "<table class=\"simpletable\">\n",
              "<caption>Multiple Comparison of Means - Tukey HSD, FWER=0.05</caption>\n",
              "<tr>\n",
              "  <th>group1</th> <th>group2</th> <th>meandiff</th>  <th>p-adj</th>   <th>lower</th>    <th>upper</th>  <th>reject</th>\n",
              "</tr>\n",
              "<tr>\n",
              "    <td>1.0</td>    <td>2.0</td>  <td>-60.1806</td> <td>0.0354</td> <td>-116.6056</td> <td>-3.7555</td>  <td>True</td> \n",
              "</tr>\n",
              "<tr>\n",
              "    <td>1.0</td>    <td>3.0</td>   <td>-38.625</td> <td>0.3217</td> <td>-104.8246</td> <td>27.5746</td>  <td>False</td>\n",
              "</tr>\n",
              "<tr>\n",
              "    <td>2.0</td>    <td>3.0</td>   <td>21.5556</td> <td>0.6706</td> <td>-43.2141</td>  <td>86.3252</td>  <td>False</td>\n",
              "</tr>\n",
              "</table>"
            ]
          },
          "metadata": {},
          "execution_count": 10
        }
      ]
    }
  ]
}
