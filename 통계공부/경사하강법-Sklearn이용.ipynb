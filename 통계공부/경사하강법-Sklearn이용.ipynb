{
  "nbformat": 4,
  "nbformat_minor": 0,
  "metadata": {
    "colab": {
      "name": "Sklearn.ipynb",
      "provenance": [],
      "collapsed_sections": [],
      "toc_visible": true,
      "authorship_tag": "ABX9TyNkaKsmX71ZhAxziYUQUloS",
      "include_colab_link": true
    },
    "kernelspec": {
      "name": "python3",
      "display_name": "Python 3"
    },
    "language_info": {
      "name": "python"
    }
  },
  "cells": [
    {
      "cell_type": "markdown",
      "metadata": {
        "id": "view-in-github",
        "colab_type": "text"
      },
      "source": [
        "<a href=\"https://colab.research.google.com/github/honggilgim/python_test_with_colab/blob/main/Sklearn.ipynb\" target=\"_parent\"><img src=\"https://colab.research.google.com/assets/colab-badge.svg\" alt=\"Open In Colab\"/></a>"
      ]
    },
    {
      "cell_type": "code",
      "execution_count": null,
      "metadata": {
        "id": "UfGrDSXFKyR4"
      },
      "outputs": [],
      "source": [
        "#드라이브 마운트를 위한 코드"
      ]
    },
    {
      "cell_type": "code",
      "source": [
        "from google.colab import drive\n",
        "drive.mount('/content/drive')"
      ],
      "metadata": {
        "colab": {
          "base_uri": "https://localhost:8080/"
        },
        "id": "uB505HbDK03z",
        "outputId": "8610055b-5ff7-4b9a-c78f-a372b63c3414"
      },
      "execution_count": 1,
      "outputs": [
        {
          "output_type": "stream",
          "name": "stdout",
          "text": [
            "Mounted at /content/drive\n"
          ]
        }
      ]
    },
    {
      "cell_type": "markdown",
      "source": [
        "SKlearn을 활용하여 경사하강법 수행해보기.\n",
        "\n",
        "Sklearn은 사람들이 자주 쓰는 다른 라이브러리가 포함되게 구현되어 있고, 여러가지 모델을 제공하기에 많이 쓰임.\n",
        "\n",
        "모델의 성능을 뽑아내기 위해서는 파라메타 값들을 잘 넣어둬야 함."
      ],
      "metadata": {
        "id": "xRCSsEjiK-EE"
      }
    },
    {
      "cell_type": "code",
      "source": [
        "import numpy as np\n",
        "from sklearn. linear_model import SGDRegressor\n",
        "\n",
        "x1 = np.random.rand(100)\n",
        "x2 = np.random.rand(100)\n",
        "x3 = np.random.rand(100)\n",
        "b = np.random.rand(100)\n",
        "\n",
        "y = 0.3 * x1 + 0.5 * x2 + 0.7 * x3 +b\n",
        "\n",
        "#기본 데이터 생성\n",
        "\n",
        "new_x1 = x1.reshape(-1,1)\n",
        "new_x2 = x2.reshape(-1,1)\n",
        "new_x3 = x3.reshape(-1,1)\n",
        "\n",
        "X = np.concatenate([new_x1, new_x2, new_x3], axis=1)\n",
        "\n",
        "print(X.shape)"
      ],
      "metadata": {
        "colab": {
          "base_uri": "https://localhost:8080/"
        },
        "id": "Xd3PkYhMK88c",
        "outputId": "c74e2320-f9cd-4ed3-be41-69b8f671a6e3"
      },
      "execution_count": 13,
      "outputs": [
        {
          "output_type": "stream",
          "name": "stdout",
          "text": [
            "(100, 3)\n"
          ]
        }
      ]
    },
    {
      "cell_type": "code",
      "source": [
        "model = SGDRegressor(max_iter=5000, tol=1e-5, learning_rate='constant')\n",
        "# 파라메타를 알아서 수정할 줄 알아야 함. SGDRegressor 를 사용하기로 했으면, 일단 선언 그 후 fit 함수를 호출\n",
        "model.fit(X,y)"
      ],
      "metadata": {
        "colab": {
          "base_uri": "https://localhost:8080/"
        },
        "id": "FSBwdU1jPDZj",
        "outputId": "ddfe623c-0725-4587-be5c-cc9d4c336166"
      },
      "execution_count": 14,
      "outputs": [
        {
          "output_type": "execute_result",
          "data": {
            "text/plain": [
              "SGDRegressor(learning_rate='constant', max_iter=5000, tol=1e-05)"
            ]
          },
          "metadata": {},
          "execution_count": 14
        }
      ]
    },
    {
      "cell_type": "code",
      "source": [
        "print(model.coef_ , model.intercept_)"
      ],
      "metadata": {
        "colab": {
          "base_uri": "https://localhost:8080/"
        },
        "id": "uyQ6na6NPk3T",
        "outputId": "81501aec-7ee5-4fd1-bb67-42be0b3dd112"
      },
      "execution_count": 15,
      "outputs": [
        {
          "output_type": "stream",
          "name": "stdout",
          "text": [
            "[0.21758385 0.5663493  0.62395956] [0.53844357]\n"
          ]
        }
      ]
    },
    {
      "cell_type": "code",
      "source": [
        "print(\"w1 = {:.1f}, w2={:.1f}, w3={:.1f}, b={:.1f} \".format(model.coef_[0], model.coef_[1], model.coef_[2], model.intercept_[0]))"
      ],
      "metadata": {
        "colab": {
          "base_uri": "https://localhost:8080/"
        },
        "id": "OBL6vEfcQDlr",
        "outputId": "f118dc2d-0252-46b6-e6a8-42b9b9e467bf"
      },
      "execution_count": 16,
      "outputs": [
        {
          "output_type": "stream",
          "name": "stdout",
          "text": [
            "w1 = 0.2, w2=0.6, w3=0.6, b=0.5 \n"
          ]
        }
      ]
    },
    {
      "cell_type": "markdown",
      "source": [
        "경사하강법의 경우"
      ],
      "metadata": {
        "id": "b9hIdKBnRGW5"
      }
    },
    {
      "cell_type": "code",
      "source": [
        "from sklearn.linear_model import LinearRegression\n",
        "\n",
        "model = LinearRegression()\n",
        "model.fit(X,y)\n"
      ],
      "metadata": {
        "colab": {
          "base_uri": "https://localhost:8080/"
        },
        "id": "ku6KqrwJRFcH",
        "outputId": "b41f2cf1-a982-40c9-9852-b2c17e9c500c"
      },
      "execution_count": 17,
      "outputs": [
        {
          "output_type": "execute_result",
          "data": {
            "text/plain": [
              "LinearRegression()"
            ]
          },
          "metadata": {},
          "execution_count": 17
        }
      ]
    },
    {
      "cell_type": "code",
      "source": [
        "model.coef_"
      ],
      "metadata": {
        "colab": {
          "base_uri": "https://localhost:8080/"
        },
        "id": "gij_XI4pRWF7",
        "outputId": "c391807c-44a7-46e1-b019-257463959798"
      },
      "execution_count": 18,
      "outputs": [
        {
          "output_type": "execute_result",
          "data": {
            "text/plain": [
              "array([0.23300741, 0.60185376, 0.66290083])"
            ]
          },
          "metadata": {},
          "execution_count": 18
        }
      ]
    },
    {
      "cell_type": "code",
      "source": [
        "model.intercept_"
      ],
      "metadata": {
        "colab": {
          "base_uri": "https://localhost:8080/"
        },
        "id": "Ev2JclDVRYQS",
        "outputId": "cd1a0579-16c7-4055-d415-af654a7bbb5d"
      },
      "execution_count": 19,
      "outputs": [
        {
          "output_type": "execute_result",
          "data": {
            "text/plain": [
              "0.4927501707908739"
            ]
          },
          "metadata": {},
          "execution_count": 19
        }
      ]
    }
  ]
}
