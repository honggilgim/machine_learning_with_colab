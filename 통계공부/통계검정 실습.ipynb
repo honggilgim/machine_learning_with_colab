{
  "nbformat": 4,
  "nbformat_minor": 0,
  "metadata": {
    "colab": {
      "name": "Untitled11.ipynb의 사본",
      "provenance": [],
      "authorship_tag": "ABX9TyOuSNemM3kP7+EjzNynkpMt",
      "include_colab_link": true
    },
    "kernelspec": {
      "name": "python3",
      "display_name": "Python 3"
    },
    "language_info": {
      "name": "python"
    }
  },
  "cells": [
    {
      "cell_type": "markdown",
      "metadata": {
        "id": "view-in-github",
        "colab_type": "text"
      },
      "source": [
        "<a href=\"https://colab.research.google.com/github/honggilgim/python_test_with_colab/blob/main/Untitled11_ipynb%EC%9D%98_%EC%82%AC%EB%B3%B8.ipynb\" target=\"_parent\"><img src=\"https://colab.research.google.com/assets/colab-badge.svg\" alt=\"Open In Colab\"/></a>"
      ]
    },
    {
      "cell_type": "markdown",
      "source": [
        "정규성 검증은 관측값이 정규 분포를 따르는지 보기 위해 사용되는 통계 검정입니다. 귀무 가설은 정규 분포를 따른다고, 대립 가설은 따르지 않는다는 것으로 설정합니다.\n",
        "\n",
        "​\n",
        "\n",
        "t검정은, 두 집단의 평균 차이를 보기 위해서 사용합니다. 두 집단의 평균 차이가 t분포를 따른다고 가정한 후, 구체적으로 두 집단의 평균에 차이가 있는지를 표본에 대해 통계적인 방법으로 검정하는 것입니다.\n",
        "\n",
        "​\n",
        "\n",
        "쌍체 t검정은, 앞서 살펴본 t 검정을 동일한 모집단의 두 평균에 적용합니다. 귀무 가설은 평균이 같다, 대립 가설은 평균이 다르다로 둔 후 검증합니다.\n",
        "\n",
        "​\n",
        "\n",
        "등분산 검정은 두 집단 사이 혹은 세 집단 사이에 분산과 같은 산포도에 차이가 있는지를 통계적인 방법으로 검정합니다. 데이터가 정규 분포를 따르면 F 검정, 바트렛 검정을 사용하고 따르지 않으면 레빈 검정을 사용합니다.\n",
        "\n",
        "​\n",
        "\n",
        "x2검정은 카이제곱이라는 통계량으로 가설을 검정합니다. 범주형 자료에서, 범주들 간의 독립성 여부를 통계적인 방법으로 검정할 때 사용이 가능합니다. 두 집단이 독립인 귀무 가설과 종속적인 대립 가설을 가집니다. 또한, 각 범주형 값의 등장 확률에 대한 가설 검증에 활용되기도 합니다. 가령 주사위의 6개의 눈에 대하여, 각 범주의 등장 확률은 같다라고 귀무가설을 세울 수가 있습니다."
      ],
      "metadata": {
        "id": "GKaUptWB32sm"
      }
    },
    {
      "cell_type": "code",
      "execution_count": null,
      "metadata": {
        "id": "wGYoOlMPv_p5"
      },
      "outputs": [],
      "source": [
        "import numpy as np\n",
        "import scipy as sp\n",
        "from scipy import stats\n",
        "import seaborn as sns\n",
        "import matplotlib.pyplot as plt"
      ]
    },
    {
      "cell_type": "code",
      "source": [
        "np. random.seed(0)\n",
        "N1 = 50\n",
        "N2 = 100\n",
        "x1 = sp.stats.norm(0,1).rvs(N1)\n",
        "x2 = sp.stats.norm(0.5,1.5).rvs(N2)\n",
        "\n",
        "print(np.shape(x1))\n",
        "print(np.shape(x2))"
      ],
      "metadata": {
        "colab": {
          "base_uri": "https://localhost:8080/"
        },
        "id": "UKjvYKPiwR1s",
        "outputId": "e43f70bd-476f-4b8b-b6fa-29f86bc65e67"
      },
      "execution_count": null,
      "outputs": [
        {
          "output_type": "stream",
          "name": "stdout",
          "text": [
            "(50,)\n",
            "(100,)\n"
          ]
        }
      ]
    },
    {
      "cell_type": "code",
      "source": [
        "ax = sns.distplot(x1, kde=False, fit=sp.stats.norm, label=\"Dataset1\")\n",
        "ax = sns.distplot(x2, kde=False, fit=sp.stats.norm, label=\"Dataset2\")\n",
        "ax.lines[0].set_linestyle(\":\")\n",
        "\n",
        "plt.legend()\n",
        "plt.show()\n",
        "\n",
        "# 정규성 검증, 실습"
      ],
      "metadata": {
        "colab": {
          "base_uri": "https://localhost:8080/",
          "height": 358
        },
        "id": "HNkuqgENw4PL",
        "outputId": "5f4d84e3-2d0e-4802-969c-9b3b4a5fc8fd"
      },
      "execution_count": null,
      "outputs": [
        {
          "output_type": "stream",
          "name": "stderr",
          "text": [
            "/usr/local/lib/python3.7/dist-packages/seaborn/distributions.py:2619: FutureWarning: `distplot` is a deprecated function and will be removed in a future version. Please adapt your code to use either `displot` (a figure-level function with similar flexibility) or `histplot` (an axes-level function for histograms).\n",
            "  warnings.warn(msg, FutureWarning)\n",
            "/usr/local/lib/python3.7/dist-packages/seaborn/distributions.py:2619: FutureWarning: `distplot` is a deprecated function and will be removed in a future version. Please adapt your code to use either `displot` (a figure-level function with similar flexibility) or `histplot` (an axes-level function for histograms).\n",
            "  warnings.warn(msg, FutureWarning)\n"
          ]
        },
        {
          "output_type": "display_data",
          "data": {
            "text/plain": [
              "<Figure size 432x288 with 1 Axes>"
            ],
            "image/png": "[encoded data removed]"
          },
          "metadata": {
            "needs_background": "light"
          }
        }
      ]
    },
    {
      "cell_type": "code",
      "source": [
        "sp.stats.ks_2samp(x1,x2)"
      ],
      "metadata": {
        "colab": {
          "base_uri": "https://localhost:8080/"
        },
        "id": "M2G1yMsuxVqD",
        "outputId": "8dfd6b32-3667-4682-a903-7b13471f7f5c"
      },
      "execution_count": null,
      "outputs": [
        {
          "output_type": "execute_result",
          "data": {
            "text/plain": [
              "Ks_2sampResult(statistic=0.23, pvalue=0.055507233643215415)"
            ]
          },
          "metadata": {},
          "execution_count": 7
        }
      ]
    },
    {
      "cell_type": "code",
      "source": [
        "# t 검증\n",
        "\n",
        "N = 10\n",
        "mu_0 = 0\n",
        "np.random.seed(0)\n",
        "x = sp.stats.norm(mu_0).rvs(N)\n",
        "sp.stats.ttest_1samp(x, popmean=0)\n",
        "\n",
        "#데이터 개수가 적어서 Type I error 발생"
      ],
      "metadata": {
        "colab": {
          "base_uri": "https://localhost:8080/"
        },
        "id": "WZuWH_E7xmKi",
        "outputId": "067df0ff-bcc9-4abb-c812-37193b550ae7"
      },
      "execution_count": null,
      "outputs": [
        {
          "output_type": "execute_result",
          "data": {
            "text/plain": [
              "Ttest_1sampResult(statistic=2.28943967238967, pvalue=0.04781846490857058)"
            ]
          },
          "metadata": {},
          "execution_count": 8
        }
      ]
    },
    {
      "cell_type": "code",
      "source": [
        "# t 검증\n",
        "\n",
        "N = 100\n",
        "mu_0 = 0\n",
        "np.random.seed(0)\n",
        "x = sp.stats.norm(mu_0).rvs(N)\n",
        "sp.stats.ttest_1samp(x, popmean=0)"
      ],
      "metadata": {
        "colab": {
          "base_uri": "https://localhost:8080/"
        },
        "id": "dDrMf7nOyTLi",
        "outputId": "9ad70b66-7749-4bb2-8d96-0e83a6a64c84"
      },
      "execution_count": null,
      "outputs": [
        {
          "output_type": "execute_result",
          "data": {
            "text/plain": [
              "Ttest_1sampResult(statistic=0.5904283402851698, pvalue=0.5562489158694675)"
            ]
          },
          "metadata": {},
          "execution_count": 9
        }
      ]
    },
    {
      "cell_type": "code",
      "source": [
        "N_1 = 10\n",
        "mu_1 = 0\n",
        "sigma_1 = 1\n",
        "N_2 = 10\n",
        "mu_2 = 0.5\n",
        "sigma_2 = 1\n",
        "np.random.seed(0)\n",
        "x1 = sp.stats.norm(mu_1,sigma_1).rvs(N_1)\n",
        "x2 = sp.stats.norm(mu_2,sigma_2).rvs(N_2)\n",
        "ax = sns.distplot(x1, kde=False,fit=sp.stats.norm, label=\"dataset 1\")\n",
        "ax = sns.distplot(x2, kde=False. fit=sp.stats.norm, label=\"dataset 2\")\n",
        "ax.lines[0].set_linestyle(\":\")\n",
        "plt.legend()\n",
        "plt.show()\n",
        "\n",
        "# 오류나는 이유 : 표본이 너무 적음"
      ],
      "metadata": {
        "colab": {
          "base_uri": "https://localhost:8080/",
          "height": 137
        },
        "id": "YdyoPfT6z3-I",
        "outputId": "75705aad-3467-4273-a8d0-6dd1d61f6bef"
      },
      "execution_count": null,
      "outputs": [
        {
          "output_type": "error",
          "ename": "SyntaxError",
          "evalue": "ignored",
          "traceback": [
            "\u001b[0;36m  File \u001b[0;32m\"<ipython-input-11-037011e25b34>\"\u001b[0;36m, line \u001b[0;32m11\u001b[0m\n\u001b[0;31m    ax = sns.distplot(x2, kde=False. fit=sp.stats.norm, label=\"dataset 2\")\u001b[0m\n\u001b[0m                                        ^\u001b[0m\n\u001b[0;31mSyntaxError\u001b[0m\u001b[0;31m:\u001b[0m invalid syntax\n"
          ]
        }
      ]
    },
    {
      "cell_type": "code",
      "source": [
        "sp.stats.ttest_ind(x1,x2, equal_var=False)"
      ],
      "metadata": {
        "colab": {
          "base_uri": "https://localhost:8080/"
        },
        "id": "NdN3duKc031y",
        "outputId": "814cd775-5f03-409c-c9d0-1114b533eba9"
      },
      "execution_count": null,
      "outputs": [
        {
          "output_type": "execute_result",
          "data": {
            "text/plain": [
              "Ttest_indResult(statistic=-2.474584166958913, pvalue=0.014718608501905917)"
            ]
          },
          "metadata": {},
          "execution_count": 12
        }
      ]
    },
    {
      "cell_type": "code",
      "source": [
        "N_1 = 50\n",
        "mu_1 = 0\n",
        "sigma_1 = 1\n",
        "N_2 = 100\n",
        "mu_2 = 0.5\n",
        "sigma_2 = 1\n",
        "np.random.seed(0)\n",
        "x1 = sp.stats.norm(mu_1,sigma_1).rvs(N_1)\n",
        "x2 = sp.stats.norm(mu_2,sigma_2).rvs(N_2)\n",
        "sp.stats.ttest_ind(x1,x2, equal_var=False)"
      ],
      "metadata": {
        "colab": {
          "base_uri": "https://localhost:8080/"
        },
        "id": "8V9Py73T09rw",
        "outputId": "6326cbdf-8c1f-4763-ebae-31e06c53ba2f"
      },
      "execution_count": null,
      "outputs": [
        {
          "output_type": "execute_result",
          "data": {
            "text/plain": [
              "Ttest_indResult(statistic=-2.5427747064864556, pvalue=0.012800307550312669)"
            ]
          },
          "metadata": {},
          "execution_count": 13
        }
      ]
    },
    {
      "cell_type": "code",
      "source": [
        "#ppt 23p"
      ],
      "metadata": {
        "id": "YGxiJ7ac1U1o"
      },
      "execution_count": null,
      "outputs": []
    },
    {
      "cell_type": "code",
      "source": [
        "N1 = 100\n",
        "N2 = 100\n",
        "sigma_1 = 1\n",
        "sigma_2 = 1.2\n",
        "np.random.seed(0)\n",
        "x1 = sp.stats.norm(0,sigma_1).rvs(N1)\n",
        "x2 = sp.stats.norm(0,sigma_2).rvs(N2)\n",
        "ax = sns.distplot(x1, kde=False,fit=sp.stats.norm, label=\"dataset 1\")\n",
        "ax = sns.distplot(x2, kde=False, fit=sp.stats.norm, label=\"dataset 2\")\n",
        "ax.lines[0].set_linestyle(\":\")\n",
        "plt.legend()\n",
        "plt.show()"
      ],
      "metadata": {
        "colab": {
          "base_uri": "https://localhost:8080/",
          "height": 358
        },
        "id": "dmgwd7Z71ZR4",
        "outputId": "ee977412-5717-4588-b699-0c0f1daf7780"
      },
      "execution_count": null,
      "outputs": [
        {
          "output_type": "stream",
          "name": "stderr",
          "text": [
            "/usr/local/lib/python3.7/dist-packages/seaborn/distributions.py:2619: FutureWarning: `distplot` is a deprecated function and will be removed in a future version. Please adapt your code to use either `displot` (a figure-level function with similar flexibility) or `histplot` (an axes-level function for histograms).\n",
            "  warnings.warn(msg, FutureWarning)\n",
            "/usr/local/lib/python3.7/dist-packages/seaborn/distributions.py:2619: FutureWarning: `distplot` is a deprecated function and will be removed in a future version. Please adapt your code to use either `displot` (a figure-level function with similar flexibility) or `histplot` (an axes-level function for histograms).\n",
            "  warnings.warn(msg, FutureWarning)\n"
          ]
        },
        {
          "output_type": "display_data",
          "data": {
            "text/plain": [
              "<Figure size 432x288 with 1 Axes>"
            ],
            "image/png": "[encoded data removed]"
          },
          "metadata": {
            "needs_background": "light"
          }
        }
      ]
    },
    {
      "cell_type": "code",
      "source": [
        "x1.std(), x2.std()"
      ],
      "metadata": {
        "colab": {
          "base_uri": "https://localhost:8080/"
        },
        "id": "dn05f7qs138I",
        "outputId": "0b3ab333-f348-496d-f07e-6db03de1f328"
      },
      "execution_count": null,
      "outputs": [
        {
          "output_type": "execute_result",
          "data": {
            "text/plain": [
              "(1.0078822447165796, 1.2416003969261071)"
            ]
          },
          "metadata": {},
          "execution_count": 16
        }
      ]
    },
    {
      "cell_type": "code",
      "source": [
        "sp.stats.bartlett(x1,x2)"
      ],
      "metadata": {
        "colab": {
          "base_uri": "https://localhost:8080/"
        },
        "id": "ZqQWhggs18sw",
        "outputId": "3e9be077-e9df-4514-decf-9da960781500"
      },
      "execution_count": null,
      "outputs": [
        {
          "output_type": "execute_result",
          "data": {
            "text/plain": [
              "BartlettResult(statistic=4.253473837232266, pvalue=0.039170128783651344)"
            ]
          },
          "metadata": {},
          "execution_count": 17
        }
      ]
    },
    {
      "cell_type": "code",
      "source": [
        "sp.stats.fligner(x1,x2)"
      ],
      "metadata": {
        "colab": {
          "base_uri": "https://localhost:8080/"
        },
        "id": "e3mXGjTw2FQH",
        "outputId": "08524e91-91fe-4a91-9020-9079b50155cb"
      },
      "execution_count": null,
      "outputs": [
        {
          "output_type": "execute_result",
          "data": {
            "text/plain": [
              "FlignerResult(statistic=7.224841990409457, pvalue=0.007190150106748367)"
            ]
          },
          "metadata": {},
          "execution_count": 18
        }
      ]
    },
    {
      "cell_type": "code",
      "source": [
        "sp.stats.levene(x1,x2)"
      ],
      "metadata": {
        "colab": {
          "base_uri": "https://localhost:8080/"
        },
        "id": "PQ2snzc92H5v",
        "outputId": "302ad4f3-7616-4447-ff18-29cf77b2deac"
      },
      "execution_count": null,
      "outputs": [
        {
          "output_type": "execute_result",
          "data": {
            "text/plain": [
              "LeveneResult(statistic=7.680708947679437, pvalue=0.0061135154970207925)"
            ]
          },
          "metadata": {},
          "execution_count": 19
        }
      ]
    },
    {
      "cell_type": "code",
      "source": [
        "# 카이제곱 검증\n",
        "N=10\n",
        "K=4\n",
        "mu_0= np.ones(K)/K\n",
        "np.random.seed(0)\n",
        "x = np.random.choice(K,N,p=mu_0)\n",
        "n = np.bincount(x,minlength=K)\n",
        "print(n)"
      ],
      "metadata": {
        "colab": {
          "base_uri": "https://localhost:8080/"
        },
        "id": "MQM4U-Zm3XHH",
        "outputId": "d02c595c-9ddb-457f-b5ba-22af66a11d17"
      },
      "execution_count": null,
      "outputs": [
        {
          "output_type": "stream",
          "name": "stdout",
          "text": [
            "[0 3 5 2]\n"
          ]
        }
      ]
    },
    {
      "cell_type": "code",
      "source": [
        "sp.stats.chisquare(n)"
      ],
      "metadata": {
        "colab": {
          "base_uri": "https://localhost:8080/"
        },
        "id": "LsZUQ8a63xnI",
        "outputId": "118f8d69-7b55-43fa-d204-457eecb3adb5"
      },
      "execution_count": null,
      "outputs": [
        {
          "output_type": "execute_result",
          "data": {
            "text/plain": [
              "Power_divergenceResult(statistic=5.199999999999999, pvalue=0.157724450396663)"
            ]
          },
          "metadata": {},
          "execution_count": 21
        }
      ]
    },
    {
      "cell_type": "code",
      "source": [
        "N=100\n",
        "K=4\n",
        "mu_0= np.array([0.35,0.30,0.20,0.15])\n",
        "np.random.seed(0)\n",
        "x = np.random.choice(K,N,p=mu_0)\n",
        "n = np.bincount(x,minlength=K)\n",
        "print(n)"
      ],
      "metadata": {
        "colab": {
          "base_uri": "https://localhost:8080/"
        },
        "id": "KPGrx_wH31-f",
        "outputId": "b1296e73-aad6-4294-a5c5-7a5bc44db073"
      },
      "execution_count": null,
      "outputs": [
        {
          "output_type": "stream",
          "name": "stdout",
          "text": [
            "[37 32 20 11]\n"
          ]
        }
      ]
    },
    {
      "cell_type": "code",
      "source": [
        "sp.stats.chisquare(n)"
      ],
      "metadata": {
        "id": "N_mhutWS4A5C",
        "outputId": "b618a2a8-3ba8-4eec-aafc-c21de9964eae",
        "colab": {
          "base_uri": "https://localhost:8080/"
        }
      },
      "execution_count": null,
      "outputs": [
        {
          "output_type": "execute_result",
          "data": {
            "text/plain": [
              "Power_divergenceResult(statistic=16.56, pvalue=0.0008703471978912127)"
            ]
          },
          "metadata": {},
          "execution_count": 23
        }
      ]
    }
  ]
}
