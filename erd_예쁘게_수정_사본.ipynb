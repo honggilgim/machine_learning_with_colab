{
  "nbformat": 4,
  "nbformat_minor": 0,
  "metadata": {
    "colab": {
      "name": "erd 예쁘게 수정 사본",
      "provenance": [],
      "collapsed_sections": [],
      "mount_file_id": "1tQ4uf8PB1q3DheMeDfmwHKM4pOHmdVSu",
      "authorship_tag": "ABX9TyM7QjbC0oLfSFEkT+pnDk/6",
      "include_colab_link": true
    },
    "kernelspec": {
      "name": "python3",
      "display_name": "Python 3"
    },
    "language_info": {
      "name": "python"
    }
  },
  "cells": [
    {
      "cell_type": "markdown",
      "metadata": {
        "id": "view-in-github",
        "colab_type": "text"
      },
      "source": [
        "<a href=\"https://colab.research.google.com/github/honggilgim/python_test_with_colab/blob/main/erd_%EC%98%88%EC%81%98%EA%B2%8C_%EC%88%98%EC%A0%95_%EC%82%AC%EB%B3%B8.ipynb\" target=\"_parent\"><img src=\"https://colab.research.google.com/assets/colab-badge.svg\" alt=\"Open In Colab\"/></a>"
      ]
    },
    {
      "cell_type": "code",
      "execution_count": null,
      "metadata": {
        "id": "4aX4WErnPlQ7"
      },
      "outputs": [],
      "source": [
        "import pandas as pd\n",
        "import numpy as np\n",
        "import matplotlib.pyplot as plt\n",
        "import seaborn as sns\n",
        "import lightgbm\n",
        "import os\n",
        "import warnings\n",
        "import matplotlib as mpl\n"
      ]
    },
    {
      "cell_type": "code",
      "source": [
        "!cd /content/drive/MyDrive/\"Colab Notebooks\"/python_test_with_colab/\"data anaylsis\""
      ],
      "metadata": {
        "id": "66K7jIJuUQbF"
      },
      "execution_count": null,
      "outputs": []
    },
    {
      "cell_type": "code",
      "source": [
        "df = pd.read_csv(\"/content/drive/MyDrive/Colab Notebooks/python_test_with_colab/data anaylsis/train2.csv\",header=None)\n",
        "df.head()"
      ],
      "metadata": {
        "colab": {
          "base_uri": "https://localhost:8080/",
          "height": 206
        },
        "id": "7y6xPPliUX9m",
        "outputId": "880ec3de-150c-450d-c3a0-e22c1a04271c"
      },
      "execution_count": null,
      "outputs": [
        {
          "output_type": "execute_result",
          "data": {
            "text/plain": [
              "     0     1  2      3      4      5       6       7       8       9   10\n",
              "0  1154  1155  M  0.570  0.480  0.180  0.9395  0.3990  0.2000  0.2950  14\n",
              "1   830   831  M  0.560  0.425  0.135  0.9415  0.5090  0.2015  0.1975   9\n",
              "2  1162  1163  F  0.655  0.510  0.150  1.0430  0.4795  0.2230  0.3050   9\n",
              "3   599   600  I  0.310  0.225  0.050  0.1445  0.0675  0.0385  0.0450   6\n",
              "4  1058  1059  M  0.310  0.225  0.075  0.1295  0.0455  0.0335  0.0440   9"
            ],
            "text/html": [
              "\n",
              "  <div id=\"df-143e1a40-2a40-433f-b085-59c6e58560cd\">\n",
              "    <div class=\"colab-df-container\">\n",
              "      <div>\n",
              "<style scoped>\n",
              "    .dataframe tbody tr th:only-of-type {\n",
              "        vertical-align: middle;\n",
              "    }\n",
              "\n",
              "    .dataframe tbody tr th {\n",
              "        vertical-align: top;\n",
              "    }\n",
              "\n",
              "    .dataframe thead th {\n",
              "        text-align: right;\n",
              "    }\n",
              "</style>\n",
              "<table border=\"1\" class=\"dataframe\">\n",
              "  <thead>\n",
              "    <tr style=\"text-align: right;\">\n",
              "      <th></th>\n",
              "      <th>0</th>\n",
              "      <th>1</th>\n",
              "      <th>2</th>\n",
              "      <th>3</th>\n",
              "      <th>4</th>\n",
              "      <th>5</th>\n",
              "      <th>6</th>\n",
              "      <th>7</th>\n",
              "      <th>8</th>\n",
              "      <th>9</th>\n",
              "      <th>10</th>\n",
              "    </tr>\n",
              "  </thead>\n",
              "  <tbody>\n",
              "    <tr>\n",
              "      <th>0</th>\n",
              "      <td>1154</td>\n",
              "      <td>1155</td>\n",
              "      <td>M</td>\n",
              "      <td>0.570</td>\n",
              "      <td>0.480</td>\n",
              "      <td>0.180</td>\n",
              "      <td>0.9395</td>\n",
              "      <td>0.3990</td>\n",
              "      <td>0.2000</td>\n",
              "      <td>0.2950</td>\n",
              "      <td>14</td>\n",
              "    </tr>\n",
              "    <tr>\n",
              "      <th>1</th>\n",
              "      <td>830</td>\n",
              "      <td>831</td>\n",
              "      <td>M</td>\n",
              "      <td>0.560</td>\n",
              "      <td>0.425</td>\n",
              "      <td>0.135</td>\n",
              "      <td>0.9415</td>\n",
              "      <td>0.5090</td>\n",
              "      <td>0.2015</td>\n",
              "      <td>0.1975</td>\n",
              "      <td>9</td>\n",
              "    </tr>\n",
              "    <tr>\n",
              "      <th>2</th>\n",
              "      <td>1162</td>\n",
              "      <td>1163</td>\n",
              "      <td>F</td>\n",
              "      <td>0.655</td>\n",
              "      <td>0.510</td>\n",
              "      <td>0.150</td>\n",
              "      <td>1.0430</td>\n",
              "      <td>0.4795</td>\n",
              "      <td>0.2230</td>\n",
              "      <td>0.3050</td>\n",
              "      <td>9</td>\n",
              "    </tr>\n",
              "    <tr>\n",
              "      <th>3</th>\n",
              "      <td>599</td>\n",
              "      <td>600</td>\n",
              "      <td>I</td>\n",
              "      <td>0.310</td>\n",
              "      <td>0.225</td>\n",
              "      <td>0.050</td>\n",
              "      <td>0.1445</td>\n",
              "      <td>0.0675</td>\n",
              "      <td>0.0385</td>\n",
              "      <td>0.0450</td>\n",
              "      <td>6</td>\n",
              "    </tr>\n",
              "    <tr>\n",
              "      <th>4</th>\n",
              "      <td>1058</td>\n",
              "      <td>1059</td>\n",
              "      <td>M</td>\n",
              "      <td>0.310</td>\n",
              "      <td>0.225</td>\n",
              "      <td>0.075</td>\n",
              "      <td>0.1295</td>\n",
              "      <td>0.0455</td>\n",
              "      <td>0.0335</td>\n",
              "      <td>0.0440</td>\n",
              "      <td>9</td>\n",
              "    </tr>\n",
              "  </tbody>\n",
              "</table>\n",
              "</div>\n",
              "      <button class=\"colab-df-convert\" onclick=\"convertToInteractive('df-143e1a40-2a40-433f-b085-59c6e58560cd')\"\n",
              "              title=\"Convert this dataframe to an interactive table.\"\n",
              "              style=\"display:none;\">\n",
              "        \n",
              "  <svg xmlns=\"http://www.w3.org/2000/svg\" height=\"24px\"viewBox=\"0 0 24 24\"\n",
              "       width=\"24px\">\n",
              "    <path d=\"M0 0h24v24H0V0z\" fill=\"none\"/>\n",
              "    <path d=\"M18.56 5.44l.94 2.06.94-2.06 2.06-.94-2.06-.94-.94-2.06-.94 2.06-2.06.94zm-11 1L8.5 8.5l.94-2.06 2.06-.94-2.06-.94L8.5 2.5l-.94 2.06-2.06.94zm10 10l.94 2.06.94-2.06 2.06-.94-2.06-.94-.94-2.06-.94 2.06-2.06.94z\"/><path d=\"M17.41 7.96l-1.37-1.37c-.4-.4-.92-.59-1.43-.59-.52 0-1.04.2-1.43.59L10.3 9.45l-7.72 7.72c-.78.78-.78 2.05 0 2.83L4 21.41c.39.39.9.59 1.41.59.51 0 1.02-.2 1.41-.59l7.78-7.78 2.81-2.81c.8-.78.8-2.07 0-2.86zM5.41 20L4 18.59l7.72-7.72 1.47 1.35L5.41 20z\"/>\n",
              "  </svg>\n",
              "      </button>\n",
              "      \n",
              "  <style>\n",
              "    .colab-df-container {\n",
              "      display:flex;\n",
              "      flex-wrap:wrap;\n",
              "      gap: 12px;\n",
              "    }\n",
              "\n",
              "    .colab-df-convert {\n",
              "      background-color: #E8F0FE;\n",
              "      border: none;\n",
              "      border-radius: 50%;\n",
              "      cursor: pointer;\n",
              "      display: none;\n",
              "      fill: #1967D2;\n",
              "      height: 32px;\n",
              "      padding: 0 0 0 0;\n",
              "      width: 32px;\n",
              "    }\n",
              "\n",
              "    .colab-df-convert:hover {\n",
              "      background-color: #E2EBFA;\n",
              "      box-shadow: 0px 1px 2px rgba(60, 64, 67, 0.3), 0px 1px 3px 1px rgba(60, 64, 67, 0.15);\n",
              "      fill: #174EA6;\n",
              "    }\n",
              "\n",
              "    [theme=dark] .colab-df-convert {\n",
              "      background-color: #3B4455;\n",
              "      fill: #D2E3FC;\n",
              "    }\n",
              "\n",
              "    [theme=dark] .colab-df-convert:hover {\n",
              "      background-color: #434B5C;\n",
              "      box-shadow: 0px 1px 3px 1px rgba(0, 0, 0, 0.15);\n",
              "      filter: drop-shadow(0px 1px 2px rgba(0, 0, 0, 0.3));\n",
              "      fill: #FFFFFF;\n",
              "    }\n",
              "  </style>\n",
              "\n",
              "      <script>\n",
              "        const buttonEl =\n",
              "          document.querySelector('#df-143e1a40-2a40-433f-b085-59c6e58560cd button.colab-df-convert');\n",
              "        buttonEl.style.display =\n",
              "          google.colab.kernel.accessAllowed ? 'block' : 'none';\n",
              "\n",
              "        async function convertToInteractive(key) {\n",
              "          const element = document.querySelector('#df-143e1a40-2a40-433f-b085-59c6e58560cd');\n",
              "          const dataTable =\n",
              "            await google.colab.kernel.invokeFunction('convertToInteractive',\n",
              "                                                     [key], {});\n",
              "          if (!dataTable) return;\n",
              "\n",
              "          const docLinkHtml = 'Like what you see? Visit the ' +\n",
              "            '<a target=\"_blank\" href=https://colab.research.google.com/notebooks/data_table.ipynb>data table notebook</a>'\n",
              "            + ' to learn more about interactive tables.';\n",
              "          element.innerHTML = '';\n",
              "          dataTable['output_type'] = 'display_data';\n",
              "          await google.colab.output.renderOutput(dataTable, element);\n",
              "          const docLink = document.createElement('div');\n",
              "          docLink.innerHTML = docLinkHtml;\n",
              "          element.appendChild(docLink);\n",
              "        }\n",
              "      </script>\n",
              "    </div>\n",
              "  </div>\n",
              "  "
            ]
          },
          "metadata": {},
          "execution_count": 4
        }
      ]
    },
    {
      "cell_type": "code",
      "source": [
        "df.columns = ['NaN', 'id','Gender','Lenght','Diameter',\n",
        "             'Height','Whole Weight','Shucked Weight','Viscra Weight','Shell Weight','Target']"
      ],
      "metadata": {
        "id": "BEwIAgHIViQI"
      },
      "execution_count": null,
      "outputs": []
    },
    {
      "cell_type": "code",
      "source": [
        "# 결측치 분석 결측치 없음으로 확인.\n",
        "df.isnull().sum()"
      ],
      "metadata": {
        "colab": {
          "base_uri": "https://localhost:8080/"
        },
        "id": "2IC6rMhp6KTb",
        "outputId": "30ca93d7-33dd-43e5-ba80-28592537b169"
      },
      "execution_count": null,
      "outputs": [
        {
          "output_type": "execute_result",
          "data": {
            "text/plain": [
              "NaN               0\n",
              "id                0\n",
              "Gender            0\n",
              "Lenght            0\n",
              "Diameter          0\n",
              "Height            0\n",
              "Whole Weight      0\n",
              "Shucked Weight    0\n",
              "Viscra Weight     0\n",
              "Shell Weight      0\n",
              "Target            0\n",
              "dtype: int64"
            ]
          },
          "metadata": {},
          "execution_count": 6
        }
      ]
    },
    {
      "cell_type": "code",
      "source": [
        "df.info"
      ],
      "metadata": {
        "colab": {
          "base_uri": "https://localhost:8080/"
        },
        "id": "OHXHgm5YVF2n",
        "outputId": "f92bdae0-5594-434e-e289-17185be6c92b"
      },
      "execution_count": null,
      "outputs": [
        {
          "output_type": "execute_result",
          "data": {
            "text/plain": [
              "<bound method DataFrame.info of        NaN    id Gender  Lenght  Diameter  Height  Whole Weight  \\\n",
              "0     1154  1155      M   0.570     0.480   0.180        0.9395   \n",
              "1      830   831      M   0.560     0.425   0.135        0.9415   \n",
              "2     1162  1163      F   0.655     0.510   0.150        1.0430   \n",
              "3      599   600      I   0.310     0.225   0.050        0.1445   \n",
              "4     1058  1059      M   0.310     0.225   0.075        0.1295   \n",
              "...    ...   ...    ...     ...       ...     ...           ...   \n",
              "1122   912   913      F   0.565     0.450   0.185        0.9285   \n",
              "1123    26    27      F   0.575     0.450   0.160        1.0680   \n",
              "1124    16    17      I   0.580     0.435   0.150        0.8915   \n",
              "1125   456   457      F   0.590     0.455   0.150        0.9760   \n",
              "1126   897   898      I   0.725     0.550   0.220        2.0495   \n",
              "\n",
              "      Shucked Weight  Viscra Weight  Shell Weight  Target  \n",
              "0             0.3990         0.2000        0.2950      14  \n",
              "1             0.5090         0.2015        0.1975       9  \n",
              "2             0.4795         0.2230        0.3050       9  \n",
              "3             0.0675         0.0385        0.0450       6  \n",
              "4             0.0455         0.0335        0.0440       9  \n",
              "...              ...            ...           ...     ...  \n",
              "1122          0.3020         0.1805        0.2650      12  \n",
              "1123          0.5560         0.2140        0.2575      10  \n",
              "1124          0.3630         0.1925        0.2515       6  \n",
              "1125          0.4650         0.2055        0.2765      10  \n",
              "1126          0.7735         0.4405        0.6550      10  \n",
              "\n",
              "[1127 rows x 11 columns]>"
            ]
          },
          "metadata": {},
          "execution_count": 7
        }
      ]
    },
    {
      "cell_type": "code",
      "source": [
        "df.shape"
      ],
      "metadata": {
        "colab": {
          "base_uri": "https://localhost:8080/"
        },
        "id": "__ho7jGmVJnE",
        "outputId": "baf07d65-a7e9-4fb3-ccf2-2d3420308393"
      },
      "execution_count": null,
      "outputs": [
        {
          "output_type": "execute_result",
          "data": {
            "text/plain": [
              "(1127, 11)"
            ]
          },
          "metadata": {},
          "execution_count": 8
        }
      ]
    },
    {
      "cell_type": "code",
      "source": [
        "df.dtypes"
      ],
      "metadata": {
        "colab": {
          "base_uri": "https://localhost:8080/"
        },
        "id": "l0vKjsT8VNEj",
        "outputId": "16b5d0da-1462-479a-fc8b-b576ac2e193c"
      },
      "execution_count": null,
      "outputs": [
        {
          "output_type": "execute_result",
          "data": {
            "text/plain": [
              "NaN                 int64\n",
              "id                  int64\n",
              "Gender             object\n",
              "Lenght            float64\n",
              "Diameter          float64\n",
              "Height            float64\n",
              "Whole Weight      float64\n",
              "Shucked Weight    float64\n",
              "Viscra Weight     float64\n",
              "Shell Weight      float64\n",
              "Target              int64\n",
              "dtype: object"
            ]
          },
          "metadata": {},
          "execution_count": 9
        }
      ]
    },
    {
      "cell_type": "code",
      "source": [
        "df.describe()"
      ],
      "metadata": {
        "colab": {
          "base_uri": "https://localhost:8080/",
          "height": 300
        },
        "id": "qeF95Is_VQ81",
        "outputId": "56919a92-ae84-403c-859b-c2aeea5b8deb"
      },
      "execution_count": null,
      "outputs": [
        {
          "output_type": "execute_result",
          "data": {
            "text/plain": [
              "               NaN           id       Lenght     Diameter       Height  \\\n",
              "count  1127.000000  1127.000000  1127.000000  1127.000000  1127.000000   \n",
              "mean    625.349601   626.349601     0.522924     0.407036     0.139476   \n",
              "std     363.756770   363.756770     0.121090     0.100372     0.039082   \n",
              "min       0.000000     1.000000     0.110000     0.090000     0.030000   \n",
              "25%     312.500000   313.500000     0.445000     0.345000     0.112500   \n",
              "50%     623.000000   624.000000     0.540000     0.420000     0.140000   \n",
              "75%     939.500000   940.500000     0.615000     0.480000     0.165000   \n",
              "max    1252.000000  1253.000000     0.780000     0.630000     0.250000   \n",
              "\n",
              "       Whole Weight  Shucked Weight  Viscra Weight  Shell Weight       Target  \n",
              "count   1127.000000     1127.000000    1127.000000   1127.000000  1127.000000  \n",
              "mean       0.831996        0.358900       0.181458      0.239849     9.921029  \n",
              "std        0.502113        0.225445       0.112655      0.142285     3.236664  \n",
              "min        0.008000        0.002500       0.002000      0.003000     3.000000  \n",
              "25%        0.440250        0.180750       0.092500      0.127500     8.000000  \n",
              "50%        0.777500        0.326500       0.168500      0.230500    10.000000  \n",
              "75%        1.167000        0.503500       0.259000      0.330000    11.000000  \n",
              "max        2.779500        1.488000       0.760000      1.005000    29.000000  "
            ],
            "text/html": [
              "\n",
              "  <div id=\"df-51c95062-5cf6-4e4a-921e-798790ccea8e\">\n",
              "    <div class=\"colab-df-container\">\n",
              "      <div>\n",
              "<style scoped>\n",
              "    .dataframe tbody tr th:only-of-type {\n",
              "        vertical-align: middle;\n",
              "    }\n",
              "\n",
              "    .dataframe tbody tr th {\n",
              "        vertical-align: top;\n",
              "    }\n",
              "\n",
              "    .dataframe thead th {\n",
              "        text-align: right;\n",
              "    }\n",
              "</style>\n",
              "<table border=\"1\" class=\"dataframe\">\n",
              "  <thead>\n",
              "    <tr style=\"text-align: right;\">\n",
              "      <th></th>\n",
              "      <th>NaN</th>\n",
              "      <th>id</th>\n",
              "      <th>Lenght</th>\n",
              "      <th>Diameter</th>\n",
              "      <th>Height</th>\n",
              "      <th>Whole Weight</th>\n",
              "      <th>Shucked Weight</th>\n",
              "      <th>Viscra Weight</th>\n",
              "      <th>Shell Weight</th>\n",
              "      <th>Target</th>\n",
              "    </tr>\n",
              "  </thead>\n",
              "  <tbody>\n",
              "    <tr>\n",
              "      <th>count</th>\n",
              "      <td>1127.000000</td>\n",
              "      <td>1127.000000</td>\n",
              "      <td>1127.000000</td>\n",
              "      <td>1127.000000</td>\n",
              "      <td>1127.000000</td>\n",
              "      <td>1127.000000</td>\n",
              "      <td>1127.000000</td>\n",
              "      <td>1127.000000</td>\n",
              "      <td>1127.000000</td>\n",
              "      <td>1127.000000</td>\n",
              "    </tr>\n",
              "    <tr>\n",
              "      <th>mean</th>\n",
              "      <td>625.349601</td>\n",
              "      <td>626.349601</td>\n",
              "      <td>0.522924</td>\n",
              "      <td>0.407036</td>\n",
              "      <td>0.139476</td>\n",
              "      <td>0.831996</td>\n",
              "      <td>0.358900</td>\n",
              "      <td>0.181458</td>\n",
              "      <td>0.239849</td>\n",
              "      <td>9.921029</td>\n",
              "    </tr>\n",
              "    <tr>\n",
              "      <th>std</th>\n",
              "      <td>363.756770</td>\n",
              "      <td>363.756770</td>\n",
              "      <td>0.121090</td>\n",
              "      <td>0.100372</td>\n",
              "      <td>0.039082</td>\n",
              "      <td>0.502113</td>\n",
              "      <td>0.225445</td>\n",
              "      <td>0.112655</td>\n",
              "      <td>0.142285</td>\n",
              "      <td>3.236664</td>\n",
              "    </tr>\n",
              "    <tr>\n",
              "      <th>min</th>\n",
              "      <td>0.000000</td>\n",
              "      <td>1.000000</td>\n",
              "      <td>0.110000</td>\n",
              "      <td>0.090000</td>\n",
              "      <td>0.030000</td>\n",
              "      <td>0.008000</td>\n",
              "      <td>0.002500</td>\n",
              "      <td>0.002000</td>\n",
              "      <td>0.003000</td>\n",
              "      <td>3.000000</td>\n",
              "    </tr>\n",
              "    <tr>\n",
              "      <th>25%</th>\n",
              "      <td>312.500000</td>\n",
              "      <td>313.500000</td>\n",
              "      <td>0.445000</td>\n",
              "      <td>0.345000</td>\n",
              "      <td>0.112500</td>\n",
              "      <td>0.440250</td>\n",
              "      <td>0.180750</td>\n",
              "      <td>0.092500</td>\n",
              "      <td>0.127500</td>\n",
              "      <td>8.000000</td>\n",
              "    </tr>\n",
              "    <tr>\n",
              "      <th>50%</th>\n",
              "      <td>623.000000</td>\n",
              "      <td>624.000000</td>\n",
              "      <td>0.540000</td>\n",
              "      <td>0.420000</td>\n",
              "      <td>0.140000</td>\n",
              "      <td>0.777500</td>\n",
              "      <td>0.326500</td>\n",
              "      <td>0.168500</td>\n",
              "      <td>0.230500</td>\n",
              "      <td>10.000000</td>\n",
              "    </tr>\n",
              "    <tr>\n",
              "      <th>75%</th>\n",
              "      <td>939.500000</td>\n",
              "      <td>940.500000</td>\n",
              "      <td>0.615000</td>\n",
              "      <td>0.480000</td>\n",
              "      <td>0.165000</td>\n",
              "      <td>1.167000</td>\n",
              "      <td>0.503500</td>\n",
              "      <td>0.259000</td>\n",
              "      <td>0.330000</td>\n",
              "      <td>11.000000</td>\n",
              "    </tr>\n",
              "    <tr>\n",
              "      <th>max</th>\n",
              "      <td>1252.000000</td>\n",
              "      <td>1253.000000</td>\n",
              "      <td>0.780000</td>\n",
              "      <td>0.630000</td>\n",
              "      <td>0.250000</td>\n",
              "      <td>2.779500</td>\n",
              "      <td>1.488000</td>\n",
              "      <td>0.760000</td>\n",
              "      <td>1.005000</td>\n",
              "      <td>29.000000</td>\n",
              "    </tr>\n",
              "  </tbody>\n",
              "</table>\n",
              "</div>\n",
              "      <button class=\"colab-df-convert\" onclick=\"convertToInteractive('df-51c95062-5cf6-4e4a-921e-798790ccea8e')\"\n",
              "              title=\"Convert this dataframe to an interactive table.\"\n",
              "              style=\"display:none;\">\n",
              "        \n",
              "  <svg xmlns=\"http://www.w3.org/2000/svg\" height=\"24px\"viewBox=\"0 0 24 24\"\n",
              "       width=\"24px\">\n",
              "    <path d=\"M0 0h24v24H0V0z\" fill=\"none\"/>\n",
              "    <path d=\"M18.56 5.44l.94 2.06.94-2.06 2.06-.94-2.06-.94-.94-2.06-.94 2.06-2.06.94zm-11 1L8.5 8.5l.94-2.06 2.06-.94-2.06-.94L8.5 2.5l-.94 2.06-2.06.94zm10 10l.94 2.06.94-2.06 2.06-.94-2.06-.94-.94-2.06-.94 2.06-2.06.94z\"/><path d=\"M17.41 7.96l-1.37-1.37c-.4-.4-.92-.59-1.43-.59-.52 0-1.04.2-1.43.59L10.3 9.45l-7.72 7.72c-.78.78-.78 2.05 0 2.83L4 21.41c.39.39.9.59 1.41.59.51 0 1.02-.2 1.41-.59l7.78-7.78 2.81-2.81c.8-.78.8-2.07 0-2.86zM5.41 20L4 18.59l7.72-7.72 1.47 1.35L5.41 20z\"/>\n",
              "  </svg>\n",
              "      </button>\n",
              "      \n",
              "  <style>\n",
              "    .colab-df-container {\n",
              "      display:flex;\n",
              "      flex-wrap:wrap;\n",
              "      gap: 12px;\n",
              "    }\n",
              "\n",
              "    .colab-df-convert {\n",
              "      background-color: #E8F0FE;\n",
              "      border: none;\n",
              "      border-radius: 50%;\n",
              "      cursor: pointer;\n",
              "      display: none;\n",
              "      fill: #1967D2;\n",
              "      height: 32px;\n",
              "      padding: 0 0 0 0;\n",
              "      width: 32px;\n",
              "    }\n",
              "\n",
              "    .colab-df-convert:hover {\n",
              "      background-color: #E2EBFA;\n",
              "      box-shadow: 0px 1px 2px rgba(60, 64, 67, 0.3), 0px 1px 3px 1px rgba(60, 64, 67, 0.15);\n",
              "      fill: #174EA6;\n",
              "    }\n",
              "\n",
              "    [theme=dark] .colab-df-convert {\n",
              "      background-color: #3B4455;\n",
              "      fill: #D2E3FC;\n",
              "    }\n",
              "\n",
              "    [theme=dark] .colab-df-convert:hover {\n",
              "      background-color: #434B5C;\n",
              "      box-shadow: 0px 1px 3px 1px rgba(0, 0, 0, 0.15);\n",
              "      filter: drop-shadow(0px 1px 2px rgba(0, 0, 0, 0.3));\n",
              "      fill: #FFFFFF;\n",
              "    }\n",
              "  </style>\n",
              "\n",
              "      <script>\n",
              "        const buttonEl =\n",
              "          document.querySelector('#df-51c95062-5cf6-4e4a-921e-798790ccea8e button.colab-df-convert');\n",
              "        buttonEl.style.display =\n",
              "          google.colab.kernel.accessAllowed ? 'block' : 'none';\n",
              "\n",
              "        async function convertToInteractive(key) {\n",
              "          const element = document.querySelector('#df-51c95062-5cf6-4e4a-921e-798790ccea8e');\n",
              "          const dataTable =\n",
              "            await google.colab.kernel.invokeFunction('convertToInteractive',\n",
              "                                                     [key], {});\n",
              "          if (!dataTable) return;\n",
              "\n",
              "          const docLinkHtml = 'Like what you see? Visit the ' +\n",
              "            '<a target=\"_blank\" href=https://colab.research.google.com/notebooks/data_table.ipynb>data table notebook</a>'\n",
              "            + ' to learn more about interactive tables.';\n",
              "          element.innerHTML = '';\n",
              "          dataTable['output_type'] = 'display_data';\n",
              "          await google.colab.output.renderOutput(dataTable, element);\n",
              "          const docLink = document.createElement('div');\n",
              "          docLink.innerHTML = docLinkHtml;\n",
              "          element.appendChild(docLink);\n",
              "        }\n",
              "      </script>\n",
              "    </div>\n",
              "  </div>\n",
              "  "
            ]
          },
          "metadata": {},
          "execution_count": 10
        }
      ]
    },
    {
      "cell_type": "code",
      "source": [
        "df.count()"
      ],
      "metadata": {
        "colab": {
          "base_uri": "https://localhost:8080/"
        },
        "id": "yRIkJLrqVZ5f",
        "outputId": "524b0268-eb40-4ed0-d440-74cce2d2ec88"
      },
      "execution_count": null,
      "outputs": [
        {
          "output_type": "execute_result",
          "data": {
            "text/plain": [
              "NaN               1127\n",
              "id                1127\n",
              "Gender            1127\n",
              "Lenght            1127\n",
              "Diameter          1127\n",
              "Height            1127\n",
              "Whole Weight      1127\n",
              "Shucked Weight    1127\n",
              "Viscra Weight     1127\n",
              "Shell Weight      1127\n",
              "Target            1127\n",
              "dtype: int64"
            ]
          },
          "metadata": {},
          "execution_count": 11
        }
      ]
    },
    {
      "cell_type": "code",
      "source": [
        "df.corr()"
      ],
      "metadata": {
        "colab": {
          "base_uri": "https://localhost:8080/",
          "height": 363
        },
        "id": "xofjb3inWaqc",
        "outputId": "9978b324-0fd5-4550-f57b-a3e58585ca4d"
      },
      "execution_count": null,
      "outputs": [
        {
          "output_type": "execute_result",
          "data": {
            "text/plain": [
              "                     NaN        id    Lenght  Diameter    Height  \\\n",
              "NaN             1.000000  1.000000  0.005647  0.008098  0.027576   \n",
              "id              1.000000  1.000000  0.005647  0.008098  0.027576   \n",
              "Lenght          0.005647  0.005647  1.000000  0.987336  0.905323   \n",
              "Diameter        0.008098  0.008098  0.987336  1.000000  0.912596   \n",
              "Height          0.027576  0.027576  0.905323  0.912596  1.000000   \n",
              "Whole Weight    0.020325  0.020325  0.926032  0.928018  0.897565   \n",
              "Shucked Weight  0.011309  0.011309  0.895539  0.891400  0.840838   \n",
              "Viscra Weight   0.026939  0.026939  0.902617  0.901182  0.868035   \n",
              "Shell Weight    0.024770  0.024770  0.897628  0.907122  0.902457   \n",
              "Target          0.064267  0.064267  0.544288  0.569380  0.606440   \n",
              "\n",
              "                Whole Weight  Shucked Weight  Viscra Weight  Shell Weight  \\\n",
              "NaN                 0.020325        0.011309       0.026939      0.024770   \n",
              "id                  0.020325        0.011309       0.026939      0.024770   \n",
              "Lenght              0.926032        0.895539       0.902617      0.897628   \n",
              "Diameter            0.928018        0.891400       0.901182      0.907122   \n",
              "Height              0.897565        0.840838       0.868035      0.902457   \n",
              "Whole Weight        1.000000        0.967998       0.966080      0.952435   \n",
              "Shucked Weight      0.967998        1.000000       0.931633      0.872618   \n",
              "Viscra Weight       0.966080        0.931633       1.000000      0.903189   \n",
              "Shell Weight        0.952435        0.872618       0.903189      1.000000   \n",
              "Target              0.536748        0.418847       0.494249      0.624020   \n",
              "\n",
              "                  Target  \n",
              "NaN             0.064267  \n",
              "id              0.064267  \n",
              "Lenght          0.544288  \n",
              "Diameter        0.569380  \n",
              "Height          0.606440  \n",
              "Whole Weight    0.536748  \n",
              "Shucked Weight  0.418847  \n",
              "Viscra Weight   0.494249  \n",
              "Shell Weight    0.624020  \n",
              "Target          1.000000  "
            ],
            "text/html": [
              "\n",
              "  <div id=\"df-d532f13f-bd9c-4b7a-9f64-d3061855bd49\">\n",
              "    <div class=\"colab-df-container\">\n",
              "      <div>\n",
              "<style scoped>\n",
              "    .dataframe tbody tr th:only-of-type {\n",
              "        vertical-align: middle;\n",
              "    }\n",
              "\n",
              "    .dataframe tbody tr th {\n",
              "        vertical-align: top;\n",
              "    }\n",
              "\n",
              "    .dataframe thead th {\n",
              "        text-align: right;\n",
              "    }\n",
              "</style>\n",
              "<table border=\"1\" class=\"dataframe\">\n",
              "  <thead>\n",
              "    <tr style=\"text-align: right;\">\n",
              "      <th></th>\n",
              "      <th>NaN</th>\n",
              "      <th>id</th>\n",
              "      <th>Lenght</th>\n",
              "      <th>Diameter</th>\n",
              "      <th>Height</th>\n",
              "      <th>Whole Weight</th>\n",
              "      <th>Shucked Weight</th>\n",
              "      <th>Viscra Weight</th>\n",
              "      <th>Shell Weight</th>\n",
              "      <th>Target</th>\n",
              "    </tr>\n",
              "  </thead>\n",
              "  <tbody>\n",
              "    <tr>\n",
              "      <th>NaN</th>\n",
              "      <td>1.000000</td>\n",
              "      <td>1.000000</td>\n",
              "      <td>0.005647</td>\n",
              "      <td>0.008098</td>\n",
              "      <td>0.027576</td>\n",
              "      <td>0.020325</td>\n",
              "      <td>0.011309</td>\n",
              "      <td>0.026939</td>\n",
              "      <td>0.024770</td>\n",
              "      <td>0.064267</td>\n",
              "    </tr>\n",
              "    <tr>\n",
              "      <th>id</th>\n",
              "      <td>1.000000</td>\n",
              "      <td>1.000000</td>\n",
              "      <td>0.005647</td>\n",
              "      <td>0.008098</td>\n",
              "      <td>0.027576</td>\n",
              "      <td>0.020325</td>\n",
              "      <td>0.011309</td>\n",
              "      <td>0.026939</td>\n",
              "      <td>0.024770</td>\n",
              "      <td>0.064267</td>\n",
              "    </tr>\n",
              "    <tr>\n",
              "      <th>Lenght</th>\n",
              "      <td>0.005647</td>\n",
              "      <td>0.005647</td>\n",
              "      <td>1.000000</td>\n",
              "      <td>0.987336</td>\n",
              "      <td>0.905323</td>\n",
              "      <td>0.926032</td>\n",
              "      <td>0.895539</td>\n",
              "      <td>0.902617</td>\n",
              "      <td>0.897628</td>\n",
              "      <td>0.544288</td>\n",
              "    </tr>\n",
              "    <tr>\n",
              "      <th>Diameter</th>\n",
              "      <td>0.008098</td>\n",
              "      <td>0.008098</td>\n",
              "      <td>0.987336</td>\n",
              "      <td>1.000000</td>\n",
              "      <td>0.912596</td>\n",
              "      <td>0.928018</td>\n",
              "      <td>0.891400</td>\n",
              "      <td>0.901182</td>\n",
              "      <td>0.907122</td>\n",
              "      <td>0.569380</td>\n",
              "    </tr>\n",
              "    <tr>\n",
              "      <th>Height</th>\n",
              "      <td>0.027576</td>\n",
              "      <td>0.027576</td>\n",
              "      <td>0.905323</td>\n",
              "      <td>0.912596</td>\n",
              "      <td>1.000000</td>\n",
              "      <td>0.897565</td>\n",
              "      <td>0.840838</td>\n",
              "      <td>0.868035</td>\n",
              "      <td>0.902457</td>\n",
              "      <td>0.606440</td>\n",
              "    </tr>\n",
              "    <tr>\n",
              "      <th>Whole Weight</th>\n",
              "      <td>0.020325</td>\n",
              "      <td>0.020325</td>\n",
              "      <td>0.926032</td>\n",
              "      <td>0.928018</td>\n",
              "      <td>0.897565</td>\n",
              "      <td>1.000000</td>\n",
              "      <td>0.967998</td>\n",
              "      <td>0.966080</td>\n",
              "      <td>0.952435</td>\n",
              "      <td>0.536748</td>\n",
              "    </tr>\n",
              "    <tr>\n",
              "      <th>Shucked Weight</th>\n",
              "      <td>0.011309</td>\n",
              "      <td>0.011309</td>\n",
              "      <td>0.895539</td>\n",
              "      <td>0.891400</td>\n",
              "      <td>0.840838</td>\n",
              "      <td>0.967998</td>\n",
              "      <td>1.000000</td>\n",
              "      <td>0.931633</td>\n",
              "      <td>0.872618</td>\n",
              "      <td>0.418847</td>\n",
              "    </tr>\n",
              "    <tr>\n",
              "      <th>Viscra Weight</th>\n",
              "      <td>0.026939</td>\n",
              "      <td>0.026939</td>\n",
              "      <td>0.902617</td>\n",
              "      <td>0.901182</td>\n",
              "      <td>0.868035</td>\n",
              "      <td>0.966080</td>\n",
              "      <td>0.931633</td>\n",
              "      <td>1.000000</td>\n",
              "      <td>0.903189</td>\n",
              "      <td>0.494249</td>\n",
              "    </tr>\n",
              "    <tr>\n",
              "      <th>Shell Weight</th>\n",
              "      <td>0.024770</td>\n",
              "      <td>0.024770</td>\n",
              "      <td>0.897628</td>\n",
              "      <td>0.907122</td>\n",
              "      <td>0.902457</td>\n",
              "      <td>0.952435</td>\n",
              "      <td>0.872618</td>\n",
              "      <td>0.903189</td>\n",
              "      <td>1.000000</td>\n",
              "      <td>0.624020</td>\n",
              "    </tr>\n",
              "    <tr>\n",
              "      <th>Target</th>\n",
              "      <td>0.064267</td>\n",
              "      <td>0.064267</td>\n",
              "      <td>0.544288</td>\n",
              "      <td>0.569380</td>\n",
              "      <td>0.606440</td>\n",
              "      <td>0.536748</td>\n",
              "      <td>0.418847</td>\n",
              "      <td>0.494249</td>\n",
              "      <td>0.624020</td>\n",
              "      <td>1.000000</td>\n",
              "    </tr>\n",
              "  </tbody>\n",
              "</table>\n",
              "</div>\n",
              "      <button class=\"colab-df-convert\" onclick=\"convertToInteractive('df-d532f13f-bd9c-4b7a-9f64-d3061855bd49')\"\n",
              "              title=\"Convert this dataframe to an interactive table.\"\n",
              "              style=\"display:none;\">\n",
              "        \n",
              "  <svg xmlns=\"http://www.w3.org/2000/svg\" height=\"24px\"viewBox=\"0 0 24 24\"\n",
              "       width=\"24px\">\n",
              "    <path d=\"M0 0h24v24H0V0z\" fill=\"none\"/>\n",
              "    <path d=\"M18.56 5.44l.94 2.06.94-2.06 2.06-.94-2.06-.94-.94-2.06-.94 2.06-2.06.94zm-11 1L8.5 8.5l.94-2.06 2.06-.94-2.06-.94L8.5 2.5l-.94 2.06-2.06.94zm10 10l.94 2.06.94-2.06 2.06-.94-2.06-.94-.94-2.06-.94 2.06-2.06.94z\"/><path d=\"M17.41 7.96l-1.37-1.37c-.4-.4-.92-.59-1.43-.59-.52 0-1.04.2-1.43.59L10.3 9.45l-7.72 7.72c-.78.78-.78 2.05 0 2.83L4 21.41c.39.39.9.59 1.41.59.51 0 1.02-.2 1.41-.59l7.78-7.78 2.81-2.81c.8-.78.8-2.07 0-2.86zM5.41 20L4 18.59l7.72-7.72 1.47 1.35L5.41 20z\"/>\n",
              "  </svg>\n",
              "      </button>\n",
              "      \n",
              "  <style>\n",
              "    .colab-df-container {\n",
              "      display:flex;\n",
              "      flex-wrap:wrap;\n",
              "      gap: 12px;\n",
              "    }\n",
              "\n",
              "    .colab-df-convert {\n",
              "      background-color: #E8F0FE;\n",
              "      border: none;\n",
              "      border-radius: 50%;\n",
              "      cursor: pointer;\n",
              "      display: none;\n",
              "      fill: #1967D2;\n",
              "      height: 32px;\n",
              "      padding: 0 0 0 0;\n",
              "      width: 32px;\n",
              "    }\n",
              "\n",
              "    .colab-df-convert:hover {\n",
              "      background-color: #E2EBFA;\n",
              "      box-shadow: 0px 1px 2px rgba(60, 64, 67, 0.3), 0px 1px 3px 1px rgba(60, 64, 67, 0.15);\n",
              "      fill: #174EA6;\n",
              "    }\n",
              "\n",
              "    [theme=dark] .colab-df-convert {\n",
              "      background-color: #3B4455;\n",
              "      fill: #D2E3FC;\n",
              "    }\n",
              "\n",
              "    [theme=dark] .colab-df-convert:hover {\n",
              "      background-color: #434B5C;\n",
              "      box-shadow: 0px 1px 3px 1px rgba(0, 0, 0, 0.15);\n",
              "      filter: drop-shadow(0px 1px 2px rgba(0, 0, 0, 0.3));\n",
              "      fill: #FFFFFF;\n",
              "    }\n",
              "  </style>\n",
              "\n",
              "      <script>\n",
              "        const buttonEl =\n",
              "          document.querySelector('#df-d532f13f-bd9c-4b7a-9f64-d3061855bd49 button.colab-df-convert');\n",
              "        buttonEl.style.display =\n",
              "          google.colab.kernel.accessAllowed ? 'block' : 'none';\n",
              "\n",
              "        async function convertToInteractive(key) {\n",
              "          const element = document.querySelector('#df-d532f13f-bd9c-4b7a-9f64-d3061855bd49');\n",
              "          const dataTable =\n",
              "            await google.colab.kernel.invokeFunction('convertToInteractive',\n",
              "                                                     [key], {});\n",
              "          if (!dataTable) return;\n",
              "\n",
              "          const docLinkHtml = 'Like what you see? Visit the ' +\n",
              "            '<a target=\"_blank\" href=https://colab.research.google.com/notebooks/data_table.ipynb>data table notebook</a>'\n",
              "            + ' to learn more about interactive tables.';\n",
              "          element.innerHTML = '';\n",
              "          dataTable['output_type'] = 'display_data';\n",
              "          await google.colab.output.renderOutput(dataTable, element);\n",
              "          const docLink = document.createElement('div');\n",
              "          docLink.innerHTML = docLinkHtml;\n",
              "          element.appendChild(docLink);\n",
              "        }\n",
              "      </script>\n",
              "    </div>\n",
              "  </div>\n",
              "  "
            ]
          },
          "metadata": {},
          "execution_count": 12
        }
      ]
    },
    {
      "cell_type": "code",
      "source": [
        "df_co = df[['Lenght','Diameter','Height','Whole Weight','Shucked Weight','Viscra Weight','Shell Weight','Target']].corr()\n",
        "df_coo = df_co.drop(['Lenght','Diameter','Height','Whole Weight','Shucked Weight','Viscra Weight','Shell Weight'],axis=1)\n",
        "df_cooo = df_coo.drop(index='Target')\n",
        "df_cooo"
      ],
      "metadata": {
        "colab": {
          "base_uri": "https://localhost:8080/",
          "height": 268
        },
        "id": "n0B52DptZ1j-",
        "outputId": "66b04ad9-4049-4aa4-bf2f-e8f5a81e9f35"
      },
      "execution_count": null,
      "outputs": [
        {
          "output_type": "execute_result",
          "data": {
            "text/plain": [
              "                  Target\n",
              "Lenght          0.544288\n",
              "Diameter        0.569380\n",
              "Height          0.606440\n",
              "Whole Weight    0.536748\n",
              "Shucked Weight  0.418847\n",
              "Viscra Weight   0.494249\n",
              "Shell Weight    0.624020"
            ],
            "text/html": [
              "\n",
              "  <div id=\"df-f8fc1dea-6523-4d21-87e9-70fb0adbfdfd\">\n",
              "    <div class=\"colab-df-container\">\n",
              "      <div>\n",
              "<style scoped>\n",
              "    .dataframe tbody tr th:only-of-type {\n",
              "        vertical-align: middle;\n",
              "    }\n",
              "\n",
              "    .dataframe tbody tr th {\n",
              "        vertical-align: top;\n",
              "    }\n",
              "\n",
              "    .dataframe thead th {\n",
              "        text-align: right;\n",
              "    }\n",
              "</style>\n",
              "<table border=\"1\" class=\"dataframe\">\n",
              "  <thead>\n",
              "    <tr style=\"text-align: right;\">\n",
              "      <th></th>\n",
              "      <th>Target</th>\n",
              "    </tr>\n",
              "  </thead>\n",
              "  <tbody>\n",
              "    <tr>\n",
              "      <th>Lenght</th>\n",
              "      <td>0.544288</td>\n",
              "    </tr>\n",
              "    <tr>\n",
              "      <th>Diameter</th>\n",
              "      <td>0.569380</td>\n",
              "    </tr>\n",
              "    <tr>\n",
              "      <th>Height</th>\n",
              "      <td>0.606440</td>\n",
              "    </tr>\n",
              "    <tr>\n",
              "      <th>Whole Weight</th>\n",
              "      <td>0.536748</td>\n",
              "    </tr>\n",
              "    <tr>\n",
              "      <th>Shucked Weight</th>\n",
              "      <td>0.418847</td>\n",
              "    </tr>\n",
              "    <tr>\n",
              "      <th>Viscra Weight</th>\n",
              "      <td>0.494249</td>\n",
              "    </tr>\n",
              "    <tr>\n",
              "      <th>Shell Weight</th>\n",
              "      <td>0.624020</td>\n",
              "    </tr>\n",
              "  </tbody>\n",
              "</table>\n",
              "</div>\n",
              "      <button class=\"colab-df-convert\" onclick=\"convertToInteractive('df-f8fc1dea-6523-4d21-87e9-70fb0adbfdfd')\"\n",
              "              title=\"Convert this dataframe to an interactive table.\"\n",
              "              style=\"display:none;\">\n",
              "        \n",
              "  <svg xmlns=\"http://www.w3.org/2000/svg\" height=\"24px\"viewBox=\"0 0 24 24\"\n",
              "       width=\"24px\">\n",
              "    <path d=\"M0 0h24v24H0V0z\" fill=\"none\"/>\n",
              "    <path d=\"M18.56 5.44l.94 2.06.94-2.06 2.06-.94-2.06-.94-.94-2.06-.94 2.06-2.06.94zm-11 1L8.5 8.5l.94-2.06 2.06-.94-2.06-.94L8.5 2.5l-.94 2.06-2.06.94zm10 10l.94 2.06.94-2.06 2.06-.94-2.06-.94-.94-2.06-.94 2.06-2.06.94z\"/><path d=\"M17.41 7.96l-1.37-1.37c-.4-.4-.92-.59-1.43-.59-.52 0-1.04.2-1.43.59L10.3 9.45l-7.72 7.72c-.78.78-.78 2.05 0 2.83L4 21.41c.39.39.9.59 1.41.59.51 0 1.02-.2 1.41-.59l7.78-7.78 2.81-2.81c.8-.78.8-2.07 0-2.86zM5.41 20L4 18.59l7.72-7.72 1.47 1.35L5.41 20z\"/>\n",
              "  </svg>\n",
              "      </button>\n",
              "      \n",
              "  <style>\n",
              "    .colab-df-container {\n",
              "      display:flex;\n",
              "      flex-wrap:wrap;\n",
              "      gap: 12px;\n",
              "    }\n",
              "\n",
              "    .colab-df-convert {\n",
              "      background-color: #E8F0FE;\n",
              "      border: none;\n",
              "      border-radius: 50%;\n",
              "      cursor: pointer;\n",
              "      display: none;\n",
              "      fill: #1967D2;\n",
              "      height: 32px;\n",
              "      padding: 0 0 0 0;\n",
              "      width: 32px;\n",
              "    }\n",
              "\n",
              "    .colab-df-convert:hover {\n",
              "      background-color: #E2EBFA;\n",
              "      box-shadow: 0px 1px 2px rgba(60, 64, 67, 0.3), 0px 1px 3px 1px rgba(60, 64, 67, 0.15);\n",
              "      fill: #174EA6;\n",
              "    }\n",
              "\n",
              "    [theme=dark] .colab-df-convert {\n",
              "      background-color: #3B4455;\n",
              "      fill: #D2E3FC;\n",
              "    }\n",
              "\n",
              "    [theme=dark] .colab-df-convert:hover {\n",
              "      background-color: #434B5C;\n",
              "      box-shadow: 0px 1px 3px 1px rgba(0, 0, 0, 0.15);\n",
              "      filter: drop-shadow(0px 1px 2px rgba(0, 0, 0, 0.3));\n",
              "      fill: #FFFFFF;\n",
              "    }\n",
              "  </style>\n",
              "\n",
              "      <script>\n",
              "        const buttonEl =\n",
              "          document.querySelector('#df-f8fc1dea-6523-4d21-87e9-70fb0adbfdfd button.colab-df-convert');\n",
              "        buttonEl.style.display =\n",
              "          google.colab.kernel.accessAllowed ? 'block' : 'none';\n",
              "\n",
              "        async function convertToInteractive(key) {\n",
              "          const element = document.querySelector('#df-f8fc1dea-6523-4d21-87e9-70fb0adbfdfd');\n",
              "          const dataTable =\n",
              "            await google.colab.kernel.invokeFunction('convertToInteractive',\n",
              "                                                     [key], {});\n",
              "          if (!dataTable) return;\n",
              "\n",
              "          const docLinkHtml = 'Like what you see? Visit the ' +\n",
              "            '<a target=\"_blank\" href=https://colab.research.google.com/notebooks/data_table.ipynb>data table notebook</a>'\n",
              "            + ' to learn more about interactive tables.';\n",
              "          element.innerHTML = '';\n",
              "          dataTable['output_type'] = 'display_data';\n",
              "          await google.colab.output.renderOutput(dataTable, element);\n",
              "          const docLink = document.createElement('div');\n",
              "          docLink.innerHTML = docLinkHtml;\n",
              "          element.appendChild(docLink);\n",
              "        }\n",
              "      </script>\n",
              "    </div>\n",
              "  </div>\n",
              "  "
            ]
          },
          "metadata": {},
          "execution_count": 13
        }
      ]
    },
    {
      "cell_type": "code",
      "source": [
        "df_cooo.plot(figsize = (15,10))"
      ],
      "metadata": {
        "colab": {
          "base_uri": "https://localhost:8080/",
          "height": 610
        },
        "id": "lUA4Rr3Xak3l",
        "outputId": "88181ac5-4988-4c5a-d8fd-7d28c7e29afc"
      },
      "execution_count": null,
      "outputs": [
        {
          "output_type": "execute_result",
          "data": {
            "text/plain": [
              "<matplotlib.axes._subplots.AxesSubplot at 0x7f929a1cdb90>"
            ]
          },
          "metadata": {},
          "execution_count": 14
        },
        {
          "output_type": "display_data",
          "data": {
            "text/plain": [
              "<Figure size 1080x720 with 1 Axes>"
            ],
            "image/png": "[encoded data removed]"
          },
          "metadata": {
            "needs_background": "light"
          }
        }
      ]
    },
    {
      "cell_type": "code",
      "source": [
        "df_co.plot(x='Lenght',y='Target',kind='scatter')"
      ],
      "metadata": {
        "colab": {
          "base_uri": "https://localhost:8080/",
          "height": 297
        },
        "id": "0C8yCgRVbm7a",
        "outputId": "59f47bd7-8323-4f90-ddb5-0c898a4757a9"
      },
      "execution_count": null,
      "outputs": [
        {
          "output_type": "execute_result",
          "data": {
            "text/plain": [
              "<matplotlib.axes._subplots.AxesSubplot at 0x7f92980e3190>"
            ]
          },
          "metadata": {},
          "execution_count": 15
        },
        {
          "output_type": "display_data",
          "data": {
            "text/plain": [
              "<Figure size 432x288 with 1 Axes>"
            ],
            "image/png": "[encoded data removed]"
          },
          "metadata": {
            "needs_background": "light"
          }
        }
      ]
    },
    {
      "cell_type": "code",
      "source": [
        "df_co"
      ],
      "metadata": {
        "colab": {
          "base_uri": "https://localhost:8080/",
          "height": 300
        },
        "id": "o21cuBciatit",
        "outputId": "f9b4ed79-de45-4740-89d8-b4e84bed74ac"
      },
      "execution_count": null,
      "outputs": [
        {
          "output_type": "execute_result",
          "data": {
            "text/plain": [
              "                  Lenght  Diameter    Height  Whole Weight  Shucked Weight  \\\n",
              "Lenght          1.000000  0.987336  0.905323      0.926032        0.895539   \n",
              "Diameter        0.987336  1.000000  0.912596      0.928018        0.891400   \n",
              "Height          0.905323  0.912596  1.000000      0.897565        0.840838   \n",
              "Whole Weight    0.926032  0.928018  0.897565      1.000000        0.967998   \n",
              "Shucked Weight  0.895539  0.891400  0.840838      0.967998        1.000000   \n",
              "Viscra Weight   0.902617  0.901182  0.868035      0.966080        0.931633   \n",
              "Shell Weight    0.897628  0.907122  0.902457      0.952435        0.872618   \n",
              "Target          0.544288  0.569380  0.606440      0.536748        0.418847   \n",
              "\n",
              "                Viscra Weight  Shell Weight    Target  \n",
              "Lenght               0.902617      0.897628  0.544288  \n",
              "Diameter             0.901182      0.907122  0.569380  \n",
              "Height               0.868035      0.902457  0.606440  \n",
              "Whole Weight         0.966080      0.952435  0.536748  \n",
              "Shucked Weight       0.931633      0.872618  0.418847  \n",
              "Viscra Weight        1.000000      0.903189  0.494249  \n",
              "Shell Weight         0.903189      1.000000  0.624020  \n",
              "Target               0.494249      0.624020  1.000000  "
            ],
            "text/html": [
              "\n",
              "  <div id=\"df-ad4c1025-5feb-42c7-8040-c92ac124770d\">\n",
              "    <div class=\"colab-df-container\">\n",
              "      <div>\n",
              "<style scoped>\n",
              "    .dataframe tbody tr th:only-of-type {\n",
              "        vertical-align: middle;\n",
              "    }\n",
              "\n",
              "    .dataframe tbody tr th {\n",
              "        vertical-align: top;\n",
              "    }\n",
              "\n",
              "    .dataframe thead th {\n",
              "        text-align: right;\n",
              "    }\n",
              "</style>\n",
              "<table border=\"1\" class=\"dataframe\">\n",
              "  <thead>\n",
              "    <tr style=\"text-align: right;\">\n",
              "      <th></th>\n",
              "      <th>Lenght</th>\n",
              "      <th>Diameter</th>\n",
              "      <th>Height</th>\n",
              "      <th>Whole Weight</th>\n",
              "      <th>Shucked Weight</th>\n",
              "      <th>Viscra Weight</th>\n",
              "      <th>Shell Weight</th>\n",
              "      <th>Target</th>\n",
              "    </tr>\n",
              "  </thead>\n",
              "  <tbody>\n",
              "    <tr>\n",
              "      <th>Lenght</th>\n",
              "      <td>1.000000</td>\n",
              "      <td>0.987336</td>\n",
              "      <td>0.905323</td>\n",
              "      <td>0.926032</td>\n",
              "      <td>0.895539</td>\n",
              "      <td>0.902617</td>\n",
              "      <td>0.897628</td>\n",
              "      <td>0.544288</td>\n",
              "    </tr>\n",
              "    <tr>\n",
              "      <th>Diameter</th>\n",
              "      <td>0.987336</td>\n",
              "      <td>1.000000</td>\n",
              "      <td>0.912596</td>\n",
              "      <td>0.928018</td>\n",
              "      <td>0.891400</td>\n",
              "      <td>0.901182</td>\n",
              "      <td>0.907122</td>\n",
              "      <td>0.569380</td>\n",
              "    </tr>\n",
              "    <tr>\n",
              "      <th>Height</th>\n",
              "      <td>0.905323</td>\n",
              "      <td>0.912596</td>\n",
              "      <td>1.000000</td>\n",
              "      <td>0.897565</td>\n",
              "      <td>0.840838</td>\n",
              "      <td>0.868035</td>\n",
              "      <td>0.902457</td>\n",
              "      <td>0.606440</td>\n",
              "    </tr>\n",
              "    <tr>\n",
              "      <th>Whole Weight</th>\n",
              "      <td>0.926032</td>\n",
              "      <td>0.928018</td>\n",
              "      <td>0.897565</td>\n",
              "      <td>1.000000</td>\n",
              "      <td>0.967998</td>\n",
              "      <td>0.966080</td>\n",
              "      <td>0.952435</td>\n",
              "      <td>0.536748</td>\n",
              "    </tr>\n",
              "    <tr>\n",
              "      <th>Shucked Weight</th>\n",
              "      <td>0.895539</td>\n",
              "      <td>0.891400</td>\n",
              "      <td>0.840838</td>\n",
              "      <td>0.967998</td>\n",
              "      <td>1.000000</td>\n",
              "      <td>0.931633</td>\n",
              "      <td>0.872618</td>\n",
              "      <td>0.418847</td>\n",
              "    </tr>\n",
              "    <tr>\n",
              "      <th>Viscra Weight</th>\n",
              "      <td>0.902617</td>\n",
              "      <td>0.901182</td>\n",
              "      <td>0.868035</td>\n",
              "      <td>0.966080</td>\n",
              "      <td>0.931633</td>\n",
              "      <td>1.000000</td>\n",
              "      <td>0.903189</td>\n",
              "      <td>0.494249</td>\n",
              "    </tr>\n",
              "    <tr>\n",
              "      <th>Shell Weight</th>\n",
              "      <td>0.897628</td>\n",
              "      <td>0.907122</td>\n",
              "      <td>0.902457</td>\n",
              "      <td>0.952435</td>\n",
              "      <td>0.872618</td>\n",
              "      <td>0.903189</td>\n",
              "      <td>1.000000</td>\n",
              "      <td>0.624020</td>\n",
              "    </tr>\n",
              "    <tr>\n",
              "      <th>Target</th>\n",
              "      <td>0.544288</td>\n",
              "      <td>0.569380</td>\n",
              "      <td>0.606440</td>\n",
              "      <td>0.536748</td>\n",
              "      <td>0.418847</td>\n",
              "      <td>0.494249</td>\n",
              "      <td>0.624020</td>\n",
              "      <td>1.000000</td>\n",
              "    </tr>\n",
              "  </tbody>\n",
              "</table>\n",
              "</div>\n",
              "      <button class=\"colab-df-convert\" onclick=\"convertToInteractive('df-ad4c1025-5feb-42c7-8040-c92ac124770d')\"\n",
              "              title=\"Convert this dataframe to an interactive table.\"\n",
              "              style=\"display:none;\">\n",
              "        \n",
              "  <svg xmlns=\"http://www.w3.org/2000/svg\" height=\"24px\"viewBox=\"0 0 24 24\"\n",
              "       width=\"24px\">\n",
              "    <path d=\"M0 0h24v24H0V0z\" fill=\"none\"/>\n",
              "    <path d=\"M18.56 5.44l.94 2.06.94-2.06 2.06-.94-2.06-.94-.94-2.06-.94 2.06-2.06.94zm-11 1L8.5 8.5l.94-2.06 2.06-.94-2.06-.94L8.5 2.5l-.94 2.06-2.06.94zm10 10l.94 2.06.94-2.06 2.06-.94-2.06-.94-.94-2.06-.94 2.06-2.06.94z\"/><path d=\"M17.41 7.96l-1.37-1.37c-.4-.4-.92-.59-1.43-.59-.52 0-1.04.2-1.43.59L10.3 9.45l-7.72 7.72c-.78.78-.78 2.05 0 2.83L4 21.41c.39.39.9.59 1.41.59.51 0 1.02-.2 1.41-.59l7.78-7.78 2.81-2.81c.8-.78.8-2.07 0-2.86zM5.41 20L4 18.59l7.72-7.72 1.47 1.35L5.41 20z\"/>\n",
              "  </svg>\n",
              "      </button>\n",
              "      \n",
              "  <style>\n",
              "    .colab-df-container {\n",
              "      display:flex;\n",
              "      flex-wrap:wrap;\n",
              "      gap: 12px;\n",
              "    }\n",
              "\n",
              "    .colab-df-convert {\n",
              "      background-color: #E8F0FE;\n",
              "      border: none;\n",
              "      border-radius: 50%;\n",
              "      cursor: pointer;\n",
              "      display: none;\n",
              "      fill: #1967D2;\n",
              "      height: 32px;\n",
              "      padding: 0 0 0 0;\n",
              "      width: 32px;\n",
              "    }\n",
              "\n",
              "    .colab-df-convert:hover {\n",
              "      background-color: #E2EBFA;\n",
              "      box-shadow: 0px 1px 2px rgba(60, 64, 67, 0.3), 0px 1px 3px 1px rgba(60, 64, 67, 0.15);\n",
              "      fill: #174EA6;\n",
              "    }\n",
              "\n",
              "    [theme=dark] .colab-df-convert {\n",
              "      background-color: #3B4455;\n",
              "      fill: #D2E3FC;\n",
              "    }\n",
              "\n",
              "    [theme=dark] .colab-df-convert:hover {\n",
              "      background-color: #434B5C;\n",
              "      box-shadow: 0px 1px 3px 1px rgba(0, 0, 0, 0.15);\n",
              "      filter: drop-shadow(0px 1px 2px rgba(0, 0, 0, 0.3));\n",
              "      fill: #FFFFFF;\n",
              "    }\n",
              "  </style>\n",
              "\n",
              "      <script>\n",
              "        const buttonEl =\n",
              "          document.querySelector('#df-ad4c1025-5feb-42c7-8040-c92ac124770d button.colab-df-convert');\n",
              "        buttonEl.style.display =\n",
              "          google.colab.kernel.accessAllowed ? 'block' : 'none';\n",
              "\n",
              "        async function convertToInteractive(key) {\n",
              "          const element = document.querySelector('#df-ad4c1025-5feb-42c7-8040-c92ac124770d');\n",
              "          const dataTable =\n",
              "            await google.colab.kernel.invokeFunction('convertToInteractive',\n",
              "                                                     [key], {});\n",
              "          if (!dataTable) return;\n",
              "\n",
              "          const docLinkHtml = 'Like what you see? Visit the ' +\n",
              "            '<a target=\"_blank\" href=https://colab.research.google.com/notebooks/data_table.ipynb>data table notebook</a>'\n",
              "            + ' to learn more about interactive tables.';\n",
              "          element.innerHTML = '';\n",
              "          dataTable['output_type'] = 'display_data';\n",
              "          await google.colab.output.renderOutput(dataTable, element);\n",
              "          const docLink = document.createElement('div');\n",
              "          docLink.innerHTML = docLinkHtml;\n",
              "          element.appendChild(docLink);\n",
              "        }\n",
              "      </script>\n",
              "    </div>\n",
              "  </div>\n",
              "  "
            ]
          },
          "metadata": {},
          "execution_count": 16
        }
      ]
    },
    {
      "cell_type": "code",
      "source": [
        "df_co.plot(x='Diameter',y='Target',kind='scatter')"
      ],
      "metadata": {
        "colab": {
          "base_uri": "https://localhost:8080/",
          "height": 297
        },
        "id": "VWm0wnDZcE1X",
        "outputId": "906c4a9e-089e-4540-df82-fa527d268aa9"
      },
      "execution_count": null,
      "outputs": [
        {
          "output_type": "execute_result",
          "data": {
            "text/plain": [
              "<matplotlib.axes._subplots.AxesSubplot at 0x7f9297c2c410>"
            ]
          },
          "metadata": {},
          "execution_count": 17
        },
        {
          "output_type": "display_data",
          "data": {
            "text/plain": [
              "<Figure size 432x288 with 1 Axes>"
            ],
            "image/png": "[encoded data removed]"
          },
          "metadata": {
            "needs_background": "light"
          }
        }
      ]
    },
    {
      "cell_type": "code",
      "source": [
        "df_co.plot(x='Height',y='Target',kind='scatter')"
      ],
      "metadata": {
        "colab": {
          "base_uri": "https://localhost:8080/",
          "height": 297
        },
        "id": "EgHINr35cII8",
        "outputId": "dda9018d-2d90-4bff-b966-3ff6478fb494"
      },
      "execution_count": null,
      "outputs": [
        {
          "output_type": "execute_result",
          "data": {
            "text/plain": [
              "<matplotlib.axes._subplots.AxesSubplot at 0x7f9297ba1c50>"
            ]
          },
          "metadata": {},
          "execution_count": 18
        },
        {
          "output_type": "display_data",
          "data": {
            "text/plain": [
              "<Figure size 432x288 with 1 Axes>"
            ],
            "image/png": "[encoded data removed]"
          },
          "metadata": {
            "needs_background": "light"
          }
        }
      ]
    },
    {
      "cell_type": "code",
      "source": [
        "df_co.plot(x='Whole Weight',y='Target',kind='scatter')"
      ],
      "metadata": {
        "colab": {
          "base_uri": "https://localhost:8080/",
          "height": 297
        },
        "id": "pME7DXEqcTM_",
        "outputId": "6a87171f-f064-449d-ab4a-987ed52e7ff5"
      },
      "execution_count": null,
      "outputs": [
        {
          "output_type": "execute_result",
          "data": {
            "text/plain": [
              "<matplotlib.axes._subplots.AxesSubplot at 0x7f9297b13a10>"
            ]
          },
          "metadata": {},
          "execution_count": 19
        },
        {
          "output_type": "display_data",
          "data": {
            "text/plain": [
              "<Figure size 432x288 with 1 Axes>"
            ],
            "image/png": "[encoded data removed]"
          },
          "metadata": {
            "needs_background": "light"
          }
        }
      ]
    },
    {
      "cell_type": "code",
      "source": [
        "df_co.plot(x='Shucked Weight',y='Target',kind='scatter')"
      ],
      "metadata": {
        "colab": {
          "base_uri": "https://localhost:8080/",
          "height": 297
        },
        "id": "OxDVju3hcW1S",
        "outputId": "d109e131-40b9-485d-96ef-37f5f2ae6fd0"
      },
      "execution_count": null,
      "outputs": [
        {
          "output_type": "execute_result",
          "data": {
            "text/plain": [
              "<matplotlib.axes._subplots.AxesSubplot at 0x7f9297b0c490>"
            ]
          },
          "metadata": {},
          "execution_count": 20
        },
        {
          "output_type": "display_data",
          "data": {
            "text/plain": [
              "<Figure size 432x288 with 1 Axes>"
            ],
            "image/png": "[encoded data removed]"
          },
          "metadata": {
            "needs_background": "light"
          }
        }
      ]
    },
    {
      "cell_type": "code",
      "source": [
        "df_co.plot(x='Viscra Weight',y='Target',kind='scatter')"
      ],
      "metadata": {
        "colab": {
          "base_uri": "https://localhost:8080/",
          "height": 297
        },
        "id": "asHwLIMicbfL",
        "outputId": "6f971c8a-c24e-48fe-fa87-55b533540d58"
      },
      "execution_count": null,
      "outputs": [
        {
          "output_type": "execute_result",
          "data": {
            "text/plain": [
              "<matplotlib.axes._subplots.AxesSubplot at 0x7f9297a78a90>"
            ]
          },
          "metadata": {},
          "execution_count": 21
        },
        {
          "output_type": "display_data",
          "data": {
            "text/plain": [
              "<Figure size 432x288 with 1 Axes>"
            ],
            "image/png": "[encoded data removed]"
          },
          "metadata": {
            "needs_background": "light"
          }
        }
      ]
    },
    {
      "cell_type": "code",
      "source": [
        "df_co.plot(x='Shell Weight',y='Target',kind='scatter')"
      ],
      "metadata": {
        "colab": {
          "base_uri": "https://localhost:8080/",
          "height": 297
        },
        "id": "9IyiZ8DwcgUL",
        "outputId": "5775da7b-29be-4dbd-d811-57fb395788c1"
      },
      "execution_count": null,
      "outputs": [
        {
          "output_type": "execute_result",
          "data": {
            "text/plain": [
              "<matplotlib.axes._subplots.AxesSubplot at 0x7f92979eb4d0>"
            ]
          },
          "metadata": {},
          "execution_count": 22
        },
        {
          "output_type": "display_data",
          "data": {
            "text/plain": [
              "<Figure size 432x288 with 1 Axes>"
            ],
            "image/png": "[encoded data removed]"
          },
          "metadata": {
            "needs_background": "light"
          }
        }
      ]
    },
    {
      "cell_type": "code",
      "source": [
        "bar = df_cooo.plot.bar(figsize=(10,10), title = 'target corr', color = ['purple'])\n",
        "bars = [rect for rect in bar.get_children() if isinstance(rect, mpl.patches.Rectangle)]\n",
        "for rect in bars:\n",
        "    height = rect.get_height()\n",
        "    plt.text(rect.get_x() + rect.get_width()/2.0, height, '%.2f' % height, ha='center', va='bottom', size = 12)\n",
        "plt.show()\n"
      ],
      "metadata": {
        "colab": {
          "base_uri": "https://localhost:8080/",
          "height": 961
        },
        "id": "_86FCnI7bAIu",
        "outputId": "1330783b-b822-4dfc-f892-7f0ee545c97b"
      },
      "execution_count": null,
      "outputs": [
        {
          "output_type": "display_data",
          "data": {
            "text/plain": [
              "<Figure size 720x720 with 1 Axes>"
            ],
            "image/png": "[encoded data removed]"
          },
          "metadata": {
            "needs_background": "light"
          }
        }
      ]
    },
    {
      "cell_type": "code",
      "source": [
        "df.drop(columns=['id'], axis=1, inplace=True)"
      ],
      "metadata": {
        "id": "Fc3QUhok8H-k"
      },
      "execution_count": null,
      "outputs": []
    },
    {
      "cell_type": "code",
      "source": [
        "df.describe()"
      ],
      "metadata": {
        "colab": {
          "base_uri": "https://localhost:8080/",
          "height": 300
        },
        "id": "nag621tIZDE5",
        "outputId": "ede833c1-2821-4d37-92b1-cf7410a67e9a"
      },
      "execution_count": null,
      "outputs": [
        {
          "output_type": "execute_result",
          "data": {
            "text/plain": [
              "               NaN       Lenght     Diameter       Height  Whole Weight  \\\n",
              "count  1127.000000  1127.000000  1127.000000  1127.000000   1127.000000   \n",
              "mean    625.349601     0.522924     0.407036     0.139476      0.831996   \n",
              "std     363.756770     0.121090     0.100372     0.039082      0.502113   \n",
              "min       0.000000     0.110000     0.090000     0.030000      0.008000   \n",
              "25%     312.500000     0.445000     0.345000     0.112500      0.440250   \n",
              "50%     623.000000     0.540000     0.420000     0.140000      0.777500   \n",
              "75%     939.500000     0.615000     0.480000     0.165000      1.167000   \n",
              "max    1252.000000     0.780000     0.630000     0.250000      2.779500   \n",
              "\n",
              "       Shucked Weight  Viscra Weight  Shell Weight       Target  \n",
              "count     1127.000000    1127.000000   1127.000000  1127.000000  \n",
              "mean         0.358900       0.181458      0.239849     9.921029  \n",
              "std          0.225445       0.112655      0.142285     3.236664  \n",
              "min          0.002500       0.002000      0.003000     3.000000  \n",
              "25%          0.180750       0.092500      0.127500     8.000000  \n",
              "50%          0.326500       0.168500      0.230500    10.000000  \n",
              "75%          0.503500       0.259000      0.330000    11.000000  \n",
              "max          1.488000       0.760000      1.005000    29.000000  "
            ],
            "text/html": [
              "\n",
              "  <div id=\"df-ae9393fc-4dda-47ea-85f1-3ec3045c811c\">\n",
              "    <div class=\"colab-df-container\">\n",
              "      <div>\n",
              "<style scoped>\n",
              "    .dataframe tbody tr th:only-of-type {\n",
              "        vertical-align: middle;\n",
              "    }\n",
              "\n",
              "    .dataframe tbody tr th {\n",
              "        vertical-align: top;\n",
              "    }\n",
              "\n",
              "    .dataframe thead th {\n",
              "        text-align: right;\n",
              "    }\n",
              "</style>\n",
              "<table border=\"1\" class=\"dataframe\">\n",
              "  <thead>\n",
              "    <tr style=\"text-align: right;\">\n",
              "      <th></th>\n",
              "      <th>NaN</th>\n",
              "      <th>Lenght</th>\n",
              "      <th>Diameter</th>\n",
              "      <th>Height</th>\n",
              "      <th>Whole Weight</th>\n",
              "      <th>Shucked Weight</th>\n",
              "      <th>Viscra Weight</th>\n",
              "      <th>Shell Weight</th>\n",
              "      <th>Target</th>\n",
              "    </tr>\n",
              "  </thead>\n",
              "  <tbody>\n",
              "    <tr>\n",
              "      <th>count</th>\n",
              "      <td>1127.000000</td>\n",
              "      <td>1127.000000</td>\n",
              "      <td>1127.000000</td>\n",
              "      <td>1127.000000</td>\n",
              "      <td>1127.000000</td>\n",
              "      <td>1127.000000</td>\n",
              "      <td>1127.000000</td>\n",
              "      <td>1127.000000</td>\n",
              "      <td>1127.000000</td>\n",
              "    </tr>\n",
              "    <tr>\n",
              "      <th>mean</th>\n",
              "      <td>625.349601</td>\n",
              "      <td>0.522924</td>\n",
              "      <td>0.407036</td>\n",
              "      <td>0.139476</td>\n",
              "      <td>0.831996</td>\n",
              "      <td>0.358900</td>\n",
              "      <td>0.181458</td>\n",
              "      <td>0.239849</td>\n",
              "      <td>9.921029</td>\n",
              "    </tr>\n",
              "    <tr>\n",
              "      <th>std</th>\n",
              "      <td>363.756770</td>\n",
              "      <td>0.121090</td>\n",
              "      <td>0.100372</td>\n",
              "      <td>0.039082</td>\n",
              "      <td>0.502113</td>\n",
              "      <td>0.225445</td>\n",
              "      <td>0.112655</td>\n",
              "      <td>0.142285</td>\n",
              "      <td>3.236664</td>\n",
              "    </tr>\n",
              "    <tr>\n",
              "      <th>min</th>\n",
              "      <td>0.000000</td>\n",
              "      <td>0.110000</td>\n",
              "      <td>0.090000</td>\n",
              "      <td>0.030000</td>\n",
              "      <td>0.008000</td>\n",
              "      <td>0.002500</td>\n",
              "      <td>0.002000</td>\n",
              "      <td>0.003000</td>\n",
              "      <td>3.000000</td>\n",
              "    </tr>\n",
              "    <tr>\n",
              "      <th>25%</th>\n",
              "      <td>312.500000</td>\n",
              "      <td>0.445000</td>\n",
              "      <td>0.345000</td>\n",
              "      <td>0.112500</td>\n",
              "      <td>0.440250</td>\n",
              "      <td>0.180750</td>\n",
              "      <td>0.092500</td>\n",
              "      <td>0.127500</td>\n",
              "      <td>8.000000</td>\n",
              "    </tr>\n",
              "    <tr>\n",
              "      <th>50%</th>\n",
              "      <td>623.000000</td>\n",
              "      <td>0.540000</td>\n",
              "      <td>0.420000</td>\n",
              "      <td>0.140000</td>\n",
              "      <td>0.777500</td>\n",
              "      <td>0.326500</td>\n",
              "      <td>0.168500</td>\n",
              "      <td>0.230500</td>\n",
              "      <td>10.000000</td>\n",
              "    </tr>\n",
              "    <tr>\n",
              "      <th>75%</th>\n",
              "      <td>939.500000</td>\n",
              "      <td>0.615000</td>\n",
              "      <td>0.480000</td>\n",
              "      <td>0.165000</td>\n",
              "      <td>1.167000</td>\n",
              "      <td>0.503500</td>\n",
              "      <td>0.259000</td>\n",
              "      <td>0.330000</td>\n",
              "      <td>11.000000</td>\n",
              "    </tr>\n",
              "    <tr>\n",
              "      <th>max</th>\n",
              "      <td>1252.000000</td>\n",
              "      <td>0.780000</td>\n",
              "      <td>0.630000</td>\n",
              "      <td>0.250000</td>\n",
              "      <td>2.779500</td>\n",
              "      <td>1.488000</td>\n",
              "      <td>0.760000</td>\n",
              "      <td>1.005000</td>\n",
              "      <td>29.000000</td>\n",
              "    </tr>\n",
              "  </tbody>\n",
              "</table>\n",
              "</div>\n",
              "      <button class=\"colab-df-convert\" onclick=\"convertToInteractive('df-ae9393fc-4dda-47ea-85f1-3ec3045c811c')\"\n",
              "              title=\"Convert this dataframe to an interactive table.\"\n",
              "              style=\"display:none;\">\n",
              "        \n",
              "  <svg xmlns=\"http://www.w3.org/2000/svg\" height=\"24px\"viewBox=\"0 0 24 24\"\n",
              "       width=\"24px\">\n",
              "    <path d=\"M0 0h24v24H0V0z\" fill=\"none\"/>\n",
              "    <path d=\"M18.56 5.44l.94 2.06.94-2.06 2.06-.94-2.06-.94-.94-2.06-.94 2.06-2.06.94zm-11 1L8.5 8.5l.94-2.06 2.06-.94-2.06-.94L8.5 2.5l-.94 2.06-2.06.94zm10 10l.94 2.06.94-2.06 2.06-.94-2.06-.94-.94-2.06-.94 2.06-2.06.94z\"/><path d=\"M17.41 7.96l-1.37-1.37c-.4-.4-.92-.59-1.43-.59-.52 0-1.04.2-1.43.59L10.3 9.45l-7.72 7.72c-.78.78-.78 2.05 0 2.83L4 21.41c.39.39.9.59 1.41.59.51 0 1.02-.2 1.41-.59l7.78-7.78 2.81-2.81c.8-.78.8-2.07 0-2.86zM5.41 20L4 18.59l7.72-7.72 1.47 1.35L5.41 20z\"/>\n",
              "  </svg>\n",
              "      </button>\n",
              "      \n",
              "  <style>\n",
              "    .colab-df-container {\n",
              "      display:flex;\n",
              "      flex-wrap:wrap;\n",
              "      gap: 12px;\n",
              "    }\n",
              "\n",
              "    .colab-df-convert {\n",
              "      background-color: #E8F0FE;\n",
              "      border: none;\n",
              "      border-radius: 50%;\n",
              "      cursor: pointer;\n",
              "      display: none;\n",
              "      fill: #1967D2;\n",
              "      height: 32px;\n",
              "      padding: 0 0 0 0;\n",
              "      width: 32px;\n",
              "    }\n",
              "\n",
              "    .colab-df-convert:hover {\n",
              "      background-color: #E2EBFA;\n",
              "      box-shadow: 0px 1px 2px rgba(60, 64, 67, 0.3), 0px 1px 3px 1px rgba(60, 64, 67, 0.15);\n",
              "      fill: #174EA6;\n",
              "    }\n",
              "\n",
              "    [theme=dark] .colab-df-convert {\n",
              "      background-color: #3B4455;\n",
              "      fill: #D2E3FC;\n",
              "    }\n",
              "\n",
              "    [theme=dark] .colab-df-convert:hover {\n",
              "      background-color: #434B5C;\n",
              "      box-shadow: 0px 1px 3px 1px rgba(0, 0, 0, 0.15);\n",
              "      filter: drop-shadow(0px 1px 2px rgba(0, 0, 0, 0.3));\n",
              "      fill: #FFFFFF;\n",
              "    }\n",
              "  </style>\n",
              "\n",
              "      <script>\n",
              "        const buttonEl =\n",
              "          document.querySelector('#df-ae9393fc-4dda-47ea-85f1-3ec3045c811c button.colab-df-convert');\n",
              "        buttonEl.style.display =\n",
              "          google.colab.kernel.accessAllowed ? 'block' : 'none';\n",
              "\n",
              "        async function convertToInteractive(key) {\n",
              "          const element = document.querySelector('#df-ae9393fc-4dda-47ea-85f1-3ec3045c811c');\n",
              "          const dataTable =\n",
              "            await google.colab.kernel.invokeFunction('convertToInteractive',\n",
              "                                                     [key], {});\n",
              "          if (!dataTable) return;\n",
              "\n",
              "          const docLinkHtml = 'Like what you see? Visit the ' +\n",
              "            '<a target=\"_blank\" href=https://colab.research.google.com/notebooks/data_table.ipynb>data table notebook</a>'\n",
              "            + ' to learn more about interactive tables.';\n",
              "          element.innerHTML = '';\n",
              "          dataTable['output_type'] = 'display_data';\n",
              "          await google.colab.output.renderOutput(dataTable, element);\n",
              "          const docLink = document.createElement('div');\n",
              "          docLink.innerHTML = docLinkHtml;\n",
              "          element.appendChild(docLink);\n",
              "        }\n",
              "      </script>\n",
              "    </div>\n",
              "  </div>\n",
              "  "
            ]
          },
          "metadata": {},
          "execution_count": 25
        }
      ]
    },
    {
      "cell_type": "code",
      "source": [
        "plot_cols_list = df.columns[1:]\n",
        "df[plot_cols_list]"
      ],
      "metadata": {
        "colab": {
          "base_uri": "https://localhost:8080/",
          "height": 423
        },
        "id": "_QgC-mTuweaA",
        "outputId": "b0e07c0b-a904-451e-9ead-0dfcb2a214da"
      },
      "execution_count": null,
      "outputs": [
        {
          "output_type": "execute_result",
          "data": {
            "text/plain": [
              "     Gender  Lenght  Diameter  Height  Whole Weight  Shucked Weight  \\\n",
              "0         M   0.570     0.480   0.180        0.9395          0.3990   \n",
              "1         M   0.560     0.425   0.135        0.9415          0.5090   \n",
              "2         F   0.655     0.510   0.150        1.0430          0.4795   \n",
              "3         I   0.310     0.225   0.050        0.1445          0.0675   \n",
              "4         M   0.310     0.225   0.075        0.1295          0.0455   \n",
              "...     ...     ...       ...     ...           ...             ...   \n",
              "1122      F   0.565     0.450   0.185        0.9285          0.3020   \n",
              "1123      F   0.575     0.450   0.160        1.0680          0.5560   \n",
              "1124      I   0.580     0.435   0.150        0.8915          0.3630   \n",
              "1125      F   0.590     0.455   0.150        0.9760          0.4650   \n",
              "1126      I   0.725     0.550   0.220        2.0495          0.7735   \n",
              "\n",
              "      Viscra Weight  Shell Weight  Target  \n",
              "0            0.2000        0.2950      14  \n",
              "1            0.2015        0.1975       9  \n",
              "2            0.2230        0.3050       9  \n",
              "3            0.0385        0.0450       6  \n",
              "4            0.0335        0.0440       9  \n",
              "...             ...           ...     ...  \n",
              "1122         0.1805        0.2650      12  \n",
              "1123         0.2140        0.2575      10  \n",
              "1124         0.1925        0.2515       6  \n",
              "1125         0.2055        0.2765      10  \n",
              "1126         0.4405        0.6550      10  \n",
              "\n",
              "[1127 rows x 9 columns]"
            ],
            "text/html": [
              "\n",
              "  <div id=\"df-c8b18e3a-dd2f-49fe-9a04-280f449a7d4d\">\n",
              "    <div class=\"colab-df-container\">\n",
              "      <div>\n",
              "<style scoped>\n",
              "    .dataframe tbody tr th:only-of-type {\n",
              "        vertical-align: middle;\n",
              "    }\n",
              "\n",
              "    .dataframe tbody tr th {\n",
              "        vertical-align: top;\n",
              "    }\n",
              "\n",
              "    .dataframe thead th {\n",
              "        text-align: right;\n",
              "    }\n",
              "</style>\n",
              "<table border=\"1\" class=\"dataframe\">\n",
              "  <thead>\n",
              "    <tr style=\"text-align: right;\">\n",
              "      <th></th>\n",
              "      <th>Gender</th>\n",
              "      <th>Lenght</th>\n",
              "      <th>Diameter</th>\n",
              "      <th>Height</th>\n",
              "      <th>Whole Weight</th>\n",
              "      <th>Shucked Weight</th>\n",
              "      <th>Viscra Weight</th>\n",
              "      <th>Shell Weight</th>\n",
              "      <th>Target</th>\n",
              "    </tr>\n",
              "  </thead>\n",
              "  <tbody>\n",
              "    <tr>\n",
              "      <th>0</th>\n",
              "      <td>M</td>\n",
              "      <td>0.570</td>\n",
              "      <td>0.480</td>\n",
              "      <td>0.180</td>\n",
              "      <td>0.9395</td>\n",
              "      <td>0.3990</td>\n",
              "      <td>0.2000</td>\n",
              "      <td>0.2950</td>\n",
              "      <td>14</td>\n",
              "    </tr>\n",
              "    <tr>\n",
              "      <th>1</th>\n",
              "      <td>M</td>\n",
              "      <td>0.560</td>\n",
              "      <td>0.425</td>\n",
              "      <td>0.135</td>\n",
              "      <td>0.9415</td>\n",
              "      <td>0.5090</td>\n",
              "      <td>0.2015</td>\n",
              "      <td>0.1975</td>\n",
              "      <td>9</td>\n",
              "    </tr>\n",
              "    <tr>\n",
              "      <th>2</th>\n",
              "      <td>F</td>\n",
              "      <td>0.655</td>\n",
              "      <td>0.510</td>\n",
              "      <td>0.150</td>\n",
              "      <td>1.0430</td>\n",
              "      <td>0.4795</td>\n",
              "      <td>0.2230</td>\n",
              "      <td>0.3050</td>\n",
              "      <td>9</td>\n",
              "    </tr>\n",
              "    <tr>\n",
              "      <th>3</th>\n",
              "      <td>I</td>\n",
              "      <td>0.310</td>\n",
              "      <td>0.225</td>\n",
              "      <td>0.050</td>\n",
              "      <td>0.1445</td>\n",
              "      <td>0.0675</td>\n",
              "      <td>0.0385</td>\n",
              "      <td>0.0450</td>\n",
              "      <td>6</td>\n",
              "    </tr>\n",
              "    <tr>\n",
              "      <th>4</th>\n",
              "      <td>M</td>\n",
              "      <td>0.310</td>\n",
              "      <td>0.225</td>\n",
              "      <td>0.075</td>\n",
              "      <td>0.1295</td>\n",
              "      <td>0.0455</td>\n",
              "      <td>0.0335</td>\n",
              "      <td>0.0440</td>\n",
              "      <td>9</td>\n",
              "    </tr>\n",
              "    <tr>\n",
              "      <th>...</th>\n",
              "      <td>...</td>\n",
              "      <td>...</td>\n",
              "      <td>...</td>\n",
              "      <td>...</td>\n",
              "      <td>...</td>\n",
              "      <td>...</td>\n",
              "      <td>...</td>\n",
              "      <td>...</td>\n",
              "      <td>...</td>\n",
              "    </tr>\n",
              "    <tr>\n",
              "      <th>1122</th>\n",
              "      <td>F</td>\n",
              "      <td>0.565</td>\n",
              "      <td>0.450</td>\n",
              "      <td>0.185</td>\n",
              "      <td>0.9285</td>\n",
              "      <td>0.3020</td>\n",
              "      <td>0.1805</td>\n",
              "      <td>0.2650</td>\n",
              "      <td>12</td>\n",
              "    </tr>\n",
              "    <tr>\n",
              "      <th>1123</th>\n",
              "      <td>F</td>\n",
              "      <td>0.575</td>\n",
              "      <td>0.450</td>\n",
              "      <td>0.160</td>\n",
              "      <td>1.0680</td>\n",
              "      <td>0.5560</td>\n",
              "      <td>0.2140</td>\n",
              "      <td>0.2575</td>\n",
              "      <td>10</td>\n",
              "    </tr>\n",
              "    <tr>\n",
              "      <th>1124</th>\n",
              "      <td>I</td>\n",
              "      <td>0.580</td>\n",
              "      <td>0.435</td>\n",
              "      <td>0.150</td>\n",
              "      <td>0.8915</td>\n",
              "      <td>0.3630</td>\n",
              "      <td>0.1925</td>\n",
              "      <td>0.2515</td>\n",
              "      <td>6</td>\n",
              "    </tr>\n",
              "    <tr>\n",
              "      <th>1125</th>\n",
              "      <td>F</td>\n",
              "      <td>0.590</td>\n",
              "      <td>0.455</td>\n",
              "      <td>0.150</td>\n",
              "      <td>0.9760</td>\n",
              "      <td>0.4650</td>\n",
              "      <td>0.2055</td>\n",
              "      <td>0.2765</td>\n",
              "      <td>10</td>\n",
              "    </tr>\n",
              "    <tr>\n",
              "      <th>1126</th>\n",
              "      <td>I</td>\n",
              "      <td>0.725</td>\n",
              "      <td>0.550</td>\n",
              "      <td>0.220</td>\n",
              "      <td>2.0495</td>\n",
              "      <td>0.7735</td>\n",
              "      <td>0.4405</td>\n",
              "      <td>0.6550</td>\n",
              "      <td>10</td>\n",
              "    </tr>\n",
              "  </tbody>\n",
              "</table>\n",
              "<p>1127 rows × 9 columns</p>\n",
              "</div>\n",
              "      <button class=\"colab-df-convert\" onclick=\"convertToInteractive('df-c8b18e3a-dd2f-49fe-9a04-280f449a7d4d')\"\n",
              "              title=\"Convert this dataframe to an interactive table.\"\n",
              "              style=\"display:none;\">\n",
              "        \n",
              "  <svg xmlns=\"http://www.w3.org/2000/svg\" height=\"24px\"viewBox=\"0 0 24 24\"\n",
              "       width=\"24px\">\n",
              "    <path d=\"M0 0h24v24H0V0z\" fill=\"none\"/>\n",
              "    <path d=\"M18.56 5.44l.94 2.06.94-2.06 2.06-.94-2.06-.94-.94-2.06-.94 2.06-2.06.94zm-11 1L8.5 8.5l.94-2.06 2.06-.94-2.06-.94L8.5 2.5l-.94 2.06-2.06.94zm10 10l.94 2.06.94-2.06 2.06-.94-2.06-.94-.94-2.06-.94 2.06-2.06.94z\"/><path d=\"M17.41 7.96l-1.37-1.37c-.4-.4-.92-.59-1.43-.59-.52 0-1.04.2-1.43.59L10.3 9.45l-7.72 7.72c-.78.78-.78 2.05 0 2.83L4 21.41c.39.39.9.59 1.41.59.51 0 1.02-.2 1.41-.59l7.78-7.78 2.81-2.81c.8-.78.8-2.07 0-2.86zM5.41 20L4 18.59l7.72-7.72 1.47 1.35L5.41 20z\"/>\n",
              "  </svg>\n",
              "      </button>\n",
              "      \n",
              "  <style>\n",
              "    .colab-df-container {\n",
              "      display:flex;\n",
              "      flex-wrap:wrap;\n",
              "      gap: 12px;\n",
              "    }\n",
              "\n",
              "    .colab-df-convert {\n",
              "      background-color: #E8F0FE;\n",
              "      border: none;\n",
              "      border-radius: 50%;\n",
              "      cursor: pointer;\n",
              "      display: none;\n",
              "      fill: #1967D2;\n",
              "      height: 32px;\n",
              "      padding: 0 0 0 0;\n",
              "      width: 32px;\n",
              "    }\n",
              "\n",
              "    .colab-df-convert:hover {\n",
              "      background-color: #E2EBFA;\n",
              "      box-shadow: 0px 1px 2px rgba(60, 64, 67, 0.3), 0px 1px 3px 1px rgba(60, 64, 67, 0.15);\n",
              "      fill: #174EA6;\n",
              "    }\n",
              "\n",
              "    [theme=dark] .colab-df-convert {\n",
              "      background-color: #3B4455;\n",
              "      fill: #D2E3FC;\n",
              "    }\n",
              "\n",
              "    [theme=dark] .colab-df-convert:hover {\n",
              "      background-color: #434B5C;\n",
              "      box-shadow: 0px 1px 3px 1px rgba(0, 0, 0, 0.15);\n",
              "      filter: drop-shadow(0px 1px 2px rgba(0, 0, 0, 0.3));\n",
              "      fill: #FFFFFF;\n",
              "    }\n",
              "  </style>\n",
              "\n",
              "      <script>\n",
              "        const buttonEl =\n",
              "          document.querySelector('#df-c8b18e3a-dd2f-49fe-9a04-280f449a7d4d button.colab-df-convert');\n",
              "        buttonEl.style.display =\n",
              "          google.colab.kernel.accessAllowed ? 'block' : 'none';\n",
              "\n",
              "        async function convertToInteractive(key) {\n",
              "          const element = document.querySelector('#df-c8b18e3a-dd2f-49fe-9a04-280f449a7d4d');\n",
              "          const dataTable =\n",
              "            await google.colab.kernel.invokeFunction('convertToInteractive',\n",
              "                                                     [key], {});\n",
              "          if (!dataTable) return;\n",
              "\n",
              "          const docLinkHtml = 'Like what you see? Visit the ' +\n",
              "            '<a target=\"_blank\" href=https://colab.research.google.com/notebooks/data_table.ipynb>data table notebook</a>'\n",
              "            + ' to learn more about interactive tables.';\n",
              "          element.innerHTML = '';\n",
              "          dataTable['output_type'] = 'display_data';\n",
              "          await google.colab.output.renderOutput(dataTable, element);\n",
              "          const docLink = document.createElement('div');\n",
              "          docLink.innerHTML = docLinkHtml;\n",
              "          element.appendChild(docLink);\n",
              "        }\n",
              "      </script>\n",
              "    </div>\n",
              "  </div>\n",
              "  "
            ]
          },
          "metadata": {},
          "execution_count": 26
        }
      ]
    },
    {
      "cell_type": "code",
      "source": [
        "plot_cols_list = df.columns[1:]\n",
        "print(plot_cols_list)\n",
        "\n",
        "#df[plot_cols_list].hist(figsize = (10,10))\n",
        "x = df[Lenght]\n",
        "print(x)\n",
        "sns.distplot(x)\n",
        "plt.show()"
      ],
      "metadata": {
        "id": "4pde0gp8ZVSl",
        "colab": {
          "base_uri": "https://localhost:8080/",
          "height": 303
        },
        "outputId": "3316b4f8-9b01-4b5d-9514-4a2982be9c41"
      },
      "execution_count": null,
      "outputs": [
        {
          "output_type": "stream",
          "name": "stdout",
          "text": [
            "Index(['Gender', 'Lenght', 'Diameter', 'Height', 'Whole Weight',\n",
            "       'Shucked Weight', 'Viscra Weight', 'Shell Weight', 'Target'],\n",
            "      dtype='object')\n"
          ]
        },
        {
          "output_type": "error",
          "ename": "NameError",
          "evalue": "ignored",
          "traceback": [
            "\u001b[0;31m---------------------------------------------------------------------------\u001b[0m",
            "\u001b[0;31mNameError\u001b[0m                                 Traceback (most recent call last)",
            "\u001b[0;32m<ipython-input-27-2465d63ed512>\u001b[0m in \u001b[0;36m<module>\u001b[0;34m()\u001b[0m\n\u001b[1;32m      3\u001b[0m \u001b[0;34m\u001b[0m\u001b[0m\n\u001b[1;32m      4\u001b[0m \u001b[0;31m#df[plot_cols_list].hist(figsize = (10,10))\u001b[0m\u001b[0;34m\u001b[0m\u001b[0;34m\u001b[0m\u001b[0;34m\u001b[0m\u001b[0m\n\u001b[0;32m----> 5\u001b[0;31m \u001b[0mx\u001b[0m \u001b[0;34m=\u001b[0m \u001b[0mdf\u001b[0m\u001b[0;34m[\u001b[0m\u001b[0mLenght\u001b[0m\u001b[0;34m]\u001b[0m\u001b[0;34m\u001b[0m\u001b[0;34m\u001b[0m\u001b[0m\n\u001b[0m\u001b[1;32m      6\u001b[0m \u001b[0mprint\u001b[0m\u001b[0;34m(\u001b[0m\u001b[0mx\u001b[0m\u001b[0;34m)\u001b[0m\u001b[0;34m\u001b[0m\u001b[0;34m\u001b[0m\u001b[0m\n\u001b[1;32m      7\u001b[0m \u001b[0msns\u001b[0m\u001b[0;34m.\u001b[0m\u001b[0mdistplot\u001b[0m\u001b[0;34m(\u001b[0m\u001b[0mx\u001b[0m\u001b[0;34m)\u001b[0m\u001b[0;34m\u001b[0m\u001b[0;34m\u001b[0m\u001b[0m\n",
            "\u001b[0;31mNameError\u001b[0m: name 'Lenght' is not defined"
          ]
        }
      ]
    },
    {
      "cell_type": "code",
      "source": [
        ""
      ],
      "metadata": {
        "id": "6ZCJ-a7YaWmR"
      },
      "execution_count": null,
      "outputs": []
    },
    {
      "cell_type": "markdown",
      "source": [
        ""
      ],
      "metadata": {
        "id": "QiEvx4EO7sXX"
      }
    },
    {
      "cell_type": "code",
      "source": [
        "def corr_heat(df):\n",
        "    plt.figure(figsize=(15,15))\n",
        "\n",
        "    corr_df = df.corr()\n",
        "\n",
        "    mask = np.zeros_like(corr_df)\n",
        "    mask[np.triu_indices_from(mask)] = 1\n",
        "    heat_map = sns.heatmap(corr_df, annot=True, mask = mask, cmap='coolwarm')\n",
        "    heat_map.set_xticklabels(heat_map.get_xticklabels(), fontsize=12, rotation=45)\n",
        "    heat_map.set_yticklabels(heat_map.get_yticklabels(), fontsize=12)\n",
        "    plt.title('corr value', fontsize=30)\n",
        "    plt.show()\n",
        "    \n",
        "corr_heat(df[plot_cols_list])"
      ],
      "metadata": {
        "id": "4JCUlx067sci"
      },
      "execution_count": null,
      "outputs": []
    },
    {
      "cell_type": "code",
      "source": [
        "f,ax = plt.subplots(figsize=(15,15))\n",
        "sns.histplot(x='Target',data=df,hue='Gender',kde=True)"
      ],
      "metadata": {
        "id": "IYFn8buNR16H"
      },
      "execution_count": null,
      "outputs": []
    },
    {
      "cell_type": "code",
      "source": [
        "f,ax = plt.subplots(figsize=(15,15))\n",
        "sns.histplot(x='Target',data=df,hue='Gender',kde=True)"
      ],
      "metadata": {
        "id": "G8yiTTXJym5i"
      },
      "execution_count": null,
      "outputs": []
    },
    {
      "cell_type": "code",
      "source": [
        "df_cooo.columns"
      ],
      "metadata": {
        "id": "D7Wr1FvcmQHY"
      },
      "execution_count": null,
      "outputs": []
    },
    {
      "cell_type": "code",
      "source": [
        "sns.kdeplot(x=df_co['Target'])"
      ],
      "metadata": {
        "id": "TWUvhGyDnwVe"
      },
      "execution_count": null,
      "outputs": []
    },
    {
      "cell_type": "code",
      "source": [
        "def corr_heat(df):\n",
        "    plt.figure(figsize=(15,15))\n",
        "\n",
        "    corr_df = df.corr()\n",
        "\n",
        "    mask = np.zeros_like(corr_df)\n",
        "    mask[np.triu_indices_from(mask)] = 1\n",
        "    heat_map = sns.heatmap(corr_df, annot=True, mask = mask, cmap='coolwarm')\n",
        "    heat_map.set_xticklabels(heat_map.get_xticklabels(), fontsize=12, rotation=45)\n",
        "    heat_map.set_yticklabels(heat_map.get_yticklabels(), fontsize=12)\n",
        "    plt.title('corr value', fontsize=30)\n",
        "    plt.show()\n",
        "    \n",
        "corr_heat(df[plot_cols_list])"
      ],
      "metadata": {
        "id": "txwiaz4hrtGV"
      },
      "execution_count": null,
      "outputs": []
    },
    {
      "cell_type": "code",
      "source": [
        "numerical_features = [x for x in df.keys() if x not in ['Gender','Target']]"
      ],
      "metadata": {
        "id": "aIkovvJ1zvze"
      },
      "execution_count": null,
      "outputs": []
    },
    {
      "cell_type": "code",
      "source": [
        "fig, axes = plt.subplots(3,3 , figsize=(13,13))\n",
        "fig.suptitle(\"data\")\n",
        "for i in range(7):\n",
        "    row, col = i//3, i%3\n",
        "    feature = numerical_features[i]\n",
        "    x = df[feature]\n",
        "    ax = axes[row][col]\n",
        "    sns.histplot(x, kde=True, ax=ax, color='#FC7F77')\n",
        "    \n",
        "plt.show()\n",
        "plt.close()"
      ],
      "metadata": {
        "id": "kPLGBERMzw4B"
      },
      "execution_count": null,
      "outputs": []
    },
    {
      "cell_type": "code",
      "source": [
        "fig, ax = plt.subplots(3, 3, figsize = (14, 14))\n",
        "\n",
        "plt.suptitle(\"feature / target\", fontsize=40)\n",
        "\n",
        "feature = [\"Length\", \"Diameter\", \"Height\", \"Whole Weight\", \"Shucked Weight\", \"Viscra Weight\", \"Shell Weight\", \"Gender\"]\n",
        "\n",
        "xvalue = 0\n",
        "yvalue = 0\n",
        "\n",
        "for xstr in feature:\n",
        "    if xstr == \"Gender\":\n",
        "        sns.violinplot(x = xstr, y = 'Target', data = df)\n",
        "    else:\n",
        "        sns.scatterplot(x = xstr, y = 'Target', data = df, ax = ax[yvalue][xvalue])\n",
        "        \n",
        "    if xvalue == 2:\n",
        "        xvalue = 0\n",
        "        yvalue += 1\n",
        "    else:\n",
        "        xvalue += 1"
      ],
      "metadata": {
        "id": "SLDn1hWW5Dsw"
      },
      "execution_count": null,
      "outputs": []
    }
  ]
}