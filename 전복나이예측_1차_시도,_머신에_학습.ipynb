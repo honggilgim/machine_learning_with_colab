{
  "nbformat": 4,
  "nbformat_minor": 0,
  "metadata": {
    "colab": {
      "name": "전복나이예측 1차 시도, 머신에 학습.ipynb",
      "provenance": [],
      "authorship_tag": "ABX9TyOXNQQyGlOvz5ZYzXV4eh6P",
      "include_colab_link": true
    },
    "kernelspec": {
      "name": "python3",
      "display_name": "Python 3"
    },
    "language_info": {
      "name": "python"
    }
  },
  "cells": [
    {
      "cell_type": "markdown",
      "metadata": {
        "id": "view-in-github",
        "colab_type": "text"
      },
      "source": [
        "<a href=\"https://colab.research.google.com/github/honggilgim/python_test_with_colab/blob/main/%EC%A0%84%EB%B3%B5%EB%82%98%EC%9D%B4%EC%98%88%EC%B8%A1_1%EC%B0%A8_%EC%8B%9C%EB%8F%84%2C_%EB%A8%B8%EC%8B%A0%EC%97%90_%ED%95%99%EC%8A%B5.ipynb\" target=\"_parent\"><img src=\"https://colab.research.google.com/assets/colab-badge.svg\" alt=\"Open In Colab\"/></a>"
      ]
    },
    {
      "cell_type": "code",
      "execution_count": 1,
      "metadata": {
        "id": "C3o-RgSWc1xf"
      },
      "outputs": [],
      "source": [
        "import numpy as np\n",
        "import pandas as pd\n",
        "import tensorflow\n",
        "import os"
      ]
    },
    {
      "cell_type": "code",
      "source": [
        "train = pd.read_csv('/content/train2.csv')"
      ],
      "metadata": {
        "id": "ekaCJ0W3dAl5"
      },
      "execution_count": 6,
      "outputs": []
    },
    {
      "cell_type": "code",
      "source": [
        "test = pd.read_csv('/content/test2.csv')"
      ],
      "metadata": {
        "id": "BZAtoit1dY59"
      },
      "execution_count": 4,
      "outputs": []
    },
    {
      "cell_type": "code",
      "source": [
        "train.drop('id', axis=1, inplace=True)\n",
        "test.drop('id', axis=1, inplace=True)"
      ],
      "metadata": {
        "id": "OtgCyJe0dgfM"
      },
      "execution_count": 7,
      "outputs": []
    },
    {
      "cell_type": "code",
      "source": [
        "data_train = train.drop(index = [47, 382, 435, 847, 1078], axis = 0) # 전복무게 + 껍질무게 > 전체무게"
      ],
      "metadata": {
        "id": "-YFtEtIldl4n"
      },
      "execution_count": 11,
      "outputs": []
    },
    {
      "cell_type": "code",
      "source": [
        "data_train = data_train.drop(index = [119, 129,179, 224, 290, 324, 346, 368, 374, 418, 430, 544, 599,\n",
        "                                      637, 692, 765, 794, 807, 817, 856, 922, 987, 989, 1013, 1020, \n",
        "                                      1035 ,1041, 1057, 1090, 1110, 1112], axis = 0) # 전체 무게 < (전복무게 + 내장무게 + 껍데기 무게) 인 경우(삭제)"
      ],
      "metadata": {
        "id": "OAwyVXu7eCGJ"
      },
      "execution_count": 13,
      "outputs": []
    },
    {
      "cell_type": "code",
      "source": [
        "train_X = train.drop('Target', axis=1)\n",
        "train_y = train.Target\n",
        "\n",
        "train_X = pd.get_dummies(data = train_X, columns = ['Gender'], prefix = 'Gender')\n",
        "test = pd.get_dummies(data = test, columns = ['Gender'], prefix = 'Gender')\n",
        "\n",
        "foreign_body = train_X['Whole Weight'] - (train_X['Shucked Weight'] + train_X['Viscra Weight'] + train_X['Shell Weight'])\n",
        "train_X['foreign body'] = foreign_body\n",
        "train_X.loc[train_X['foreign body'] < 0 , 'foreign body'] = 0\n",
        "\n",
        "\n",
        "foreign_body = test['Whole Weight'] - (test['Shucked Weight'] + test['Viscra Weight'] + test['Shell Weight'])\n",
        "test['foreign body'] = foreign_body\n",
        "test.loc[test['foreign body'] < 0 , 'foreign body'] = 0"
      ],
      "metadata": {
        "id": "t4nElMiEeII3"
      },
      "execution_count": 14,
      "outputs": []
    },
    {
      "cell_type": "code",
      "source": [
        "train_X_MF=train_X[(train_X['Gender_F']==1) | (train_X['Gender_M']==1)]\n",
        "train_y_MF=train_y[(train_X['Gender_F']==1) | (train_X['Gender_M']==1)]\n",
        "train_X_I=train_X[train_X['Gender_I']==1]\n",
        "train_y_I=train_y[train_X['Gender_I']==1]\n",
        "\n",
        "test_MF=test[(test['Gender_F']==1) | (test['Gender_M']==1)]\n",
        "test_MF_idx=test_MF.index\n",
        "test_I=test[test['Gender_I']==1]\n",
        "test_I_idx=test_I.index\n",
        "\n",
        "train_X_MF.drop(['Gender_F', 'Gender_I', 'Gender_M'], axis=1, inplace=True)\n",
        "train_X_I.drop(['Gender_F', 'Gender_I', 'Gender_M'], axis=1, inplace=True)\n",
        "\n",
        "test_MF.drop(['Gender_F', 'Gender_I', 'Gender_M'], axis=1, inplace=True)\n",
        "test_I.drop(['Gender_F', 'Gender_I', 'Gender_M'], axis=1, inplace=True)"
      ],
      "metadata": {
        "colab": {
          "base_uri": "https://localhost:8080/"
        },
        "id": "gwrMm_n_eKoJ",
        "outputId": "4b6447de-9df2-4bc7-94a1-a6301612ead1"
      },
      "execution_count": 15,
      "outputs": [
        {
          "output_type": "stream",
          "name": "stderr",
          "text": [
            "/usr/local/lib/python3.7/dist-packages/pandas/core/frame.py:4913: SettingWithCopyWarning: \n",
            "A value is trying to be set on a copy of a slice from a DataFrame\n",
            "\n",
            "See the caveats in the documentation: https://pandas.pydata.org/pandas-docs/stable/user_guide/indexing.html#returning-a-view-versus-a-copy\n",
            "  errors=errors,\n"
          ]
        }
      ]
    },
    {
      "cell_type": "code",
      "source": [
        "from tensorflow.keras.layers import *\n",
        "from tensorflow.keras.models import *\n",
        "from tensorflow.keras.optimizers import *\n",
        "from tensorflow.keras.callbacks import *\n"
      ],
      "metadata": {
        "id": "QC_PhA3veMh1"
      },
      "execution_count": 16,
      "outputs": []
    },
    {
      "cell_type": "code",
      "source": [
        "temp=train_X\n",
        "temp['y']=train_y.values\n",
        "temp['Gender_MF']=temp['Gender_F']+temp['Gender_M']\n",
        "print(temp.corr())"
      ],
      "metadata": {
        "colab": {
          "base_uri": "https://localhost:8080/"
        },
        "id": "XHaYlxhCeOIt",
        "outputId": "3cfe5160-3a57-49cf-9e6d-b8e45d17ad09"
      },
      "execution_count": 17,
      "outputs": [
        {
          "output_type": "stream",
          "name": "stdout",
          "text": [
            "                Unnamed: 0    Lenght  Diameter    Height  Whole Weight  \\\n",
            "Unnamed: 0        1.000000  0.005647  0.008098  0.027576      0.020325   \n",
            "Lenght            0.005647  1.000000  0.987336  0.905323      0.926032   \n",
            "Diameter          0.008098  0.987336  1.000000  0.912596      0.928018   \n",
            "Height            0.027576  0.905323  0.912596  1.000000      0.897565   \n",
            "Whole Weight      0.020325  0.926032  0.928018  0.897565      1.000000   \n",
            "Shucked Weight    0.011309  0.895539  0.891400  0.840838      0.967998   \n",
            "Viscra Weight     0.026939  0.902617  0.901182  0.868035      0.966080   \n",
            "Shell Weight      0.024770  0.897628  0.907122  0.902457      0.952435   \n",
            "Gender_F          0.027089  0.304922  0.315245  0.293724      0.290356   \n",
            "Gender_I         -0.050490 -0.525160 -0.543525 -0.538969     -0.534727   \n",
            "Gender_M          0.023087  0.218055  0.226005  0.242108      0.241209   \n",
            "foreign body      0.029554  0.588485  0.600747  0.611135      0.690211   \n",
            "y                 0.064267  0.544288  0.569380  0.606440      0.536748   \n",
            "Gender_MF         0.050490  0.525160  0.543525  0.538969      0.534727   \n",
            "\n",
            "                Shucked Weight  Viscra Weight  Shell Weight  Gender_F  \\\n",
            "Unnamed: 0            0.011309       0.026939      0.024770  0.027089   \n",
            "Lenght                0.895539       0.902617      0.897628  0.304922   \n",
            "Diameter              0.891400       0.901182      0.907122  0.315245   \n",
            "Height                0.840838       0.868035      0.902457  0.293724   \n",
            "Whole Weight          0.967998       0.966080      0.952435  0.290356   \n",
            "Shucked Weight        1.000000       0.931633      0.872618  0.250543   \n",
            "Viscra Weight         0.931633       1.000000      0.903189  0.294168   \n",
            "Shell Weight          0.872618       0.903189      1.000000  0.305668   \n",
            "Gender_F              0.250543       0.294168      0.305668  1.000000   \n",
            "Gender_I             -0.496132      -0.529944     -0.526499 -0.458741   \n",
            "Gender_M              0.241775       0.232941      0.218640 -0.508936   \n",
            "foreign body          0.567477       0.601958      0.660379  0.221552   \n",
            "y                     0.418847       0.494249      0.624020  0.246070   \n",
            "Gender_MF             0.496132       0.529944      0.526499  0.458741   \n",
            "\n",
            "                Gender_I  Gender_M  foreign body         y  Gender_MF  \n",
            "Unnamed: 0     -0.050490  0.023087      0.029554  0.064267   0.050490  \n",
            "Lenght         -0.525160  0.218055      0.588485  0.544288   0.525160  \n",
            "Diameter       -0.543525  0.226005      0.600747  0.569380   0.543525  \n",
            "Height         -0.538969  0.242108      0.611135  0.606440   0.538969  \n",
            "Whole Weight   -0.534727  0.241209      0.690211  0.536748   0.534727  \n",
            "Shucked Weight -0.496132  0.241775      0.567477  0.418847   0.496132  \n",
            "Viscra Weight  -0.529944  0.232941      0.601958  0.494249   0.529944  \n",
            "Shell Weight   -0.526499  0.218640      0.660379  0.624020   0.526499  \n",
            "Gender_F       -0.458741 -0.508936      0.221552  0.246070   0.458741  \n",
            "Gender_I        1.000000 -0.531415     -0.375533 -0.426783  -1.000000  \n",
            "Gender_M       -0.531415  1.000000      0.152583  0.178858   0.531415  \n",
            "foreign body   -0.375533  0.152583      1.000000  0.532111   0.375533  \n",
            "y              -0.426783  0.178858      0.532111  1.000000   0.426783  \n",
            "Gender_MF      -1.000000  0.531415      0.375533  0.426783   1.000000  \n"
          ]
        }
      ]
    },
    {
      "cell_type": "code",
      "source": [
        "for MIF in ['MF', 'I']:\n",
        "    model = Sequential()\n",
        "    model.add(Dense(16, input_dim=10, activation='elu'))\n",
        "    model.add(Dense(32, activation='elu'))\n",
        "    model.add(Dense(64, activation='elu'))\n",
        "    model.add(Dropout(0.5))\n",
        "    model.add(Dense(32, activation='elu'))\n",
        "    model.add(Dense(16, activation='elu'))\n",
        "    model.add(Dense(1))"
      ],
      "metadata": {
        "id": "FosViUBVePo4"
      },
      "execution_count": 18,
      "outputs": []
    },
    {
      "cell_type": "code",
      "source": [
        " model.compile(loss='mean_absolute_error',\n",
        "                  optimizer='Nadam',\n",
        "                  metrics=['mae'])"
      ],
      "metadata": {
        "id": "kZu0_OT3eTZP"
      },
      "execution_count": 19,
      "outputs": []
    },
    {
      "cell_type": "code",
      "source": [
        "es = EarlyStopping(monitor='val_mae', patience=50, mode='min')"
      ],
      "metadata": {
        "id": "Xc_WCXJWeVSE"
      },
      "execution_count": 23,
      "outputs": []
    },
    {
      "cell_type": "code",
      "source": [
        "rlrp = ReduceLROnPlateau(monitor='val_mae', factor=0.2, patience=40, mode='min')"
      ],
      "metadata": {
        "id": "smqlZIheewFq"
      },
      "execution_count": 24,
      "outputs": []
    },
    {
      "cell_type": "code",
      "source": [
        "    MODEL_DIR = './model_{0}/'.format(MIF)\n",
        "    if not os.path.exists(MODEL_DIR):\n",
        "        os.mkdir(MODEL_DIR)\n",
        "\n",
        "    temp='./model_' + MIF  + '/'\n",
        "    modelpath= temp + '{epoch:02d}-{val_loss:.4f}.hdf5'"
      ],
      "metadata": {
        "id": "adrVLEm2fL-C"
      },
      "execution_count": 28,
      "outputs": []
    },
    {
      "cell_type": "code",
      "source": [
        "cp = ModelCheckpoint(filepath=modelpath, monitor='val_mae', verbose=0, save_best_only=True, mode = 'min')"
      ],
      "metadata": {
        "id": "QBhXuEAHfHoV"
      },
      "execution_count": 29,
      "outputs": []
    },
    {
      "cell_type": "code",
      "source": [
        "if MIF=='MF':\n",
        "  model.fit(train_X_MF, train_y_MF, validation_split=0.3, epochs=1000, batch_size=32, verbose=1, callbacks=[es, cp, rlrp])\n",
        "  Y_prediction = model.predict(test_MF).flatten()\n",
        "  submission['Target'][test_MF_idx] = np.round(Y_prediction)"
      ],
      "metadata": {
        "id": "IPAXTaJgew0u"
      },
      "execution_count": 35,
      "outputs": []
    }
  ]
}