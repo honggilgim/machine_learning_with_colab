{
  "nbformat": 4,
  "nbformat_minor": 0,
  "metadata": {
    "colab": {
      "name": "선형회귀분석 실습.ipynb",
      "provenance": [],
      "authorship_tag": "ABX9TyPxF0iGBYwpAgWB1gX2Xj6a",
      "include_colab_link": true
    },
    "kernelspec": {
      "name": "python3",
      "display_name": "Python 3"
    },
    "language_info": {
      "name": "python"
    }
  },
  "cells": [
    {
      "cell_type": "markdown",
      "metadata": {
        "id": "view-in-github",
        "colab_type": "text"
      },
      "source": [
        "<a href=\"https://colab.research.google.com/github/honggilgim/python_test_with_colab/blob/main/%EC%84%A0%ED%98%95%ED%9A%8C%EA%B7%80%EB%B6%84%EC%84%9D_%EC%8B%A4%EC%8A%B5.ipynb\" target=\"_parent\"><img src=\"https://colab.research.google.com/assets/colab-badge.svg\" alt=\"Open In Colab\"/></a>"
      ]
    },
    {
      "cell_type": "code",
      "execution_count": 1,
      "metadata": {
        "id": "u9m1yp350rON"
      },
      "outputs": [],
      "source": [
        "import numpy as np\n",
        "data = np.array([[100,30],\n",
        "                [80,20],\n",
        "                [90,26],\n",
        "                [50,15],\n",
        "                [70,20],\n",
        "                [80,22],\n",
        "                [75,23],\n",
        "                [60,15],\n",
        "                [100,35],\n",
        "                [20,2]])"
      ]
    },
    {
      "cell_type": "code",
      "source": [
        "x = data[:,1].reshape(-1,1)\n",
        "y = data[:,0]\n",
        "print(data)"
      ],
      "metadata": {
        "colab": {
          "base_uri": "https://localhost:8080/"
        },
        "id": "rcxWbvCr1L2E",
        "outputId": "fbe65186-9c59-4966-8124-f1b2e7de1bc7"
      },
      "execution_count": 2,
      "outputs": [
        {
          "output_type": "stream",
          "name": "stdout",
          "text": [
            "[[100  30]\n",
            " [ 80  20]\n",
            " [ 90  26]\n",
            " [ 50  15]\n",
            " [ 70  20]\n",
            " [ 80  22]\n",
            " [ 75  23]\n",
            " [ 60  15]\n",
            " [100  35]\n",
            " [ 20   2]]\n"
          ]
        }
      ]
    },
    {
      "cell_type": "code",
      "source": [
        "%matplotlib inline\n",
        "from matplotlib import pyplot as plt\n",
        "plt.scatter(x,y)\n",
        "plt.xlabel(\"study\")\n",
        "plt.ylabel(\"score\")\n",
        "plt.show()"
      ],
      "metadata": {
        "colab": {
          "base_uri": "https://localhost:8080/",
          "height": 279
        },
        "id": "X0ISW92q1UNb",
        "outputId": "0c66c360-d43c-4a16-f7c3-ea88d3d03db6"
      },
      "execution_count": 3,
      "outputs": [
        {
          "output_type": "display_data",
          "data": {
            "text/plain": [
              "<Figure size 432x288 with 1 Axes>"
            ],
            "image/png": "[encoded data removed]"
          },
          "metadata": {
            "needs_background": "light"
          }
        }
      ]
    },
    {
      "cell_type": "code",
      "source": [
        "from sklearn import linear_model\n",
        "regr = linear_model.LinearRegression()\n",
        "regr.fit(x,y)"
      ],
      "metadata": {
        "colab": {
          "base_uri": "https://localhost:8080/"
        },
        "id": "wcFEhXu-1jbu",
        "outputId": "d9fb46b2-00bf-4647-d5d2-39523c6b74ab"
      },
      "execution_count": 4,
      "outputs": [
        {
          "output_type": "execute_result",
          "data": {
            "text/plain": [
              "LinearRegression()"
            ]
          },
          "metadata": {},
          "execution_count": 4
        }
      ]
    },
    {
      "cell_type": "code",
      "source": [
        "print(regr.coef_)"
      ],
      "metadata": {
        "colab": {
          "base_uri": "https://localhost:8080/"
        },
        "id": "C5VUt_Y01uV6",
        "outputId": "2d427a5b-42ea-4323-946b-5cfce5f07a23"
      },
      "execution_count": 6,
      "outputs": [
        {
          "output_type": "stream",
          "name": "stdout",
          "text": [
            "[2.6092233]\n"
          ]
        }
      ]
    },
    {
      "cell_type": "markdown",
      "source": [
        "x 변수를 공부 시간으로 두고, y변수를 성적으로 두었을 때, 성적이 공부 시간에 영향을 받는다고 가정한다. 선형 회귀 분석 의 결과는 2.609로, 이는 주당 공부 시간이 한 시간 늘 때마다 성적이 2.6점 상승하는 것을 의미한다. 현재 자료의 y와 직선에 의해 계산된 y로 결정계수를 구해본다."
      ],
      "metadata": {
        "id": "_aXtBu-41zY2"
      }
    },
    {
      "cell_type": "code",
      "source": [
        "from sklearn.metrics import r2_score\n",
        "y_pred = regr.predict(x)\n",
        "r2_score(y,y_pred)"
      ],
      "metadata": {
        "colab": {
          "base_uri": "https://localhost:8080/"
        },
        "id": "sUY5YgOf1zEl",
        "outputId": "b5f1068e-028b-4317-f0c1-f248a4691699"
      },
      "execution_count": 7,
      "outputs": [
        {
          "output_type": "execute_result",
          "data": {
            "text/plain": [
              "0.9415099463643153"
            ]
          },
          "metadata": {},
          "execution_count": 7
        }
      ]
    },
    {
      "cell_type": "markdown",
      "source": [
        "대략 0.94 정도의 값이 나오는데, 이는 주어진 데이터에 대해 위 직선식이 잘 작동한다고 볼 수 있다."
      ],
      "metadata": {
        "id": "ZQjbSt5e2OVR"
      }
    },
    {
      "cell_type": "code",
      "source": [
        "# 구한 직선식 플롯에 같이 표현해보기\n",
        "\n",
        "plt.scatter(x,y,color='black')\n",
        "plt.plot(x,y_pred, color='blue',linewidth=3)\n",
        "plt.xlabel(\"study\")\n",
        "plt.ylabel(\"score\")\n",
        "plt.show()"
      ],
      "metadata": {
        "colab": {
          "base_uri": "https://localhost:8080/",
          "height": 279
        },
        "id": "Vqw88Gi82UJf",
        "outputId": "2a4e6844-3b5c-4d22-95a3-003583950a88"
      },
      "execution_count": 8,
      "outputs": [
        {
          "output_type": "display_data",
          "data": {
            "text/plain": [
              "<Figure size 432x288 with 1 Axes>"
            ],
            "image/png": "[encoded data removed]"
          },
          "metadata": {
            "needs_background": "light"
          }
        }
      ]
    }
  ]
}
