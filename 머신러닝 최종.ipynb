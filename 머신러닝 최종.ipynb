{
  "nbformat": 4,
  "nbformat_minor": 0,
  "metadata": {
    "colab": {
      "name": "응용수학_2022년_1학기_2016038005_김홍길.ipynb",
      "provenance": [],
      "collapsed_sections": [],
      "authorship_tag": "ABX9TyOcgzxJ+t2vsK0WLDsAEm9z",
      "include_colab_link": true
    },
    "kernelspec": {
      "name": "python3",
      "display_name": "Python 3"
    },
    "language_info": {
      "name": "python"
    }
  },
  "cells": [
    {
      "cell_type": "markdown",
      "metadata": {
        "id": "view-in-github",
        "colab_type": "text"
      },
      "source": [
        "<a href=\"https://colab.research.google.com/github/honggilgim/python_test_with_colab/blob/main/%EC%9D%91%EC%9A%A9%EC%88%98%ED%95%99_2022%EB%85%84_1%ED%95%99%EA%B8%B0_2016038005_%EA%B9%80%ED%99%8D%EA%B8%B8.ipynb\" target=\"_parent\"><img src=\"https://colab.research.google.com/assets/colab-badge.svg\" alt=\"Open In Colab\"/></a>"
      ]
    },
    {
      "cell_type": "code",
      "execution_count": null,
      "metadata": {
        "id": "UnTGTTTcSW86"
      },
      "outputs": [],
      "source": [
        "import numpy as np\n",
        "import pandas as pd\n",
        "import tensorflow\n",
        "import os\n",
        "\n",
        "train = pd.read_csv('/content/train2.csv')\n",
        "test = pd.read_csv('/content/test2.csv')\n",
        "\n",
        "train.drop('id', axis=1, inplace=True)\n",
        "test.drop('id', axis=1, inplace=True)"
      ]
    },
    {
      "cell_type": "code",
      "source": [
        "import joblib"
      ],
      "metadata": {
        "id": "FJ6Z2Ur6Fq8r"
      },
      "execution_count": null,
      "outputs": []
    },
    {
      "cell_type": "code",
      "source": [
        "# 이상치 제거 - 데이터 이상치를 제거하여 학습 성능을 높임\n",
        "\n",
        "data_train = train.drop(index = [47, 382, 435, 847, 1078], axis = 0) # 전복무게 + 껍질무게 > 전체무게\n",
        "data_train = data_train.drop(index = [119, 129,179, 224, 290, 324, 346, 368, 374, 418, 430, 544, 599,\\\n",
        "                                      637, 692, 765, 794, 807, 817, 856, 922, 987, 989, 1013, 1020, \\\n",
        "                                      1035 ,1041, 1057, 1090, 1110, 1112], axis = 0) # 전체 무게 < (전복무게 + 내장무게 + 껍데기 무게) 인 경우(삭제)"
      ],
      "metadata": {
        "id": "Tw4benrJxalI"
      },
      "execution_count": null,
      "outputs": []
    },
    {
      "cell_type": "code",
      "source": [
        "# foreign body column 추가, 전복 전체 무게 중 불필요한 물질들의 값.\n",
        "train_X = train.drop('Target', axis=1)\n",
        "train_y = train.Target\n",
        "\n",
        "train_X = pd.get_dummies(data = train_X, columns = ['Gender'], prefix = 'Gender')\n",
        "test = pd.get_dummies(data = test, columns = ['Gender'], prefix = 'Gender')\n",
        "\n",
        "foreign_body = train_X['Whole Weight'] - (train_X['Shucked Weight'] + train_X['Viscra Weight'] + train_X['Shell Weight'])\n",
        "train_X['foreign body'] = foreign_body\n",
        "train_X.loc[train_X['foreign body'] < 0 , 'foreign body'] = 0\n",
        "\n",
        "\n",
        "foreign_body = test['Whole Weight'] - (test['Shucked Weight'] + test['Viscra Weight'] + test['Shell Weight'])\n",
        "test['foreign body'] = foreign_body\n",
        "test.loc[test['foreign body'] < 0 , 'foreign body'] = 0"
      ],
      "metadata": {
        "id": "QOOewurwxmh2"
      },
      "execution_count": null,
      "outputs": []
    },
    {
      "cell_type": "code",
      "source": [
        "#gender 데이터 분류 M/F인 데이터와 I인 데이터 분류\n",
        "train_X_MF=train_X[(train_X['Gender_F']==1) | (train_X['Gender_M']==1)]\n",
        "train_y_MF=train_y[(train_X['Gender_F']==1) | (train_X['Gender_M']==1)]\n",
        "train_X_I=train_X[train_X['Gender_I']==1]\n",
        "train_y_I=train_y[train_X['Gender_I']==1]\n",
        "\n",
        "test_MF=test[(test['Gender_F']==1) | (test['Gender_M']==1)]\n",
        "test_MF_idx=test_MF.index\n",
        "test_I=test[test['Gender_I']==1]\n",
        "test_I_idx=test_I.index\n",
        "\n",
        "train_X_MF.drop(['Gender_F', 'Gender_I', 'Gender_M'], axis=1, inplace=True)\n",
        "train_X_I.drop(['Gender_F', 'Gender_I', 'Gender_M'], axis=1, inplace=True)\n",
        "\n",
        "test_MF.drop(['Gender_F', 'Gender_I', 'Gender_M'], axis=1, inplace=True)\n",
        "test_I.drop(['Gender_F', 'Gender_I', 'Gender_M'], axis=1, inplace=True)"
      ],
      "metadata": {
        "colab": {
          "base_uri": "https://localhost:8080/"
        },
        "id": "RZwCXIclx0sh",
        "outputId": "013d3da9-7484-4011-8b76-7b3b88149b0f"
      },
      "execution_count": null,
      "outputs": [
        {
          "output_type": "stream",
          "name": "stderr",
          "text": [
            "/usr/local/lib/python3.7/dist-packages/pandas/core/frame.py:4913: SettingWithCopyWarning: \n",
            "A value is trying to be set on a copy of a slice from a DataFrame\n",
            "\n",
            "See the caveats in the documentation: https://pandas.pydata.org/pandas-docs/stable/user_guide/indexing.html#returning-a-view-versus-a-copy\n",
            "  errors=errors,\n"
          ]
        }
      ]
    },
    {
      "cell_type": "code",
      "source": [
        "####### 여기부터, 학습 #######\n",
        "\"\"\"\n",
        "from tensorflow.keras.layers import *\n",
        "from tensorflow.keras.models import *\n",
        "from tensorflow.keras.optimizers import *\n",
        "from tensorflow.keras.callbacks import *\n",
        "\"\"\""
      ],
      "metadata": {
        "id": "Osglui9bx7I7"
      },
      "execution_count": null,
      "outputs": []
    },
    {
      "cell_type": "code",
      "source": [
        "\"\"\"\n",
        "temp=train_X\n",
        "temp['y']=train_y.values\n",
        "temp['Gender_MF']=temp['Gender_F']+temp['Gender_M']\n",
        "\"\"\""
      ],
      "metadata": {
        "id": "4bNQNyMBy_7T"
      },
      "execution_count": null,
      "outputs": []
    },
    {
      "cell_type": "code",
      "source": [
        "#ntest_MF=test_MF.drop('Target', axis=1)"
      ],
      "metadata": {
        "id": "GSOSERkG2Cqw"
      },
      "execution_count": null,
      "outputs": []
    },
    {
      "cell_type": "code",
      "source": [
        "#ntest_I=test_I.drop('Target', axis=1)"
      ],
      "metadata": {
        "id": "TPYw3lSH2Z29"
      },
      "execution_count": null,
      "outputs": []
    },
    {
      "cell_type": "code",
      "source": [
        "\"\"\"\n",
        "test_MF_data = pd.DataFrame(test_MF)\n",
        "test_MF_data.to_csv('test_MF.csv',index=False)\n",
        "\"\"\""
      ],
      "metadata": {
        "id": "obdiuQ-h6tzi"
      },
      "execution_count": null,
      "outputs": []
    },
    {
      "cell_type": "code",
      "source": [
        "\"\"\"\n",
        "for MIF in ['MF', 'I']:\n",
        "    model = Sequential()\n",
        "    model.add(Dense(16, input_dim=9, activation='elu'))\n",
        "    model.add(Dense(32, activation='elu'))\n",
        "    model.add(Dense(64, activation='elu'))\n",
        "    model.add(Dropout(0.5))\n",
        "    model.add(Dense(32, activation='elu'))\n",
        "    model.add(Dense(16, activation='elu'))\n",
        "    model.add(Dense(1))\n",
        "\n",
        "\n",
        "\n",
        "    model.compile(loss='mean_absolute_error',\n",
        "                  optimizer='Nadam',\n",
        "                  metrics=['mae'])\n",
        "\n",
        "\n",
        "    MODEL_DIR = './model_{0}/'.format(MIF)\n",
        "    if not os.path.exists(MODEL_DIR):\n",
        "        os.mkdir(MODEL_DIR)\n",
        "\n",
        "    temp='./model_' + MIF  + '/'\n",
        "    modelpath= temp + '{epoch:02d}-{val_loss:.4f}.hdf5'\n",
        "    #modelpath = './model_{0}/{epoch:02d}-{val_loss:.4f}.hdf5'.format(MIF)\n",
        "\n",
        "    # 모델 업데이트 및 저장\n",
        "    cp = ModelCheckpoint(filepath=modelpath, monitor='val_mae', verbose=0, save_best_only=True, mode = 'min')\n",
        "\n",
        "    # 학습 자동 중단 설정\n",
        "    es = EarlyStopping(monitor='val_mae', patience=50, mode='min')\n",
        "\n",
        "    rlrp = ReduceLROnPlateau(monitor='val_mae', factor=0.2, patience=40, mode='min')\n",
        "\n",
        "    # 모델 학습\n",
        "    if MIF=='MF':\n",
        "        model.fit(train_X_MF, train_y_MF, validation_split=0.3, epochs=1000, batch_size=32, verbose=1, callbacks=[es, cp, rlrp])\n",
        "        joblib.dump(model,'./2016038005_김홍길_MF.pkl')\n",
        "\n",
        "\n",
        "    elif MIF=='I':\n",
        "        model.fit(train_X_I, train_y_I, validation_split=0.3, epochs=1000, batch_size=32, verbose=1, callbacks=[es, cp, rlrp])\n",
        "        joblib.dump(model,'./2016038005_김홍길_I.pkl')\n",
        "\n",
        "\n",
        "####### 여기까지 학습 #######\n",
        "\"\"\""
      ],
      "metadata": {
        "colab": {
          "base_uri": "https://localhost:8080/"
        },
        "id": "WG7jDwEOyvx1",
        "outputId": "78194a19-49ba-471f-a722-50fbc96850cd"
      },
      "execution_count": null,
      "outputs": [
        {
          "output_type": "stream",
          "name": "stdout",
          "text": [
            "Epoch 1/1000\n",
            "17/17 [==============================] - 1s 14ms/step - loss: 35.5400 - mae: 35.5400 - val_loss: 17.0070 - val_mae: 17.0070 - lr: 0.0010\n",
            "Epoch 2/1000\n",
            "17/17 [==============================] - 0s 6ms/step - loss: 17.1002 - mae: 17.1002 - val_loss: 9.3252 - val_mae: 9.3252 - lr: 0.0010\n",
            "Epoch 3/1000\n",
            "17/17 [==============================] - 0s 5ms/step - loss: 12.1556 - mae: 12.1556 - val_loss: 11.0798 - val_mae: 11.0798 - lr: 0.0010\n",
            "Epoch 4/1000\n",
            "17/17 [==============================] - 0s 6ms/step - loss: 9.5403 - mae: 9.5403 - val_loss: 7.5991 - val_mae: 7.5991 - lr: 0.0010\n",
            "Epoch 5/1000\n",
            "17/17 [==============================] - 0s 6ms/step - loss: 7.6507 - mae: 7.6507 - val_loss: 6.7181 - val_mae: 6.7181 - lr: 0.0010\n",
            "Epoch 6/1000\n",
            "17/17 [==============================] - 0s 6ms/step - loss: 7.3091 - mae: 7.3091 - val_loss: 5.5568 - val_mae: 5.5568 - lr: 0.0010\n",
            "Epoch 7/1000\n",
            "17/17 [==============================] - 0s 4ms/step - loss: 6.3671 - mae: 6.3671 - val_loss: 6.5658 - val_mae: 6.5658 - lr: 0.0010\n",
            "Epoch 8/1000\n",
            "17/17 [==============================] - 0s 5ms/step - loss: 6.5567 - mae: 6.5567 - val_loss: 5.7532 - val_mae: 5.7532 - lr: 0.0010\n",
            "Epoch 9/1000\n",
            "17/17 [==============================] - 0s 4ms/step - loss: 5.7412 - mae: 5.7412 - val_loss: 5.9639 - val_mae: 5.9639 - lr: 0.0010\n",
            "Epoch 10/1000\n",
            "17/17 [==============================] - 0s 6ms/step - loss: 5.4098 - mae: 5.4098 - val_loss: 5.4864 - val_mae: 5.4864 - lr: 0.0010\n",
            "Epoch 11/1000\n",
            "17/17 [==============================] - 0s 6ms/step - loss: 5.1948 - mae: 5.1948 - val_loss: 5.3215 - val_mae: 5.3215 - lr: 0.0010\n",
            "Epoch 12/1000\n",
            "17/17 [==============================] - 0s 6ms/step - loss: 4.7536 - mae: 4.7536 - val_loss: 5.3031 - val_mae: 5.3031 - lr: 0.0010\n",
            "Epoch 13/1000\n",
            "17/17 [==============================] - 0s 5ms/step - loss: 4.3676 - mae: 4.3676 - val_loss: 5.0287 - val_mae: 5.0287 - lr: 0.0010\n",
            "Epoch 14/1000\n",
            "17/17 [==============================] - 0s 6ms/step - loss: 4.1041 - mae: 4.1041 - val_loss: 4.9221 - val_mae: 4.9221 - lr: 0.0010\n",
            "Epoch 15/1000\n",
            "17/17 [==============================] - 0s 6ms/step - loss: 3.8627 - mae: 3.8627 - val_loss: 3.5517 - val_mae: 3.5517 - lr: 0.0010\n",
            "Epoch 16/1000\n",
            "17/17 [==============================] - 0s 5ms/step - loss: 3.5525 - mae: 3.5525 - val_loss: 3.7873 - val_mae: 3.7873 - lr: 0.0010\n",
            "Epoch 17/1000\n",
            "17/17 [==============================] - 0s 5ms/step - loss: 3.1218 - mae: 3.1218 - val_loss: 2.1969 - val_mae: 2.1969 - lr: 0.0010\n",
            "Epoch 18/1000\n",
            "17/17 [==============================] - 0s 4ms/step - loss: 2.9771 - mae: 2.9771 - val_loss: 2.2271 - val_mae: 2.2271 - lr: 0.0010\n",
            "Epoch 19/1000\n",
            "17/17 [==============================] - 0s 4ms/step - loss: 3.0566 - mae: 3.0566 - val_loss: 2.2046 - val_mae: 2.2046 - lr: 0.0010\n",
            "Epoch 20/1000\n",
            "17/17 [==============================] - 0s 4ms/step - loss: 3.0081 - mae: 3.0081 - val_loss: 2.4588 - val_mae: 2.4588 - lr: 0.0010\n",
            "Epoch 21/1000\n",
            "17/17 [==============================] - 0s 5ms/step - loss: 2.8437 - mae: 2.8437 - val_loss: 2.7638 - val_mae: 2.7638 - lr: 0.0010\n",
            "Epoch 22/1000\n",
            "17/17 [==============================] - 0s 3ms/step - loss: 2.8374 - mae: 2.8374 - val_loss: 2.2628 - val_mae: 2.2628 - lr: 0.0010\n",
            "Epoch 23/1000\n",
            "17/17 [==============================] - 0s 7ms/step - loss: 2.7665 - mae: 2.7665 - val_loss: 2.1028 - val_mae: 2.1028 - lr: 0.0010\n",
            "Epoch 24/1000\n",
            "17/17 [==============================] - 0s 4ms/step - loss: 2.8610 - mae: 2.8610 - val_loss: 2.2105 - val_mae: 2.2105 - lr: 0.0010\n",
            "Epoch 25/1000\n",
            "17/17 [==============================] - 0s 4ms/step - loss: 2.6353 - mae: 2.6353 - val_loss: 2.2626 - val_mae: 2.2626 - lr: 0.0010\n",
            "Epoch 26/1000\n",
            "17/17 [==============================] - 0s 3ms/step - loss: 2.6706 - mae: 2.6706 - val_loss: 2.3152 - val_mae: 2.3152 - lr: 0.0010\n",
            "Epoch 27/1000\n",
            "17/17 [==============================] - 0s 4ms/step - loss: 2.5862 - mae: 2.5862 - val_loss: 2.3463 - val_mae: 2.3463 - lr: 0.0010\n",
            "Epoch 28/1000\n",
            "17/17 [==============================] - 0s 5ms/step - loss: 2.6496 - mae: 2.6496 - val_loss: 2.5596 - val_mae: 2.5596 - lr: 0.0010\n",
            "Epoch 29/1000\n",
            "17/17 [==============================] - 0s 4ms/step - loss: 2.6235 - mae: 2.6235 - val_loss: 2.4718 - val_mae: 2.4718 - lr: 0.0010\n",
            "Epoch 30/1000\n",
            "17/17 [==============================] - 0s 4ms/step - loss: 2.5401 - mae: 2.5401 - val_loss: 2.1876 - val_mae: 2.1876 - lr: 0.0010\n",
            "Epoch 31/1000\n",
            "17/17 [==============================] - 0s 4ms/step - loss: 2.5521 - mae: 2.5521 - val_loss: 2.2526 - val_mae: 2.2526 - lr: 0.0010\n",
            "Epoch 32/1000\n",
            "17/17 [==============================] - 0s 4ms/step - loss: 2.4498 - mae: 2.4498 - val_loss: 2.1373 - val_mae: 2.1373 - lr: 0.0010\n",
            "Epoch 33/1000\n",
            "17/17 [==============================] - 0s 4ms/step - loss: 2.5134 - mae: 2.5134 - val_loss: 2.1109 - val_mae: 2.1109 - lr: 0.0010\n",
            "Epoch 34/1000\n",
            "17/17 [==============================] - 0s 6ms/step - loss: 2.5357 - mae: 2.5357 - val_loss: 2.0958 - val_mae: 2.0958 - lr: 0.0010\n",
            "Epoch 35/1000\n",
            "17/17 [==============================] - 0s 4ms/step - loss: 2.4928 - mae: 2.4928 - val_loss: 2.1582 - val_mae: 2.1582 - lr: 0.0010\n",
            "Epoch 36/1000\n",
            "17/17 [==============================] - 0s 4ms/step - loss: 2.4437 - mae: 2.4437 - val_loss: 2.1051 - val_mae: 2.1051 - lr: 0.0010\n",
            "Epoch 37/1000\n",
            "17/17 [==============================] - 0s 7ms/step - loss: 2.5555 - mae: 2.5555 - val_loss: 2.0647 - val_mae: 2.0647 - lr: 0.0010\n",
            "Epoch 38/1000\n",
            "17/17 [==============================] - 0s 6ms/step - loss: 2.4434 - mae: 2.4434 - val_loss: 2.0645 - val_mae: 2.0645 - lr: 0.0010\n",
            "Epoch 39/1000\n",
            "17/17 [==============================] - 0s 5ms/step - loss: 2.4902 - mae: 2.4902 - val_loss: 2.2164 - val_mae: 2.2164 - lr: 0.0010\n",
            "Epoch 40/1000\n",
            "17/17 [==============================] - 0s 4ms/step - loss: 2.4085 - mae: 2.4085 - val_loss: 2.1685 - val_mae: 2.1685 - lr: 0.0010\n",
            "Epoch 41/1000\n",
            "17/17 [==============================] - 0s 4ms/step - loss: 2.4558 - mae: 2.4558 - val_loss: 2.0743 - val_mae: 2.0743 - lr: 0.0010\n",
            "Epoch 42/1000\n",
            "17/17 [==============================] - 0s 4ms/step - loss: 2.4269 - mae: 2.4269 - val_loss: 2.0649 - val_mae: 2.0649 - lr: 0.0010\n",
            "Epoch 43/1000\n",
            "17/17 [==============================] - 0s 4ms/step - loss: 2.3883 - mae: 2.3883 - val_loss: 2.1182 - val_mae: 2.1182 - lr: 0.0010\n",
            "Epoch 44/1000\n",
            "17/17 [==============================] - 0s 4ms/step - loss: 2.3654 - mae: 2.3654 - val_loss: 2.0895 - val_mae: 2.0895 - lr: 0.0010\n",
            "Epoch 45/1000\n",
            "17/17 [==============================] - 0s 4ms/step - loss: 2.4598 - mae: 2.4598 - val_loss: 2.0718 - val_mae: 2.0718 - lr: 0.0010\n",
            "Epoch 46/1000\n",
            "17/17 [==============================] - 0s 4ms/step - loss: 2.4647 - mae: 2.4647 - val_loss: 2.2143 - val_mae: 2.2143 - lr: 0.0010\n",
            "Epoch 47/1000\n",
            "17/17 [==============================] - 0s 4ms/step - loss: 2.4372 - mae: 2.4372 - val_loss: 2.1009 - val_mae: 2.1009 - lr: 0.0010\n",
            "Epoch 48/1000\n",
            "17/17 [==============================] - 0s 5ms/step - loss: 2.4301 - mae: 2.4301 - val_loss: 2.2595 - val_mae: 2.2595 - lr: 0.0010\n",
            "Epoch 49/1000\n",
            "17/17 [==============================] - 0s 4ms/step - loss: 2.4473 - mae: 2.4473 - val_loss: 2.2507 - val_mae: 2.2507 - lr: 0.0010\n",
            "Epoch 50/1000\n",
            "17/17 [==============================] - 0s 3ms/step - loss: 2.3688 - mae: 2.3688 - val_loss: 2.1594 - val_mae: 2.1594 - lr: 0.0010\n",
            "Epoch 51/1000\n",
            "17/17 [==============================] - 0s 4ms/step - loss: 2.3260 - mae: 2.3260 - val_loss: 2.1480 - val_mae: 2.1480 - lr: 0.0010\n",
            "Epoch 52/1000\n",
            "17/17 [==============================] - 0s 5ms/step - loss: 2.3435 - mae: 2.3435 - val_loss: 2.0565 - val_mae: 2.0565 - lr: 0.0010\n",
            "Epoch 53/1000\n",
            "17/17 [==============================] - 0s 4ms/step - loss: 2.3652 - mae: 2.3652 - val_loss: 2.0704 - val_mae: 2.0704 - lr: 0.0010\n",
            "Epoch 54/1000\n",
            "17/17 [==============================] - 0s 4ms/step - loss: 2.4010 - mae: 2.4010 - val_loss: 2.0918 - val_mae: 2.0918 - lr: 0.0010\n",
            "Epoch 55/1000\n",
            "17/17 [==============================] - 0s 3ms/step - loss: 2.3320 - mae: 2.3320 - val_loss: 2.0681 - val_mae: 2.0681 - lr: 0.0010\n",
            "Epoch 56/1000\n",
            "17/17 [==============================] - 0s 4ms/step - loss: 2.3566 - mae: 2.3566 - val_loss: 2.0643 - val_mae: 2.0643 - lr: 0.0010\n",
            "Epoch 57/1000\n",
            "17/17 [==============================] - 0s 4ms/step - loss: 2.3845 - mae: 2.3845 - val_loss: 2.0807 - val_mae: 2.0807 - lr: 0.0010\n",
            "Epoch 58/1000\n",
            "17/17 [==============================] - 0s 5ms/step - loss: 2.3671 - mae: 2.3671 - val_loss: 2.2646 - val_mae: 2.2646 - lr: 0.0010\n",
            "Epoch 59/1000\n",
            "17/17 [==============================] - 0s 5ms/step - loss: 2.4064 - mae: 2.4064 - val_loss: 2.0610 - val_mae: 2.0610 - lr: 0.0010\n",
            "Epoch 60/1000\n",
            "17/17 [==============================] - 0s 5ms/step - loss: 2.3117 - mae: 2.3117 - val_loss: 2.2298 - val_mae: 2.2298 - lr: 0.0010\n",
            "Epoch 61/1000\n",
            "17/17 [==============================] - 0s 5ms/step - loss: 2.3416 - mae: 2.3416 - val_loss: 2.1201 - val_mae: 2.1201 - lr: 0.0010\n",
            "Epoch 62/1000\n",
            "17/17 [==============================] - 0s 5ms/step - loss: 2.3465 - mae: 2.3465 - val_loss: 2.2451 - val_mae: 2.2451 - lr: 0.0010\n",
            "Epoch 63/1000\n",
            "17/17 [==============================] - 0s 4ms/step - loss: 2.3446 - mae: 2.3446 - val_loss: 2.0972 - val_mae: 2.0972 - lr: 0.0010\n",
            "Epoch 64/1000\n",
            "17/17 [==============================] - 0s 5ms/step - loss: 2.3447 - mae: 2.3447 - val_loss: 2.1024 - val_mae: 2.1024 - lr: 0.0010\n",
            "Epoch 65/1000\n",
            "17/17 [==============================] - 0s 4ms/step - loss: 2.3311 - mae: 2.3311 - val_loss: 2.1106 - val_mae: 2.1106 - lr: 0.0010\n",
            "Epoch 66/1000\n",
            "17/17 [==============================] - 0s 5ms/step - loss: 2.3056 - mae: 2.3056 - val_loss: 2.1200 - val_mae: 2.1200 - lr: 0.0010\n",
            "Epoch 67/1000\n",
            "17/17 [==============================] - 0s 4ms/step - loss: 2.3436 - mae: 2.3436 - val_loss: 2.1836 - val_mae: 2.1836 - lr: 0.0010\n",
            "Epoch 68/1000\n",
            "17/17 [==============================] - 0s 4ms/step - loss: 2.3304 - mae: 2.3304 - val_loss: 2.0994 - val_mae: 2.0994 - lr: 0.0010\n",
            "Epoch 69/1000\n",
            "17/17 [==============================] - 0s 4ms/step - loss: 2.3416 - mae: 2.3416 - val_loss: 2.0673 - val_mae: 2.0673 - lr: 0.0010\n",
            "Epoch 70/1000\n",
            "17/17 [==============================] - 0s 4ms/step - loss: 2.3586 - mae: 2.3586 - val_loss: 2.1475 - val_mae: 2.1475 - lr: 0.0010\n",
            "Epoch 71/1000\n",
            "17/17 [==============================] - 0s 4ms/step - loss: 2.2910 - mae: 2.2910 - val_loss: 2.1003 - val_mae: 2.1003 - lr: 0.0010\n",
            "Epoch 72/1000\n",
            "17/17 [==============================] - 0s 4ms/step - loss: 2.3387 - mae: 2.3387 - val_loss: 2.3116 - val_mae: 2.3116 - lr: 0.0010\n",
            "Epoch 73/1000\n",
            "17/17 [==============================] - 0s 4ms/step - loss: 2.3370 - mae: 2.3370 - val_loss: 2.1170 - val_mae: 2.1170 - lr: 0.0010\n",
            "Epoch 74/1000\n",
            "17/17 [==============================] - 0s 5ms/step - loss: 2.3261 - mae: 2.3261 - val_loss: 2.0715 - val_mae: 2.0715 - lr: 0.0010\n",
            "Epoch 75/1000\n",
            "17/17 [==============================] - 0s 5ms/step - loss: 2.3227 - mae: 2.3227 - val_loss: 2.0875 - val_mae: 2.0875 - lr: 0.0010\n",
            "Epoch 76/1000\n",
            "17/17 [==============================] - 0s 4ms/step - loss: 2.3223 - mae: 2.3223 - val_loss: 2.0878 - val_mae: 2.0878 - lr: 0.0010\n",
            "Epoch 77/1000\n",
            "17/17 [==============================] - 0s 5ms/step - loss: 2.3405 - mae: 2.3405 - val_loss: 2.0788 - val_mae: 2.0788 - lr: 0.0010\n",
            "Epoch 78/1000\n",
            "17/17 [==============================] - 0s 4ms/step - loss: 2.2952 - mae: 2.2952 - val_loss: 2.0665 - val_mae: 2.0665 - lr: 0.0010\n",
            "Epoch 79/1000\n",
            "17/17 [==============================] - 0s 4ms/step - loss: 2.3171 - mae: 2.3171 - val_loss: 2.0668 - val_mae: 2.0668 - lr: 0.0010\n",
            "Epoch 80/1000\n",
            "17/17 [==============================] - 0s 5ms/step - loss: 2.2954 - mae: 2.2954 - val_loss: 2.0667 - val_mae: 2.0667 - lr: 0.0010\n",
            "Epoch 81/1000\n",
            "17/17 [==============================] - 0s 5ms/step - loss: 2.2961 - mae: 2.2961 - val_loss: 2.0634 - val_mae: 2.0634 - lr: 0.0010\n",
            "Epoch 82/1000\n",
            "17/17 [==============================] - 0s 4ms/step - loss: 2.2788 - mae: 2.2788 - val_loss: 2.0815 - val_mae: 2.0815 - lr: 0.0010\n",
            "Epoch 83/1000\n",
            "17/17 [==============================] - 0s 4ms/step - loss: 2.2956 - mae: 2.2956 - val_loss: 2.1019 - val_mae: 2.1019 - lr: 0.0010\n",
            "Epoch 84/1000\n",
            "17/17 [==============================] - 0s 4ms/step - loss: 2.3004 - mae: 2.3004 - val_loss: 2.1542 - val_mae: 2.1542 - lr: 0.0010\n",
            "Epoch 85/1000\n",
            "17/17 [==============================] - 0s 4ms/step - loss: 2.2987 - mae: 2.2987 - val_loss: 2.0679 - val_mae: 2.0679 - lr: 0.0010\n",
            "Epoch 86/1000\n",
            "17/17 [==============================] - 0s 4ms/step - loss: 2.2833 - mae: 2.2833 - val_loss: 2.1140 - val_mae: 2.1140 - lr: 0.0010\n",
            "Epoch 87/1000\n",
            "17/17 [==============================] - 0s 5ms/step - loss: 2.3064 - mae: 2.3064 - val_loss: 2.1237 - val_mae: 2.1237 - lr: 0.0010\n",
            "Epoch 88/1000\n",
            "17/17 [==============================] - 0s 5ms/step - loss: 2.2474 - mae: 2.2474 - val_loss: 2.0939 - val_mae: 2.0939 - lr: 0.0010\n",
            "Epoch 89/1000\n",
            "17/17 [==============================] - 0s 4ms/step - loss: 2.2854 - mae: 2.2854 - val_loss: 2.0638 - val_mae: 2.0638 - lr: 0.0010\n",
            "Epoch 90/1000\n",
            "17/17 [==============================] - 0s 4ms/step - loss: 2.2603 - mae: 2.2603 - val_loss: 2.0677 - val_mae: 2.0677 - lr: 0.0010\n",
            "Epoch 91/1000\n",
            "17/17 [==============================] - 0s 3ms/step - loss: 2.2675 - mae: 2.2675 - val_loss: 2.0946 - val_mae: 2.0946 - lr: 0.0010\n",
            "Epoch 92/1000\n",
            "17/17 [==============================] - 0s 4ms/step - loss: 2.2944 - mae: 2.2944 - val_loss: 2.0837 - val_mae: 2.0837 - lr: 0.0010\n",
            "Epoch 93/1000\n",
            "17/17 [==============================] - 0s 3ms/step - loss: 2.2623 - mae: 2.2623 - val_loss: 2.0732 - val_mae: 2.0732 - lr: 2.0000e-04\n",
            "Epoch 94/1000\n",
            "17/17 [==============================] - 0s 4ms/step - loss: 2.2644 - mae: 2.2644 - val_loss: 2.0715 - val_mae: 2.0715 - lr: 2.0000e-04\n",
            "Epoch 95/1000\n",
            "17/17 [==============================] - 0s 4ms/step - loss: 2.2500 - mae: 2.2500 - val_loss: 2.0730 - val_mae: 2.0730 - lr: 2.0000e-04\n",
            "Epoch 96/1000\n",
            "17/17 [==============================] - 0s 4ms/step - loss: 2.2500 - mae: 2.2500 - val_loss: 2.0709 - val_mae: 2.0709 - lr: 2.0000e-04\n",
            "Epoch 97/1000\n",
            "17/17 [==============================] - 0s 4ms/step - loss: 2.2679 - mae: 2.2679 - val_loss: 2.0930 - val_mae: 2.0930 - lr: 2.0000e-04\n",
            "Epoch 98/1000\n",
            "17/17 [==============================] - 0s 4ms/step - loss: 2.2883 - mae: 2.2883 - val_loss: 2.0764 - val_mae: 2.0764 - lr: 2.0000e-04\n",
            "Epoch 99/1000\n",
            "17/17 [==============================] - 0s 4ms/step - loss: 2.2862 - mae: 2.2862 - val_loss: 2.0720 - val_mae: 2.0720 - lr: 2.0000e-04\n",
            "Epoch 100/1000\n",
            "17/17 [==============================] - 0s 5ms/step - loss: 2.2601 - mae: 2.2601 - val_loss: 2.0776 - val_mae: 2.0776 - lr: 2.0000e-04\n",
            "Epoch 101/1000\n",
            "17/17 [==============================] - 0s 4ms/step - loss: 2.2507 - mae: 2.2507 - val_loss: 2.0881 - val_mae: 2.0881 - lr: 2.0000e-04\n",
            "Epoch 102/1000\n",
            "17/17 [==============================] - 0s 4ms/step - loss: 2.2409 - mae: 2.2409 - val_loss: 2.0756 - val_mae: 2.0756 - lr: 2.0000e-04\n",
            "INFO:tensorflow:Assets written to: ram://39d9df45-7046-41f4-bb88-6a0cca9efce7/assets\n",
            "Epoch 1/1000\n",
            "8/8 [==============================] - 3s 31ms/step - loss: 19.5024 - mae: 19.5024 - val_loss: 18.4665 - val_mae: 18.4665 - lr: 0.0010\n",
            "Epoch 2/1000\n",
            "8/8 [==============================] - 0s 10ms/step - loss: 16.9838 - mae: 16.9838 - val_loss: 12.6007 - val_mae: 12.6007 - lr: 0.0010\n",
            "Epoch 3/1000\n",
            "8/8 [==============================] - 0s 6ms/step - loss: 13.9747 - mae: 13.9747 - val_loss: 12.9922 - val_mae: 12.9922 - lr: 0.0010\n",
            "Epoch 4/1000\n",
            "8/8 [==============================] - 0s 11ms/step - loss: 12.9061 - mae: 12.9061 - val_loss: 10.5158 - val_mae: 10.5158 - lr: 0.0010\n",
            "Epoch 5/1000\n",
            "8/8 [==============================] - 0s 12ms/step - loss: 10.5565 - mae: 10.5565 - val_loss: 4.6347 - val_mae: 4.6347 - lr: 0.0010\n",
            "Epoch 6/1000\n",
            "8/8 [==============================] - 0s 7ms/step - loss: 8.7327 - mae: 8.7327 - val_loss: 5.4622 - val_mae: 5.4622 - lr: 0.0010\n",
            "Epoch 7/1000\n",
            "8/8 [==============================] - 0s 8ms/step - loss: 7.7376 - mae: 7.7376 - val_loss: 5.4896 - val_mae: 5.4896 - lr: 0.0010\n",
            "Epoch 8/1000\n",
            "8/8 [==============================] - 0s 7ms/step - loss: 7.0537 - mae: 7.0537 - val_loss: 5.9777 - val_mae: 5.9777 - lr: 0.0010\n",
            "Epoch 9/1000\n",
            "8/8 [==============================] - 0s 9ms/step - loss: 7.0931 - mae: 7.0931 - val_loss: 6.2629 - val_mae: 6.2629 - lr: 0.0010\n",
            "Epoch 10/1000\n",
            "8/8 [==============================] - 0s 6ms/step - loss: 5.8978 - mae: 5.8978 - val_loss: 7.0280 - val_mae: 7.0280 - lr: 0.0010\n",
            "Epoch 11/1000\n",
            "8/8 [==============================] - 0s 6ms/step - loss: 5.5466 - mae: 5.5466 - val_loss: 6.2775 - val_mae: 6.2775 - lr: 0.0010\n",
            "Epoch 12/1000\n",
            "8/8 [==============================] - 0s 8ms/step - loss: 5.1699 - mae: 5.1699 - val_loss: 6.7291 - val_mae: 6.7291 - lr: 0.0010\n",
            "Epoch 13/1000\n",
            "8/8 [==============================] - 0s 6ms/step - loss: 4.9434 - mae: 4.9434 - val_loss: 4.9516 - val_mae: 4.9516 - lr: 0.0010\n",
            "Epoch 14/1000\n",
            "8/8 [==============================] - 0s 6ms/step - loss: 4.8267 - mae: 4.8267 - val_loss: 5.8604 - val_mae: 5.8604 - lr: 0.0010\n",
            "Epoch 15/1000\n",
            "8/8 [==============================] - 0s 8ms/step - loss: 4.5465 - mae: 4.5465 - val_loss: 4.8200 - val_mae: 4.8200 - lr: 0.0010\n",
            "Epoch 16/1000\n",
            "8/8 [==============================] - 0s 11ms/step - loss: 4.1316 - mae: 4.1316 - val_loss: 4.5934 - val_mae: 4.5934 - lr: 0.0010\n",
            "Epoch 17/1000\n",
            "8/8 [==============================] - 0s 11ms/step - loss: 4.0465 - mae: 4.0465 - val_loss: 3.6174 - val_mae: 3.6174 - lr: 0.0010\n",
            "Epoch 18/1000\n",
            "8/8 [==============================] - 0s 8ms/step - loss: 3.6215 - mae: 3.6215 - val_loss: 3.7353 - val_mae: 3.7353 - lr: 0.0010\n",
            "Epoch 19/1000\n",
            "8/8 [==============================] - 0s 8ms/step - loss: 3.4059 - mae: 3.4059 - val_loss: 3.6956 - val_mae: 3.6956 - lr: 0.0010\n",
            "Epoch 20/1000\n",
            "8/8 [==============================] - 0s 6ms/step - loss: 3.0876 - mae: 3.0876 - val_loss: 4.0389 - val_mae: 4.0389 - lr: 0.0010\n",
            "Epoch 21/1000\n",
            "8/8 [==============================] - 0s 6ms/step - loss: 3.1919 - mae: 3.1919 - val_loss: 3.8412 - val_mae: 3.8412 - lr: 0.0010\n",
            "Epoch 22/1000\n",
            "8/8 [==============================] - 0s 13ms/step - loss: 3.0098 - mae: 3.0098 - val_loss: 3.5433 - val_mae: 3.5433 - lr: 0.0010\n",
            "Epoch 23/1000\n",
            "8/8 [==============================] - 0s 10ms/step - loss: 2.5861 - mae: 2.5861 - val_loss: 2.6642 - val_mae: 2.6642 - lr: 0.0010\n",
            "Epoch 24/1000\n",
            "8/8 [==============================] - 0s 12ms/step - loss: 2.6891 - mae: 2.6891 - val_loss: 2.4191 - val_mae: 2.4191 - lr: 0.0010\n",
            "Epoch 25/1000\n",
            "8/8 [==============================] - 0s 8ms/step - loss: 2.6518 - mae: 2.6518 - val_loss: 2.4336 - val_mae: 2.4336 - lr: 0.0010\n",
            "Epoch 26/1000\n",
            "8/8 [==============================] - 0s 8ms/step - loss: 2.6870 - mae: 2.6870 - val_loss: 3.1353 - val_mae: 3.1353 - lr: 0.0010\n",
            "Epoch 27/1000\n",
            "8/8 [==============================] - 0s 8ms/step - loss: 2.4397 - mae: 2.4397 - val_loss: 3.4478 - val_mae: 3.4478 - lr: 0.0010\n",
            "Epoch 28/1000\n",
            "8/8 [==============================] - 0s 8ms/step - loss: 2.4152 - mae: 2.4152 - val_loss: 3.5727 - val_mae: 3.5727 - lr: 0.0010\n",
            "Epoch 29/1000\n",
            "8/8 [==============================] - 0s 6ms/step - loss: 2.3064 - mae: 2.3064 - val_loss: 2.4811 - val_mae: 2.4811 - lr: 0.0010\n",
            "Epoch 30/1000\n",
            "8/8 [==============================] - 0s 9ms/step - loss: 2.4431 - mae: 2.4431 - val_loss: 2.9204 - val_mae: 2.9204 - lr: 0.0010\n",
            "Epoch 31/1000\n",
            "8/8 [==============================] - 0s 8ms/step - loss: 2.3500 - mae: 2.3500 - val_loss: 2.8432 - val_mae: 2.8432 - lr: 0.0010\n",
            "Epoch 32/1000\n",
            "8/8 [==============================] - 0s 8ms/step - loss: 2.3325 - mae: 2.3325 - val_loss: 2.5333 - val_mae: 2.5333 - lr: 0.0010\n",
            "Epoch 33/1000\n",
            "8/8 [==============================] - 0s 6ms/step - loss: 2.0763 - mae: 2.0763 - val_loss: 2.5253 - val_mae: 2.5253 - lr: 0.0010\n",
            "Epoch 34/1000\n",
            "8/8 [==============================] - 0s 13ms/step - loss: 2.3148 - mae: 2.3148 - val_loss: 2.3475 - val_mae: 2.3475 - lr: 0.0010\n",
            "Epoch 35/1000\n",
            "8/8 [==============================] - 0s 8ms/step - loss: 2.3132 - mae: 2.3132 - val_loss: 2.4138 - val_mae: 2.4138 - lr: 0.0010\n",
            "Epoch 36/1000\n",
            "8/8 [==============================] - 0s 12ms/step - loss: 2.0755 - mae: 2.0755 - val_loss: 2.2834 - val_mae: 2.2834 - lr: 0.0010\n",
            "Epoch 37/1000\n",
            "8/8 [==============================] - 0s 10ms/step - loss: 2.2504 - mae: 2.2504 - val_loss: 2.2642 - val_mae: 2.2642 - lr: 0.0010\n",
            "Epoch 38/1000\n",
            "8/8 [==============================] - 0s 13ms/step - loss: 2.2499 - mae: 2.2499 - val_loss: 2.2323 - val_mae: 2.2323 - lr: 0.0010\n",
            "Epoch 39/1000\n",
            "8/8 [==============================] - 0s 13ms/step - loss: 2.1858 - mae: 2.1858 - val_loss: 2.1939 - val_mae: 2.1939 - lr: 0.0010\n",
            "Epoch 40/1000\n",
            "8/8 [==============================] - 0s 10ms/step - loss: 2.1212 - mae: 2.1212 - val_loss: 2.1816 - val_mae: 2.1816 - lr: 0.0010\n",
            "Epoch 41/1000\n",
            "8/8 [==============================] - 0s 8ms/step - loss: 2.1024 - mae: 2.1024 - val_loss: 2.2962 - val_mae: 2.2962 - lr: 0.0010\n",
            "Epoch 42/1000\n",
            "8/8 [==============================] - 0s 13ms/step - loss: 2.1314 - mae: 2.1314 - val_loss: 2.0979 - val_mae: 2.0979 - lr: 0.0010\n",
            "Epoch 43/1000\n",
            "8/8 [==============================] - 0s 7ms/step - loss: 2.0787 - mae: 2.0787 - val_loss: 2.2606 - val_mae: 2.2606 - lr: 0.0010\n",
            "Epoch 44/1000\n",
            "8/8 [==============================] - 0s 6ms/step - loss: 2.2606 - mae: 2.2606 - val_loss: 2.3422 - val_mae: 2.3422 - lr: 0.0010\n",
            "Epoch 45/1000\n",
            "8/8 [==============================] - 0s 8ms/step - loss: 2.0465 - mae: 2.0465 - val_loss: 2.4572 - val_mae: 2.4572 - lr: 0.0010\n",
            "Epoch 46/1000\n",
            "8/8 [==============================] - 0s 8ms/step - loss: 2.0540 - mae: 2.0540 - val_loss: 2.2226 - val_mae: 2.2226 - lr: 0.0010\n",
            "Epoch 47/1000\n",
            "8/8 [==============================] - 0s 6ms/step - loss: 2.1980 - mae: 2.1980 - val_loss: 2.2680 - val_mae: 2.2680 - lr: 0.0010\n",
            "Epoch 48/1000\n",
            "8/8 [==============================] - 0s 8ms/step - loss: 2.1914 - mae: 2.1914 - val_loss: 2.2459 - val_mae: 2.2459 - lr: 0.0010\n",
            "Epoch 49/1000\n",
            "8/8 [==============================] - 0s 6ms/step - loss: 2.0061 - mae: 2.0061 - val_loss: 2.3132 - val_mae: 2.3132 - lr: 0.0010\n",
            "Epoch 50/1000\n",
            "8/8 [==============================] - 0s 9ms/step - loss: 2.1243 - mae: 2.1243 - val_loss: 2.2024 - val_mae: 2.2024 - lr: 0.0010\n",
            "Epoch 51/1000\n",
            "8/8 [==============================] - 0s 8ms/step - loss: 2.1381 - mae: 2.1381 - val_loss: 2.2751 - val_mae: 2.2751 - lr: 0.0010\n",
            "Epoch 52/1000\n",
            "8/8 [==============================] - 0s 6ms/step - loss: 2.0252 - mae: 2.0252 - val_loss: 2.1150 - val_mae: 2.1150 - lr: 0.0010\n",
            "Epoch 53/1000\n",
            "8/8 [==============================] - 0s 6ms/step - loss: 2.0140 - mae: 2.0140 - val_loss: 2.2494 - val_mae: 2.2494 - lr: 0.0010\n",
            "Epoch 54/1000\n",
            "8/8 [==============================] - 0s 8ms/step - loss: 1.9514 - mae: 1.9514 - val_loss: 2.2134 - val_mae: 2.2134 - lr: 0.0010\n",
            "Epoch 55/1000\n",
            "8/8 [==============================] - 0s 6ms/step - loss: 2.0183 - mae: 2.0183 - val_loss: 2.3154 - val_mae: 2.3154 - lr: 0.0010\n",
            "Epoch 56/1000\n",
            "8/8 [==============================] - 0s 8ms/step - loss: 2.0744 - mae: 2.0744 - val_loss: 2.1524 - val_mae: 2.1524 - lr: 0.0010\n",
            "Epoch 57/1000\n",
            "8/8 [==============================] - 0s 9ms/step - loss: 2.0801 - mae: 2.0801 - val_loss: 2.2408 - val_mae: 2.2408 - lr: 0.0010\n",
            "Epoch 58/1000\n",
            "8/8 [==============================] - 0s 7ms/step - loss: 2.1696 - mae: 2.1696 - val_loss: 2.2580 - val_mae: 2.2580 - lr: 0.0010\n",
            "Epoch 59/1000\n",
            "8/8 [==============================] - 0s 8ms/step - loss: 1.9695 - mae: 1.9695 - val_loss: 2.1026 - val_mae: 2.1026 - lr: 0.0010\n",
            "Epoch 60/1000\n",
            "8/8 [==============================] - 0s 8ms/step - loss: 2.2462 - mae: 2.2462 - val_loss: 2.2302 - val_mae: 2.2302 - lr: 0.0010\n",
            "Epoch 61/1000\n",
            "8/8 [==============================] - 0s 6ms/step - loss: 2.0254 - mae: 2.0254 - val_loss: 2.2882 - val_mae: 2.2882 - lr: 0.0010\n",
            "Epoch 62/1000\n",
            "8/8 [==============================] - 0s 6ms/step - loss: 2.0559 - mae: 2.0559 - val_loss: 2.2973 - val_mae: 2.2973 - lr: 0.0010\n",
            "Epoch 63/1000\n",
            "8/8 [==============================] - 0s 6ms/step - loss: 2.0241 - mae: 2.0241 - val_loss: 2.2881 - val_mae: 2.2881 - lr: 0.0010\n",
            "Epoch 64/1000\n",
            "8/8 [==============================] - 0s 6ms/step - loss: 2.0401 - mae: 2.0401 - val_loss: 2.2781 - val_mae: 2.2781 - lr: 0.0010\n",
            "Epoch 65/1000\n",
            "8/8 [==============================] - 0s 6ms/step - loss: 1.9796 - mae: 1.9796 - val_loss: 2.2384 - val_mae: 2.2384 - lr: 0.0010\n",
            "Epoch 66/1000\n",
            "8/8 [==============================] - 0s 7ms/step - loss: 1.9882 - mae: 1.9882 - val_loss: 2.1226 - val_mae: 2.1226 - lr: 0.0010\n",
            "Epoch 67/1000\n",
            "8/8 [==============================] - 0s 6ms/step - loss: 1.8774 - mae: 1.8774 - val_loss: 2.2887 - val_mae: 2.2887 - lr: 0.0010\n",
            "Epoch 68/1000\n",
            "8/8 [==============================] - 0s 8ms/step - loss: 1.9520 - mae: 1.9520 - val_loss: 2.2009 - val_mae: 2.2009 - lr: 0.0010\n",
            "Epoch 69/1000\n",
            "8/8 [==============================] - 0s 8ms/step - loss: 2.0624 - mae: 2.0624 - val_loss: 2.2976 - val_mae: 2.2976 - lr: 0.0010\n",
            "Epoch 70/1000\n",
            "8/8 [==============================] - 0s 6ms/step - loss: 1.9031 - mae: 1.9031 - val_loss: 2.2135 - val_mae: 2.2135 - lr: 0.0010\n",
            "Epoch 71/1000\n",
            "8/8 [==============================] - 0s 8ms/step - loss: 1.8750 - mae: 1.8750 - val_loss: 2.1546 - val_mae: 2.1546 - lr: 0.0010\n",
            "Epoch 72/1000\n",
            "8/8 [==============================] - 0s 8ms/step - loss: 1.9623 - mae: 1.9623 - val_loss: 2.3260 - val_mae: 2.3260 - lr: 0.0010\n",
            "Epoch 73/1000\n",
            "8/8 [==============================] - 0s 5ms/step - loss: 2.0843 - mae: 2.0843 - val_loss: 2.2002 - val_mae: 2.2002 - lr: 0.0010\n",
            "Epoch 74/1000\n",
            "8/8 [==============================] - 0s 8ms/step - loss: 1.9675 - mae: 1.9675 - val_loss: 2.1476 - val_mae: 2.1476 - lr: 0.0010\n",
            "Epoch 75/1000\n",
            "8/8 [==============================] - 0s 11ms/step - loss: 1.8327 - mae: 1.8327 - val_loss: 2.0022 - val_mae: 2.0022 - lr: 0.0010\n",
            "Epoch 76/1000\n",
            "8/8 [==============================] - 0s 9ms/step - loss: 1.8875 - mae: 1.8875 - val_loss: 1.9850 - val_mae: 1.9850 - lr: 0.0010\n",
            "Epoch 77/1000\n",
            "8/8 [==============================] - 0s 8ms/step - loss: 1.9182 - mae: 1.9182 - val_loss: 2.0168 - val_mae: 2.0168 - lr: 0.0010\n",
            "Epoch 78/1000\n",
            "8/8 [==============================] - 0s 8ms/step - loss: 1.9437 - mae: 1.9437 - val_loss: 2.0074 - val_mae: 2.0074 - lr: 0.0010\n",
            "Epoch 79/1000\n",
            "8/8 [==============================] - 0s 7ms/step - loss: 1.9457 - mae: 1.9457 - val_loss: 2.1821 - val_mae: 2.1821 - lr: 0.0010\n",
            "Epoch 80/1000\n",
            "8/8 [==============================] - 0s 8ms/step - loss: 1.8429 - mae: 1.8429 - val_loss: 2.0515 - val_mae: 2.0515 - lr: 0.0010\n",
            "Epoch 81/1000\n",
            "8/8 [==============================] - 0s 8ms/step - loss: 1.9037 - mae: 1.9037 - val_loss: 2.2856 - val_mae: 2.2856 - lr: 0.0010\n",
            "Epoch 82/1000\n",
            "8/8 [==============================] - 0s 8ms/step - loss: 1.8897 - mae: 1.8897 - val_loss: 2.1906 - val_mae: 2.1906 - lr: 0.0010\n",
            "Epoch 83/1000\n",
            "8/8 [==============================] - 0s 6ms/step - loss: 2.1349 - mae: 2.1349 - val_loss: 2.1745 - val_mae: 2.1745 - lr: 0.0010\n",
            "Epoch 84/1000\n",
            "8/8 [==============================] - 0s 9ms/step - loss: 1.9067 - mae: 1.9067 - val_loss: 2.0706 - val_mae: 2.0706 - lr: 0.0010\n",
            "Epoch 85/1000\n",
            "8/8 [==============================] - 0s 8ms/step - loss: 1.8757 - mae: 1.8757 - val_loss: 2.1931 - val_mae: 2.1931 - lr: 0.0010\n",
            "Epoch 86/1000\n",
            "8/8 [==============================] - 0s 8ms/step - loss: 1.9431 - mae: 1.9431 - val_loss: 2.2541 - val_mae: 2.2541 - lr: 0.0010\n",
            "Epoch 87/1000\n",
            "8/8 [==============================] - 0s 6ms/step - loss: 1.8325 - mae: 1.8325 - val_loss: 2.1242 - val_mae: 2.1242 - lr: 0.0010\n",
            "Epoch 88/1000\n",
            "8/8 [==============================] - 0s 8ms/step - loss: 1.8764 - mae: 1.8764 - val_loss: 2.2651 - val_mae: 2.2651 - lr: 0.0010\n",
            "Epoch 89/1000\n",
            "8/8 [==============================] - 0s 7ms/step - loss: 1.7797 - mae: 1.7797 - val_loss: 2.1127 - val_mae: 2.1127 - lr: 0.0010\n",
            "Epoch 90/1000\n",
            "8/8 [==============================] - 0s 11ms/step - loss: 1.8128 - mae: 1.8128 - val_loss: 2.2106 - val_mae: 2.2106 - lr: 0.0010\n",
            "Epoch 91/1000\n",
            "8/8 [==============================] - 0s 8ms/step - loss: 1.8925 - mae: 1.8925 - val_loss: 2.1979 - val_mae: 2.1979 - lr: 0.0010\n",
            "Epoch 92/1000\n",
            "8/8 [==============================] - 0s 6ms/step - loss: 1.9185 - mae: 1.9185 - val_loss: 2.1722 - val_mae: 2.1722 - lr: 0.0010\n",
            "Epoch 93/1000\n",
            "8/8 [==============================] - 0s 9ms/step - loss: 1.9750 - mae: 1.9750 - val_loss: 2.1017 - val_mae: 2.1017 - lr: 0.0010\n",
            "Epoch 94/1000\n",
            "8/8 [==============================] - 0s 6ms/step - loss: 1.8546 - mae: 1.8546 - val_loss: 2.1122 - val_mae: 2.1122 - lr: 0.0010\n",
            "Epoch 95/1000\n",
            "8/8 [==============================] - 0s 8ms/step - loss: 1.8471 - mae: 1.8471 - val_loss: 2.2159 - val_mae: 2.2159 - lr: 0.0010\n",
            "Epoch 96/1000\n",
            "8/8 [==============================] - 0s 12ms/step - loss: 1.7940 - mae: 1.7940 - val_loss: 1.9775 - val_mae: 1.9775 - lr: 0.0010\n",
            "Epoch 97/1000\n",
            "8/8 [==============================] - 0s 9ms/step - loss: 1.8106 - mae: 1.8106 - val_loss: 2.1443 - val_mae: 2.1443 - lr: 0.0010\n",
            "Epoch 98/1000\n",
            "8/8 [==============================] - 0s 8ms/step - loss: 1.8803 - mae: 1.8803 - val_loss: 2.0356 - val_mae: 2.0356 - lr: 0.0010\n",
            "Epoch 99/1000\n",
            "8/8 [==============================] - 0s 8ms/step - loss: 1.8474 - mae: 1.8474 - val_loss: 2.0179 - val_mae: 2.0179 - lr: 0.0010\n",
            "Epoch 100/1000\n",
            "8/8 [==============================] - 0s 5ms/step - loss: 1.7761 - mae: 1.7761 - val_loss: 2.0942 - val_mae: 2.0942 - lr: 0.0010\n",
            "Epoch 101/1000\n",
            "8/8 [==============================] - 0s 10ms/step - loss: 1.8833 - mae: 1.8833 - val_loss: 2.0614 - val_mae: 2.0614 - lr: 0.0010\n",
            "Epoch 102/1000\n",
            "8/8 [==============================] - 0s 8ms/step - loss: 1.7823 - mae: 1.7823 - val_loss: 2.1447 - val_mae: 2.1447 - lr: 0.0010\n",
            "Epoch 103/1000\n",
            "8/8 [==============================] - 0s 6ms/step - loss: 2.0085 - mae: 2.0085 - val_loss: 2.1131 - val_mae: 2.1131 - lr: 0.0010\n",
            "Epoch 104/1000\n",
            "8/8 [==============================] - 0s 8ms/step - loss: 1.8694 - mae: 1.8694 - val_loss: 2.0597 - val_mae: 2.0597 - lr: 0.0010\n",
            "Epoch 105/1000\n",
            "8/8 [==============================] - 0s 6ms/step - loss: 1.8139 - mae: 1.8139 - val_loss: 3.0496 - val_mae: 3.0496 - lr: 0.0010\n",
            "Epoch 106/1000\n",
            "8/8 [==============================] - 0s 8ms/step - loss: 2.2341 - mae: 2.2341 - val_loss: 2.1435 - val_mae: 2.1435 - lr: 0.0010\n",
            "Epoch 107/1000\n",
            "8/8 [==============================] - 0s 9ms/step - loss: 1.9046 - mae: 1.9046 - val_loss: 1.9925 - val_mae: 1.9925 - lr: 0.0010\n",
            "Epoch 108/1000\n",
            "8/8 [==============================] - 0s 7ms/step - loss: 1.8034 - mae: 1.8034 - val_loss: 1.9856 - val_mae: 1.9856 - lr: 0.0010\n",
            "Epoch 109/1000\n",
            "8/8 [==============================] - 0s 6ms/step - loss: 1.8622 - mae: 1.8622 - val_loss: 1.9820 - val_mae: 1.9820 - lr: 0.0010\n",
            "Epoch 110/1000\n",
            "8/8 [==============================] - 0s 12ms/step - loss: 1.8038 - mae: 1.8038 - val_loss: 1.9431 - val_mae: 1.9431 - lr: 0.0010\n",
            "Epoch 111/1000\n",
            "8/8 [==============================] - 0s 8ms/step - loss: 1.8458 - mae: 1.8458 - val_loss: 1.9707 - val_mae: 1.9707 - lr: 0.0010\n",
            "Epoch 112/1000\n",
            "8/8 [==============================] - 0s 6ms/step - loss: 1.8143 - mae: 1.8143 - val_loss: 1.9567 - val_mae: 1.9567 - lr: 0.0010\n",
            "Epoch 113/1000\n",
            "8/8 [==============================] - 0s 9ms/step - loss: 1.9752 - mae: 1.9752 - val_loss: 2.0003 - val_mae: 2.0003 - lr: 0.0010\n",
            "Epoch 114/1000\n",
            "8/8 [==============================] - 0s 6ms/step - loss: 1.8840 - mae: 1.8840 - val_loss: 1.9527 - val_mae: 1.9527 - lr: 0.0010\n",
            "Epoch 115/1000\n",
            "8/8 [==============================] - 0s 8ms/step - loss: 1.9978 - mae: 1.9978 - val_loss: 1.9889 - val_mae: 1.9889 - lr: 0.0010\n",
            "Epoch 116/1000\n",
            "8/8 [==============================] - 0s 7ms/step - loss: 1.9882 - mae: 1.9882 - val_loss: 2.0336 - val_mae: 2.0336 - lr: 0.0010\n",
            "Epoch 117/1000\n",
            "8/8 [==============================] - 0s 6ms/step - loss: 1.8565 - mae: 1.8565 - val_loss: 1.9802 - val_mae: 1.9802 - lr: 0.0010\n",
            "Epoch 118/1000\n",
            "8/8 [==============================] - 0s 6ms/step - loss: 1.8539 - mae: 1.8539 - val_loss: 2.0192 - val_mae: 2.0192 - lr: 0.0010\n",
            "Epoch 119/1000\n",
            "8/8 [==============================] - 0s 8ms/step - loss: 1.7840 - mae: 1.7840 - val_loss: 1.9662 - val_mae: 1.9662 - lr: 0.0010\n",
            "Epoch 120/1000\n",
            "8/8 [==============================] - 0s 8ms/step - loss: 1.7527 - mae: 1.7527 - val_loss: 2.0208 - val_mae: 2.0208 - lr: 0.0010\n",
            "Epoch 121/1000\n",
            "8/8 [==============================] - 0s 8ms/step - loss: 1.7345 - mae: 1.7345 - val_loss: 1.9896 - val_mae: 1.9896 - lr: 0.0010\n",
            "Epoch 122/1000\n",
            "8/8 [==============================] - 0s 6ms/step - loss: 1.7818 - mae: 1.7818 - val_loss: 1.9763 - val_mae: 1.9763 - lr: 0.0010\n",
            "Epoch 123/1000\n",
            "8/8 [==============================] - 0s 7ms/step - loss: 1.8142 - mae: 1.8142 - val_loss: 1.9881 - val_mae: 1.9881 - lr: 0.0010\n",
            "Epoch 124/1000\n",
            "8/8 [==============================] - 0s 8ms/step - loss: 1.7475 - mae: 1.7475 - val_loss: 2.0229 - val_mae: 2.0229 - lr: 0.0010\n",
            "Epoch 125/1000\n",
            "8/8 [==============================] - 0s 6ms/step - loss: 1.7580 - mae: 1.7580 - val_loss: 2.1337 - val_mae: 2.1337 - lr: 0.0010\n",
            "Epoch 126/1000\n",
            "8/8 [==============================] - 0s 8ms/step - loss: 1.9779 - mae: 1.9779 - val_loss: 1.9695 - val_mae: 1.9695 - lr: 0.0010\n",
            "Epoch 127/1000\n",
            "8/8 [==============================] - 0s 6ms/step - loss: 1.8353 - mae: 1.8353 - val_loss: 2.0978 - val_mae: 2.0978 - lr: 0.0010\n",
            "Epoch 128/1000\n",
            "8/8 [==============================] - 0s 6ms/step - loss: 1.7302 - mae: 1.7302 - val_loss: 2.1572 - val_mae: 2.1572 - lr: 0.0010\n",
            "Epoch 129/1000\n",
            "8/8 [==============================] - 0s 6ms/step - loss: 1.8671 - mae: 1.8671 - val_loss: 2.0246 - val_mae: 2.0246 - lr: 0.0010\n",
            "Epoch 130/1000\n",
            "8/8 [==============================] - 0s 9ms/step - loss: 1.7589 - mae: 1.7589 - val_loss: 1.9532 - val_mae: 1.9532 - lr: 0.0010\n",
            "Epoch 131/1000\n",
            "8/8 [==============================] - 0s 8ms/step - loss: 1.7483 - mae: 1.7483 - val_loss: 1.9593 - val_mae: 1.9593 - lr: 0.0010\n",
            "Epoch 132/1000\n",
            "8/8 [==============================] - 0s 8ms/step - loss: 1.8021 - mae: 1.8021 - val_loss: 1.9794 - val_mae: 1.9794 - lr: 0.0010\n",
            "Epoch 133/1000\n",
            "8/8 [==============================] - 0s 10ms/step - loss: 1.8040 - mae: 1.8040 - val_loss: 1.9253 - val_mae: 1.9253 - lr: 0.0010\n",
            "Epoch 134/1000\n",
            "8/8 [==============================] - 0s 6ms/step - loss: 1.7014 - mae: 1.7014 - val_loss: 1.9681 - val_mae: 1.9681 - lr: 0.0010\n",
            "Epoch 135/1000\n",
            "8/8 [==============================] - 0s 7ms/step - loss: 1.7517 - mae: 1.7517 - val_loss: 1.9869 - val_mae: 1.9869 - lr: 0.0010\n",
            "Epoch 136/1000\n",
            "8/8 [==============================] - 0s 7ms/step - loss: 1.7173 - mae: 1.7173 - val_loss: 2.0770 - val_mae: 2.0770 - lr: 0.0010\n",
            "Epoch 137/1000\n",
            "8/8 [==============================] - 0s 6ms/step - loss: 1.6348 - mae: 1.6348 - val_loss: 1.9511 - val_mae: 1.9511 - lr: 0.0010\n",
            "Epoch 138/1000\n",
            "8/8 [==============================] - 0s 8ms/step - loss: 1.7398 - mae: 1.7398 - val_loss: 1.9782 - val_mae: 1.9782 - lr: 0.0010\n",
            "Epoch 139/1000\n",
            "8/8 [==============================] - 0s 9ms/step - loss: 1.6681 - mae: 1.6681 - val_loss: 1.9753 - val_mae: 1.9753 - lr: 0.0010\n",
            "Epoch 140/1000\n",
            "8/8 [==============================] - 0s 8ms/step - loss: 1.7250 - mae: 1.7250 - val_loss: 2.0568 - val_mae: 2.0568 - lr: 0.0010\n",
            "Epoch 141/1000\n",
            "8/8 [==============================] - 0s 8ms/step - loss: 1.7963 - mae: 1.7963 - val_loss: 1.9871 - val_mae: 1.9871 - lr: 0.0010\n",
            "Epoch 142/1000\n",
            "8/8 [==============================] - 0s 8ms/step - loss: 1.7529 - mae: 1.7529 - val_loss: 1.9540 - val_mae: 1.9540 - lr: 0.0010\n",
            "Epoch 143/1000\n",
            "8/8 [==============================] - 0s 8ms/step - loss: 1.7098 - mae: 1.7098 - val_loss: 2.0003 - val_mae: 2.0003 - lr: 0.0010\n",
            "Epoch 144/1000\n",
            "8/8 [==============================] - 0s 8ms/step - loss: 1.7609 - mae: 1.7609 - val_loss: 1.9580 - val_mae: 1.9580 - lr: 0.0010\n",
            "Epoch 145/1000\n",
            "8/8 [==============================] - 0s 9ms/step - loss: 1.6962 - mae: 1.6962 - val_loss: 1.9412 - val_mae: 1.9412 - lr: 0.0010\n",
            "Epoch 146/1000\n",
            "8/8 [==============================] - 0s 6ms/step - loss: 1.6914 - mae: 1.6914 - val_loss: 1.9599 - val_mae: 1.9599 - lr: 0.0010\n",
            "Epoch 147/1000\n",
            "8/8 [==============================] - 0s 12ms/step - loss: 1.6593 - mae: 1.6593 - val_loss: 1.8885 - val_mae: 1.8885 - lr: 0.0010\n",
            "Epoch 148/1000\n",
            "8/8 [==============================] - 0s 13ms/step - loss: 1.8401 - mae: 1.8401 - val_loss: 1.8854 - val_mae: 1.8854 - lr: 0.0010\n",
            "Epoch 149/1000\n",
            "8/8 [==============================] - 0s 10ms/step - loss: 1.7543 - mae: 1.7543 - val_loss: 1.8585 - val_mae: 1.8585 - lr: 0.0010\n",
            "Epoch 150/1000\n",
            "8/8 [==============================] - 0s 7ms/step - loss: 1.7935 - mae: 1.7935 - val_loss: 1.9532 - val_mae: 1.9532 - lr: 0.0010\n",
            "Epoch 151/1000\n",
            "8/8 [==============================] - 0s 9ms/step - loss: 1.7021 - mae: 1.7021 - val_loss: 1.8816 - val_mae: 1.8816 - lr: 0.0010\n",
            "Epoch 152/1000\n",
            "8/8 [==============================] - 0s 6ms/step - loss: 1.6733 - mae: 1.6733 - val_loss: 1.9753 - val_mae: 1.9753 - lr: 0.0010\n",
            "Epoch 153/1000\n",
            "8/8 [==============================] - 0s 9ms/step - loss: 1.7267 - mae: 1.7267 - val_loss: 2.0489 - val_mae: 2.0489 - lr: 0.0010\n",
            "Epoch 154/1000\n",
            "8/8 [==============================] - 0s 6ms/step - loss: 1.7539 - mae: 1.7539 - val_loss: 1.9118 - val_mae: 1.9118 - lr: 0.0010\n",
            "Epoch 155/1000\n",
            "8/8 [==============================] - 0s 7ms/step - loss: 1.7579 - mae: 1.7579 - val_loss: 1.9499 - val_mae: 1.9499 - lr: 0.0010\n",
            "Epoch 156/1000\n",
            "8/8 [==============================] - 0s 8ms/step - loss: 1.7107 - mae: 1.7107 - val_loss: 1.8847 - val_mae: 1.8847 - lr: 0.0010\n",
            "Epoch 157/1000\n",
            "8/8 [==============================] - 0s 8ms/step - loss: 1.9443 - mae: 1.9443 - val_loss: 1.8884 - val_mae: 1.8884 - lr: 0.0010\n",
            "Epoch 158/1000\n",
            "8/8 [==============================] - 0s 7ms/step - loss: 1.7288 - mae: 1.7288 - val_loss: 1.9276 - val_mae: 1.9276 - lr: 0.0010\n",
            "Epoch 159/1000\n",
            "8/8 [==============================] - 0s 7ms/step - loss: 1.7777 - mae: 1.7777 - val_loss: 1.9793 - val_mae: 1.9793 - lr: 0.0010\n",
            "Epoch 160/1000\n",
            "8/8 [==============================] - 0s 8ms/step - loss: 1.7313 - mae: 1.7313 - val_loss: 1.9172 - val_mae: 1.9172 - lr: 0.0010\n",
            "Epoch 161/1000\n",
            "8/8 [==============================] - 0s 9ms/step - loss: 1.7260 - mae: 1.7260 - val_loss: 1.9511 - val_mae: 1.9511 - lr: 0.0010\n",
            "Epoch 162/1000\n",
            "8/8 [==============================] - 0s 9ms/step - loss: 1.7599 - mae: 1.7599 - val_loss: 1.9884 - val_mae: 1.9884 - lr: 0.0010\n",
            "Epoch 163/1000\n",
            "8/8 [==============================] - 0s 6ms/step - loss: 1.7422 - mae: 1.7422 - val_loss: 1.9043 - val_mae: 1.9043 - lr: 0.0010\n",
            "Epoch 164/1000\n",
            "8/8 [==============================] - 0s 8ms/step - loss: 1.7413 - mae: 1.7413 - val_loss: 1.9627 - val_mae: 1.9627 - lr: 0.0010\n",
            "Epoch 165/1000\n",
            "8/8 [==============================] - 0s 7ms/step - loss: 1.7706 - mae: 1.7706 - val_loss: 1.9209 - val_mae: 1.9209 - lr: 0.0010\n",
            "Epoch 166/1000\n",
            "8/8 [==============================] - 0s 8ms/step - loss: 1.7402 - mae: 1.7402 - val_loss: 1.9919 - val_mae: 1.9919 - lr: 0.0010\n",
            "Epoch 167/1000\n",
            "8/8 [==============================] - 0s 7ms/step - loss: 1.5973 - mae: 1.5973 - val_loss: 1.8697 - val_mae: 1.8697 - lr: 0.0010\n",
            "Epoch 168/1000\n",
            "8/8 [==============================] - 0s 6ms/step - loss: 1.6479 - mae: 1.6479 - val_loss: 1.8889 - val_mae: 1.8889 - lr: 0.0010\n",
            "Epoch 169/1000\n",
            "8/8 [==============================] - 0s 8ms/step - loss: 1.6825 - mae: 1.6825 - val_loss: 1.9536 - val_mae: 1.9536 - lr: 0.0010\n",
            "Epoch 170/1000\n",
            "8/8 [==============================] - 0s 6ms/step - loss: 1.6967 - mae: 1.6967 - val_loss: 1.8911 - val_mae: 1.8911 - lr: 0.0010\n",
            "Epoch 171/1000\n",
            "8/8 [==============================] - 0s 8ms/step - loss: 1.6475 - mae: 1.6475 - val_loss: 1.9648 - val_mae: 1.9648 - lr: 0.0010\n",
            "Epoch 172/1000\n",
            "8/8 [==============================] - 0s 8ms/step - loss: 1.7009 - mae: 1.7009 - val_loss: 1.9221 - val_mae: 1.9221 - lr: 0.0010\n",
            "Epoch 173/1000\n",
            "8/8 [==============================] - 0s 12ms/step - loss: 1.8361 - mae: 1.8361 - val_loss: 2.0248 - val_mae: 2.0248 - lr: 0.0010\n",
            "Epoch 174/1000\n",
            "8/8 [==============================] - 0s 8ms/step - loss: 1.7367 - mae: 1.7367 - val_loss: 1.9469 - val_mae: 1.9469 - lr: 0.0010\n",
            "Epoch 175/1000\n",
            "8/8 [==============================] - 0s 8ms/step - loss: 1.6973 - mae: 1.6973 - val_loss: 1.9833 - val_mae: 1.9833 - lr: 0.0010\n",
            "Epoch 176/1000\n",
            "8/8 [==============================] - 0s 8ms/step - loss: 1.7462 - mae: 1.7462 - val_loss: 2.0040 - val_mae: 2.0040 - lr: 0.0010\n",
            "Epoch 177/1000\n",
            "8/8 [==============================] - 0s 8ms/step - loss: 1.7791 - mae: 1.7791 - val_loss: 1.9142 - val_mae: 1.9142 - lr: 0.0010\n",
            "Epoch 178/1000\n",
            "8/8 [==============================] - 0s 9ms/step - loss: 1.7403 - mae: 1.7403 - val_loss: 1.9653 - val_mae: 1.9653 - lr: 0.0010\n",
            "Epoch 179/1000\n",
            "8/8 [==============================] - 0s 11ms/step - loss: 1.6648 - mae: 1.6648 - val_loss: 1.9865 - val_mae: 1.9865 - lr: 0.0010\n",
            "Epoch 180/1000\n",
            "8/8 [==============================] - 0s 11ms/step - loss: 1.6965 - mae: 1.6965 - val_loss: 1.9384 - val_mae: 1.9384 - lr: 0.0010\n",
            "Epoch 181/1000\n",
            "8/8 [==============================] - 0s 12ms/step - loss: 1.7291 - mae: 1.7291 - val_loss: 1.8801 - val_mae: 1.8801 - lr: 0.0010\n",
            "Epoch 182/1000\n",
            "8/8 [==============================] - 0s 12ms/step - loss: 1.7379 - mae: 1.7379 - val_loss: 1.9737 - val_mae: 1.9737 - lr: 0.0010\n",
            "Epoch 183/1000\n",
            "8/8 [==============================] - 0s 10ms/step - loss: 1.6883 - mae: 1.6883 - val_loss: 1.9470 - val_mae: 1.9470 - lr: 0.0010\n",
            "Epoch 184/1000\n",
            "8/8 [==============================] - 0s 12ms/step - loss: 1.7143 - mae: 1.7143 - val_loss: 1.9104 - val_mae: 1.9104 - lr: 0.0010\n",
            "Epoch 185/1000\n",
            "8/8 [==============================] - 0s 8ms/step - loss: 1.6888 - mae: 1.6888 - val_loss: 1.9066 - val_mae: 1.9066 - lr: 0.0010\n",
            "Epoch 186/1000\n",
            "8/8 [==============================] - 0s 10ms/step - loss: 1.6708 - mae: 1.6708 - val_loss: 2.1360 - val_mae: 2.1360 - lr: 0.0010\n",
            "Epoch 187/1000\n",
            "8/8 [==============================] - 0s 8ms/step - loss: 1.6841 - mae: 1.6841 - val_loss: 1.9602 - val_mae: 1.9602 - lr: 0.0010\n",
            "Epoch 188/1000\n",
            "8/8 [==============================] - 0s 9ms/step - loss: 1.5992 - mae: 1.5992 - val_loss: 1.8904 - val_mae: 1.8904 - lr: 0.0010\n",
            "Epoch 189/1000\n",
            "8/8 [==============================] - 0s 13ms/step - loss: 1.6144 - mae: 1.6144 - val_loss: 1.8897 - val_mae: 1.8897 - lr: 0.0010\n",
            "Epoch 190/1000\n",
            "8/8 [==============================] - 0s 14ms/step - loss: 1.6270 - mae: 1.6270 - val_loss: 1.8166 - val_mae: 1.8166 - lr: 2.0000e-04\n",
            "Epoch 191/1000\n",
            "8/8 [==============================] - 0s 12ms/step - loss: 1.5516 - mae: 1.5516 - val_loss: 1.8451 - val_mae: 1.8451 - lr: 2.0000e-04\n",
            "Epoch 192/1000\n",
            "8/8 [==============================] - 0s 14ms/step - loss: 1.5218 - mae: 1.5218 - val_loss: 1.7932 - val_mae: 1.7932 - lr: 2.0000e-04\n",
            "Epoch 193/1000\n",
            "8/8 [==============================] - 0s 17ms/step - loss: 1.5032 - mae: 1.5032 - val_loss: 1.7797 - val_mae: 1.7797 - lr: 2.0000e-04\n",
            "Epoch 194/1000\n",
            "8/8 [==============================] - 0s 15ms/step - loss: 1.5348 - mae: 1.5348 - val_loss: 1.7637 - val_mae: 1.7637 - lr: 2.0000e-04\n",
            "Epoch 195/1000\n",
            "8/8 [==============================] - 0s 9ms/step - loss: 1.5367 - mae: 1.5367 - val_loss: 1.7783 - val_mae: 1.7783 - lr: 2.0000e-04\n",
            "Epoch 196/1000\n",
            "8/8 [==============================] - 0s 14ms/step - loss: 1.5093 - mae: 1.5093 - val_loss: 1.7148 - val_mae: 1.7148 - lr: 2.0000e-04\n",
            "Epoch 197/1000\n",
            "8/8 [==============================] - 0s 15ms/step - loss: 1.5062 - mae: 1.5062 - val_loss: 1.7010 - val_mae: 1.7010 - lr: 2.0000e-04\n",
            "Epoch 198/1000\n",
            "8/8 [==============================] - 0s 8ms/step - loss: 1.4786 - mae: 1.4786 - val_loss: 1.8110 - val_mae: 1.8110 - lr: 2.0000e-04\n",
            "Epoch 199/1000\n",
            "8/8 [==============================] - 0s 6ms/step - loss: 1.4576 - mae: 1.4576 - val_loss: 1.7879 - val_mae: 1.7879 - lr: 2.0000e-04\n",
            "Epoch 200/1000\n",
            "8/8 [==============================] - 0s 10ms/step - loss: 1.4375 - mae: 1.4375 - val_loss: 1.6885 - val_mae: 1.6885 - lr: 2.0000e-04\n",
            "Epoch 201/1000\n",
            "8/8 [==============================] - 0s 9ms/step - loss: 1.4245 - mae: 1.4245 - val_loss: 1.7439 - val_mae: 1.7439 - lr: 2.0000e-04\n",
            "Epoch 202/1000\n",
            "8/8 [==============================] - 0s 10ms/step - loss: 1.4655 - mae: 1.4655 - val_loss: 1.7391 - val_mae: 1.7391 - lr: 2.0000e-04\n",
            "Epoch 203/1000\n",
            "8/8 [==============================] - 0s 8ms/step - loss: 1.4677 - mae: 1.4677 - val_loss: 1.7570 - val_mae: 1.7570 - lr: 2.0000e-04\n",
            "Epoch 204/1000\n",
            "8/8 [==============================] - 0s 10ms/step - loss: 1.4149 - mae: 1.4149 - val_loss: 1.6740 - val_mae: 1.6740 - lr: 2.0000e-04\n",
            "Epoch 205/1000\n",
            "8/8 [==============================] - 0s 6ms/step - loss: 1.4526 - mae: 1.4526 - val_loss: 1.6870 - val_mae: 1.6870 - lr: 2.0000e-04\n",
            "Epoch 206/1000\n",
            "8/8 [==============================] - 0s 6ms/step - loss: 1.4371 - mae: 1.4371 - val_loss: 1.6965 - val_mae: 1.6965 - lr: 2.0000e-04\n",
            "Epoch 207/1000\n",
            "8/8 [==============================] - 0s 7ms/step - loss: 1.4231 - mae: 1.4231 - val_loss: 1.6879 - val_mae: 1.6879 - lr: 2.0000e-04\n",
            "Epoch 208/1000\n",
            "8/8 [==============================] - 0s 6ms/step - loss: 1.4617 - mae: 1.4617 - val_loss: 1.6845 - val_mae: 1.6845 - lr: 2.0000e-04\n",
            "Epoch 209/1000\n",
            "8/8 [==============================] - 0s 6ms/step - loss: 1.3607 - mae: 1.3607 - val_loss: 1.7987 - val_mae: 1.7987 - lr: 2.0000e-04\n",
            "Epoch 210/1000\n",
            "8/8 [==============================] - 0s 6ms/step - loss: 1.4476 - mae: 1.4476 - val_loss: 1.7427 - val_mae: 1.7427 - lr: 2.0000e-04\n",
            "Epoch 211/1000\n",
            "8/8 [==============================] - 0s 7ms/step - loss: 1.4014 - mae: 1.4014 - val_loss: 1.7326 - val_mae: 1.7326 - lr: 2.0000e-04\n",
            "Epoch 212/1000\n",
            "8/8 [==============================] - 0s 6ms/step - loss: 1.3970 - mae: 1.3970 - val_loss: 1.7775 - val_mae: 1.7775 - lr: 2.0000e-04\n",
            "Epoch 213/1000\n",
            "8/8 [==============================] - 0s 10ms/step - loss: 1.3198 - mae: 1.3198 - val_loss: 1.7277 - val_mae: 1.7277 - lr: 2.0000e-04\n",
            "Epoch 214/1000\n",
            "8/8 [==============================] - 0s 9ms/step - loss: 1.2677 - mae: 1.2677 - val_loss: 1.7882 - val_mae: 1.7882 - lr: 2.0000e-04\n",
            "Epoch 215/1000\n",
            "8/8 [==============================] - 0s 11ms/step - loss: 1.4336 - mae: 1.4336 - val_loss: 1.6716 - val_mae: 1.6716 - lr: 2.0000e-04\n",
            "Epoch 216/1000\n",
            "8/8 [==============================] - 0s 10ms/step - loss: 1.4174 - mae: 1.4174 - val_loss: 1.6098 - val_mae: 1.6098 - lr: 2.0000e-04\n",
            "Epoch 217/1000\n",
            "8/8 [==============================] - 0s 8ms/step - loss: 1.3840 - mae: 1.3840 - val_loss: 1.6217 - val_mae: 1.6217 - lr: 2.0000e-04\n",
            "Epoch 218/1000\n",
            "8/8 [==============================] - 0s 7ms/step - loss: 1.4078 - mae: 1.4078 - val_loss: 1.6388 - val_mae: 1.6388 - lr: 2.0000e-04\n",
            "Epoch 219/1000\n",
            "8/8 [==============================] - 0s 7ms/step - loss: 1.3821 - mae: 1.3821 - val_loss: 1.6152 - val_mae: 1.6152 - lr: 2.0000e-04\n",
            "Epoch 220/1000\n",
            "8/8 [==============================] - 0s 11ms/step - loss: 1.2920 - mae: 1.2920 - val_loss: 1.5777 - val_mae: 1.5777 - lr: 2.0000e-04\n",
            "Epoch 221/1000\n",
            "8/8 [==============================] - 0s 8ms/step - loss: 1.3142 - mae: 1.3142 - val_loss: 1.6870 - val_mae: 1.6870 - lr: 2.0000e-04\n",
            "Epoch 222/1000\n",
            "8/8 [==============================] - 0s 6ms/step - loss: 1.4032 - mae: 1.4032 - val_loss: 1.6316 - val_mae: 1.6316 - lr: 2.0000e-04\n",
            "Epoch 223/1000\n",
            "8/8 [==============================] - 0s 9ms/step - loss: 1.3810 - mae: 1.3810 - val_loss: 1.6096 - val_mae: 1.6096 - lr: 2.0000e-04\n",
            "Epoch 224/1000\n",
            "8/8 [==============================] - 0s 9ms/step - loss: 1.2814 - mae: 1.2814 - val_loss: 1.6237 - val_mae: 1.6237 - lr: 2.0000e-04\n",
            "Epoch 225/1000\n",
            "8/8 [==============================] - 0s 6ms/step - loss: 1.3803 - mae: 1.3803 - val_loss: 1.5782 - val_mae: 1.5782 - lr: 2.0000e-04\n",
            "Epoch 226/1000\n",
            "8/8 [==============================] - 0s 6ms/step - loss: 1.3668 - mae: 1.3668 - val_loss: 1.7609 - val_mae: 1.7609 - lr: 2.0000e-04\n",
            "Epoch 227/1000\n",
            "8/8 [==============================] - 0s 6ms/step - loss: 1.3760 - mae: 1.3760 - val_loss: 1.6593 - val_mae: 1.6593 - lr: 2.0000e-04\n",
            "Epoch 228/1000\n",
            "8/8 [==============================] - 0s 7ms/step - loss: 1.3601 - mae: 1.3601 - val_loss: 1.6532 - val_mae: 1.6532 - lr: 2.0000e-04\n",
            "Epoch 229/1000\n",
            "8/8 [==============================] - 0s 7ms/step - loss: 1.3369 - mae: 1.3369 - val_loss: 1.6281 - val_mae: 1.6281 - lr: 2.0000e-04\n",
            "Epoch 230/1000\n",
            "8/8 [==============================] - 0s 9ms/step - loss: 1.4092 - mae: 1.4092 - val_loss: 1.5974 - val_mae: 1.5974 - lr: 2.0000e-04\n",
            "Epoch 231/1000\n",
            "8/8 [==============================] - 0s 8ms/step - loss: 1.3639 - mae: 1.3639 - val_loss: 1.6821 - val_mae: 1.6821 - lr: 2.0000e-04\n",
            "Epoch 232/1000\n",
            "8/8 [==============================] - 0s 7ms/step - loss: 1.3161 - mae: 1.3161 - val_loss: 1.6613 - val_mae: 1.6613 - lr: 2.0000e-04\n",
            "Epoch 233/1000\n",
            "8/8 [==============================] - 0s 10ms/step - loss: 1.3736 - mae: 1.3736 - val_loss: 1.5835 - val_mae: 1.5835 - lr: 2.0000e-04\n",
            "Epoch 234/1000\n",
            "8/8 [==============================] - 0s 7ms/step - loss: 1.3346 - mae: 1.3346 - val_loss: 1.6991 - val_mae: 1.6991 - lr: 2.0000e-04\n",
            "Epoch 235/1000\n",
            "8/8 [==============================] - 0s 8ms/step - loss: 1.3666 - mae: 1.3666 - val_loss: 1.7106 - val_mae: 1.7106 - lr: 2.0000e-04\n",
            "Epoch 236/1000\n",
            "8/8 [==============================] - 0s 6ms/step - loss: 1.3146 - mae: 1.3146 - val_loss: 1.6496 - val_mae: 1.6496 - lr: 2.0000e-04\n",
            "Epoch 237/1000\n",
            "8/8 [==============================] - 0s 12ms/step - loss: 1.3344 - mae: 1.3344 - val_loss: 1.5760 - val_mae: 1.5760 - lr: 2.0000e-04\n",
            "Epoch 238/1000\n",
            "8/8 [==============================] - 0s 7ms/step - loss: 1.3657 - mae: 1.3657 - val_loss: 1.7024 - val_mae: 1.7024 - lr: 2.0000e-04\n",
            "Epoch 239/1000\n",
            "8/8 [==============================] - 0s 9ms/step - loss: 1.3268 - mae: 1.3268 - val_loss: 1.6637 - val_mae: 1.6637 - lr: 2.0000e-04\n",
            "Epoch 240/1000\n",
            "8/8 [==============================] - 0s 9ms/step - loss: 1.3701 - mae: 1.3701 - val_loss: 1.6119 - val_mae: 1.6119 - lr: 2.0000e-04\n",
            "Epoch 241/1000\n",
            "8/8 [==============================] - 0s 9ms/step - loss: 1.2967 - mae: 1.2967 - val_loss: 1.6908 - val_mae: 1.6908 - lr: 2.0000e-04\n",
            "Epoch 242/1000\n",
            "8/8 [==============================] - 0s 7ms/step - loss: 1.3275 - mae: 1.3275 - val_loss: 1.7366 - val_mae: 1.7366 - lr: 2.0000e-04\n",
            "Epoch 243/1000\n",
            "8/8 [==============================] - 0s 6ms/step - loss: 1.2517 - mae: 1.2517 - val_loss: 1.5771 - val_mae: 1.5771 - lr: 2.0000e-04\n",
            "Epoch 244/1000\n",
            "8/8 [==============================] - 0s 11ms/step - loss: 1.3153 - mae: 1.3153 - val_loss: 1.5727 - val_mae: 1.5727 - lr: 2.0000e-04\n",
            "Epoch 245/1000\n",
            "8/8 [==============================] - 0s 9ms/step - loss: 1.3403 - mae: 1.3403 - val_loss: 1.5753 - val_mae: 1.5753 - lr: 2.0000e-04\n",
            "Epoch 246/1000\n",
            "8/8 [==============================] - 0s 9ms/step - loss: 1.2818 - mae: 1.2818 - val_loss: 1.7144 - val_mae: 1.7144 - lr: 2.0000e-04\n",
            "Epoch 247/1000\n",
            "8/8 [==============================] - 0s 8ms/step - loss: 1.3087 - mae: 1.3087 - val_loss: 1.6657 - val_mae: 1.6657 - lr: 2.0000e-04\n",
            "Epoch 248/1000\n",
            "8/8 [==============================] - 0s 10ms/step - loss: 1.3542 - mae: 1.3542 - val_loss: 1.5510 - val_mae: 1.5510 - lr: 2.0000e-04\n",
            "Epoch 249/1000\n",
            "8/8 [==============================] - 0s 7ms/step - loss: 1.2866 - mae: 1.2866 - val_loss: 1.5636 - val_mae: 1.5636 - lr: 2.0000e-04\n",
            "Epoch 250/1000\n",
            "8/8 [==============================] - 0s 9ms/step - loss: 1.3537 - mae: 1.3537 - val_loss: 1.7818 - val_mae: 1.7818 - lr: 2.0000e-04\n",
            "Epoch 251/1000\n",
            "8/8 [==============================] - 0s 7ms/step - loss: 1.3096 - mae: 1.3096 - val_loss: 1.5929 - val_mae: 1.5929 - lr: 2.0000e-04\n",
            "Epoch 252/1000\n",
            "8/8 [==============================] - 0s 8ms/step - loss: 1.3549 - mae: 1.3549 - val_loss: 1.5683 - val_mae: 1.5683 - lr: 2.0000e-04\n",
            "Epoch 253/1000\n",
            "8/8 [==============================] - 0s 10ms/step - loss: 1.2559 - mae: 1.2559 - val_loss: 1.5384 - val_mae: 1.5384 - lr: 2.0000e-04\n",
            "Epoch 254/1000\n",
            "8/8 [==============================] - 0s 8ms/step - loss: 1.3817 - mae: 1.3817 - val_loss: 1.6631 - val_mae: 1.6631 - lr: 2.0000e-04\n",
            "Epoch 255/1000\n",
            "8/8 [==============================] - 0s 7ms/step - loss: 1.3364 - mae: 1.3364 - val_loss: 1.6101 - val_mae: 1.6101 - lr: 2.0000e-04\n",
            "Epoch 256/1000\n",
            "8/8 [==============================] - 0s 7ms/step - loss: 1.2651 - mae: 1.2651 - val_loss: 1.5503 - val_mae: 1.5503 - lr: 2.0000e-04\n",
            "Epoch 257/1000\n",
            "8/8 [==============================] - 0s 6ms/step - loss: 1.2944 - mae: 1.2944 - val_loss: 1.5735 - val_mae: 1.5735 - lr: 2.0000e-04\n",
            "Epoch 258/1000\n",
            "8/8 [==============================] - 0s 7ms/step - loss: 1.2489 - mae: 1.2489 - val_loss: 1.6072 - val_mae: 1.6072 - lr: 2.0000e-04\n",
            "Epoch 259/1000\n",
            "8/8 [==============================] - 0s 8ms/step - loss: 1.2790 - mae: 1.2790 - val_loss: 1.5723 - val_mae: 1.5723 - lr: 2.0000e-04\n",
            "Epoch 260/1000\n",
            "8/8 [==============================] - 0s 9ms/step - loss: 1.2545 - mae: 1.2545 - val_loss: 1.5677 - val_mae: 1.5677 - lr: 2.0000e-04\n",
            "Epoch 261/1000\n",
            "8/8 [==============================] - 0s 6ms/step - loss: 1.3329 - mae: 1.3329 - val_loss: 1.6244 - val_mae: 1.6244 - lr: 2.0000e-04\n",
            "Epoch 262/1000\n",
            "8/8 [==============================] - 0s 8ms/step - loss: 1.3312 - mae: 1.3312 - val_loss: 1.5609 - val_mae: 1.5609 - lr: 2.0000e-04\n",
            "Epoch 263/1000\n",
            "8/8 [==============================] - 0s 8ms/step - loss: 1.3021 - mae: 1.3021 - val_loss: 1.5974 - val_mae: 1.5974 - lr: 2.0000e-04\n",
            "Epoch 264/1000\n",
            "8/8 [==============================] - 0s 8ms/step - loss: 1.2565 - mae: 1.2565 - val_loss: 1.5943 - val_mae: 1.5943 - lr: 2.0000e-04\n",
            "Epoch 265/1000\n",
            "8/8 [==============================] - 0s 8ms/step - loss: 1.3025 - mae: 1.3025 - val_loss: 1.5832 - val_mae: 1.5832 - lr: 2.0000e-04\n",
            "Epoch 266/1000\n",
            "8/8 [==============================] - 0s 6ms/step - loss: 1.3174 - mae: 1.3174 - val_loss: 1.5532 - val_mae: 1.5532 - lr: 2.0000e-04\n",
            "Epoch 267/1000\n",
            "8/8 [==============================] - 0s 6ms/step - loss: 1.2401 - mae: 1.2401 - val_loss: 1.6401 - val_mae: 1.6401 - lr: 2.0000e-04\n",
            "Epoch 268/1000\n",
            "8/8 [==============================] - 0s 7ms/step - loss: 1.2211 - mae: 1.2211 - val_loss: 1.5692 - val_mae: 1.5692 - lr: 2.0000e-04\n",
            "Epoch 269/1000\n",
            "8/8 [==============================] - 0s 10ms/step - loss: 1.2447 - mae: 1.2447 - val_loss: 1.6477 - val_mae: 1.6477 - lr: 2.0000e-04\n",
            "Epoch 270/1000\n",
            "8/8 [==============================] - 0s 7ms/step - loss: 1.3570 - mae: 1.3570 - val_loss: 1.5904 - val_mae: 1.5904 - lr: 2.0000e-04\n",
            "Epoch 271/1000\n",
            "8/8 [==============================] - 0s 11ms/step - loss: 1.2823 - mae: 1.2823 - val_loss: 1.5734 - val_mae: 1.5734 - lr: 2.0000e-04\n",
            "Epoch 272/1000\n",
            "8/8 [==============================] - 0s 9ms/step - loss: 1.3208 - mae: 1.3208 - val_loss: 1.8654 - val_mae: 1.8654 - lr: 2.0000e-04\n",
            "Epoch 273/1000\n",
            "8/8 [==============================] - 0s 6ms/step - loss: 1.3586 - mae: 1.3586 - val_loss: 1.5610 - val_mae: 1.5610 - lr: 2.0000e-04\n",
            "Epoch 274/1000\n",
            "8/8 [==============================] - 0s 10ms/step - loss: 1.2890 - mae: 1.2890 - val_loss: 1.5355 - val_mae: 1.5355 - lr: 2.0000e-04\n",
            "Epoch 275/1000\n",
            "8/8 [==============================] - 0s 13ms/step - loss: 1.2084 - mae: 1.2084 - val_loss: 1.5286 - val_mae: 1.5286 - lr: 2.0000e-04\n",
            "Epoch 276/1000\n",
            "8/8 [==============================] - 0s 10ms/step - loss: 1.3211 - mae: 1.3211 - val_loss: 1.5481 - val_mae: 1.5481 - lr: 2.0000e-04\n",
            "Epoch 277/1000\n",
            "8/8 [==============================] - 0s 9ms/step - loss: 1.2819 - mae: 1.2819 - val_loss: 1.5535 - val_mae: 1.5535 - lr: 2.0000e-04\n",
            "Epoch 278/1000\n",
            "8/8 [==============================] - 0s 9ms/step - loss: 1.3509 - mae: 1.3509 - val_loss: 1.7010 - val_mae: 1.7010 - lr: 2.0000e-04\n",
            "Epoch 279/1000\n",
            "8/8 [==============================] - 0s 6ms/step - loss: 1.3184 - mae: 1.3184 - val_loss: 1.6075 - val_mae: 1.6075 - lr: 2.0000e-04\n",
            "Epoch 280/1000\n",
            "8/8 [==============================] - 0s 11ms/step - loss: 1.2843 - mae: 1.2843 - val_loss: 1.5623 - val_mae: 1.5623 - lr: 2.0000e-04\n",
            "Epoch 281/1000\n",
            "8/8 [==============================] - 0s 12ms/step - loss: 1.2509 - mae: 1.2509 - val_loss: 1.5266 - val_mae: 1.5266 - lr: 2.0000e-04\n",
            "Epoch 282/1000\n",
            "8/8 [==============================] - 0s 8ms/step - loss: 1.3149 - mae: 1.3149 - val_loss: 1.5683 - val_mae: 1.5683 - lr: 2.0000e-04\n",
            "Epoch 283/1000\n",
            "8/8 [==============================] - 0s 6ms/step - loss: 1.2672 - mae: 1.2672 - val_loss: 1.8558 - val_mae: 1.8558 - lr: 2.0000e-04\n",
            "Epoch 284/1000\n",
            "8/8 [==============================] - 0s 7ms/step - loss: 1.2489 - mae: 1.2489 - val_loss: 1.5336 - val_mae: 1.5336 - lr: 2.0000e-04\n",
            "Epoch 285/1000\n",
            "8/8 [==============================] - 0s 8ms/step - loss: 1.2888 - mae: 1.2888 - val_loss: 1.7104 - val_mae: 1.7104 - lr: 2.0000e-04\n",
            "Epoch 286/1000\n",
            "8/8 [==============================] - 0s 6ms/step - loss: 1.2700 - mae: 1.2700 - val_loss: 1.6581 - val_mae: 1.6581 - lr: 2.0000e-04\n",
            "Epoch 287/1000\n",
            "8/8 [==============================] - 0s 6ms/step - loss: 1.1978 - mae: 1.1978 - val_loss: 1.5431 - val_mae: 1.5431 - lr: 2.0000e-04\n",
            "Epoch 288/1000\n",
            "8/8 [==============================] - 0s 10ms/step - loss: 1.2710 - mae: 1.2710 - val_loss: 1.5256 - val_mae: 1.5256 - lr: 2.0000e-04\n",
            "Epoch 289/1000\n",
            "8/8 [==============================] - 0s 9ms/step - loss: 1.2737 - mae: 1.2737 - val_loss: 1.6627 - val_mae: 1.6627 - lr: 2.0000e-04\n",
            "Epoch 290/1000\n",
            "8/8 [==============================] - 0s 7ms/step - loss: 1.2596 - mae: 1.2596 - val_loss: 1.5637 - val_mae: 1.5637 - lr: 2.0000e-04\n",
            "Epoch 291/1000\n",
            "8/8 [==============================] - 0s 8ms/step - loss: 1.2817 - mae: 1.2817 - val_loss: 1.5979 - val_mae: 1.5979 - lr: 2.0000e-04\n",
            "Epoch 292/1000\n",
            "8/8 [==============================] - 0s 7ms/step - loss: 1.2984 - mae: 1.2984 - val_loss: 1.5779 - val_mae: 1.5779 - lr: 2.0000e-04\n",
            "Epoch 293/1000\n",
            "8/8 [==============================] - 0s 9ms/step - loss: 1.1754 - mae: 1.1754 - val_loss: 1.5357 - val_mae: 1.5357 - lr: 2.0000e-04\n",
            "Epoch 294/1000\n",
            "8/8 [==============================] - 0s 10ms/step - loss: 1.1463 - mae: 1.1463 - val_loss: 1.5351 - val_mae: 1.5351 - lr: 2.0000e-04\n",
            "Epoch 295/1000\n",
            "8/8 [==============================] - 0s 9ms/step - loss: 1.3005 - mae: 1.3005 - val_loss: 1.6363 - val_mae: 1.6363 - lr: 2.0000e-04\n",
            "Epoch 296/1000\n",
            "8/8 [==============================] - 0s 6ms/step - loss: 1.2289 - mae: 1.2289 - val_loss: 1.5669 - val_mae: 1.5669 - lr: 2.0000e-04\n",
            "Epoch 297/1000\n",
            "8/8 [==============================] - 0s 8ms/step - loss: 1.1953 - mae: 1.1953 - val_loss: 1.5341 - val_mae: 1.5341 - lr: 2.0000e-04\n",
            "Epoch 298/1000\n",
            "8/8 [==============================] - 0s 8ms/step - loss: 1.2510 - mae: 1.2510 - val_loss: 1.5817 - val_mae: 1.5817 - lr: 2.0000e-04\n",
            "Epoch 299/1000\n",
            "8/8 [==============================] - 0s 7ms/step - loss: 1.2732 - mae: 1.2732 - val_loss: 1.6286 - val_mae: 1.6286 - lr: 2.0000e-04\n",
            "Epoch 300/1000\n",
            "8/8 [==============================] - 0s 7ms/step - loss: 1.2279 - mae: 1.2279 - val_loss: 1.6271 - val_mae: 1.6271 - lr: 2.0000e-04\n",
            "Epoch 301/1000\n",
            "8/8 [==============================] - 0s 6ms/step - loss: 1.2625 - mae: 1.2625 - val_loss: 1.5435 - val_mae: 1.5435 - lr: 2.0000e-04\n",
            "Epoch 302/1000\n",
            "8/8 [==============================] - 0s 7ms/step - loss: 1.2679 - mae: 1.2679 - val_loss: 1.5386 - val_mae: 1.5386 - lr: 2.0000e-04\n",
            "Epoch 303/1000\n",
            "8/8 [==============================] - 0s 9ms/step - loss: 1.2941 - mae: 1.2941 - val_loss: 1.5331 - val_mae: 1.5331 - lr: 2.0000e-04\n",
            "Epoch 304/1000\n",
            "8/8 [==============================] - 0s 7ms/step - loss: 1.2964 - mae: 1.2964 - val_loss: 1.7851 - val_mae: 1.7851 - lr: 2.0000e-04\n",
            "Epoch 305/1000\n",
            "8/8 [==============================] - 0s 8ms/step - loss: 1.2159 - mae: 1.2159 - val_loss: 1.5849 - val_mae: 1.5849 - lr: 2.0000e-04\n",
            "Epoch 306/1000\n",
            "8/8 [==============================] - 0s 8ms/step - loss: 1.2703 - mae: 1.2703 - val_loss: 1.5379 - val_mae: 1.5379 - lr: 2.0000e-04\n",
            "Epoch 307/1000\n",
            "8/8 [==============================] - 0s 13ms/step - loss: 1.2698 - mae: 1.2698 - val_loss: 1.5199 - val_mae: 1.5199 - lr: 2.0000e-04\n",
            "Epoch 308/1000\n",
            "8/8 [==============================] - 0s 7ms/step - loss: 1.2298 - mae: 1.2298 - val_loss: 1.6563 - val_mae: 1.6563 - lr: 2.0000e-04\n",
            "Epoch 309/1000\n",
            "8/8 [==============================] - 0s 8ms/step - loss: 1.2225 - mae: 1.2225 - val_loss: 1.6449 - val_mae: 1.6449 - lr: 2.0000e-04\n",
            "Epoch 310/1000\n",
            "8/8 [==============================] - 0s 8ms/step - loss: 1.1660 - mae: 1.1660 - val_loss: 1.6350 - val_mae: 1.6350 - lr: 2.0000e-04\n",
            "Epoch 311/1000\n",
            "8/8 [==============================] - 0s 8ms/step - loss: 1.2220 - mae: 1.2220 - val_loss: 1.6481 - val_mae: 1.6481 - lr: 2.0000e-04\n",
            "Epoch 312/1000\n",
            "8/8 [==============================] - 0s 10ms/step - loss: 1.2288 - mae: 1.2288 - val_loss: 1.5199 - val_mae: 1.5199 - lr: 2.0000e-04\n",
            "Epoch 313/1000\n",
            "8/8 [==============================] - 0s 11ms/step - loss: 1.2707 - mae: 1.2707 - val_loss: 1.5192 - val_mae: 1.5192 - lr: 2.0000e-04\n",
            "Epoch 314/1000\n",
            "8/8 [==============================] - 0s 8ms/step - loss: 1.2224 - mae: 1.2224 - val_loss: 1.5377 - val_mae: 1.5377 - lr: 2.0000e-04\n",
            "Epoch 315/1000\n",
            "8/8 [==============================] - 0s 6ms/step - loss: 1.2139 - mae: 1.2139 - val_loss: 1.5675 - val_mae: 1.5675 - lr: 2.0000e-04\n",
            "Epoch 316/1000\n",
            "8/8 [==============================] - 0s 7ms/step - loss: 1.2456 - mae: 1.2456 - val_loss: 1.5659 - val_mae: 1.5659 - lr: 2.0000e-04\n",
            "Epoch 317/1000\n",
            "8/8 [==============================] - 0s 8ms/step - loss: 1.2963 - mae: 1.2963 - val_loss: 1.6279 - val_mae: 1.6279 - lr: 2.0000e-04\n",
            "Epoch 318/1000\n",
            "8/8 [==============================] - 0s 9ms/step - loss: 1.2913 - mae: 1.2913 - val_loss: 1.5293 - val_mae: 1.5293 - lr: 2.0000e-04\n",
            "Epoch 319/1000\n",
            "8/8 [==============================] - 0s 7ms/step - loss: 1.2743 - mae: 1.2743 - val_loss: 1.5741 - val_mae: 1.5741 - lr: 2.0000e-04\n",
            "Epoch 320/1000\n",
            "8/8 [==============================] - 0s 6ms/step - loss: 1.2872 - mae: 1.2872 - val_loss: 1.5282 - val_mae: 1.5282 - lr: 2.0000e-04\n",
            "Epoch 321/1000\n",
            "8/8 [==============================] - 0s 9ms/step - loss: 1.1686 - mae: 1.1686 - val_loss: 1.5885 - val_mae: 1.5885 - lr: 2.0000e-04\n",
            "Epoch 322/1000\n",
            "8/8 [==============================] - 0s 6ms/step - loss: 1.1828 - mae: 1.1828 - val_loss: 1.5500 - val_mae: 1.5500 - lr: 2.0000e-04\n",
            "Epoch 323/1000\n",
            "8/8 [==============================] - 0s 9ms/step - loss: 1.2615 - mae: 1.2615 - val_loss: 1.5714 - val_mae: 1.5714 - lr: 2.0000e-04\n",
            "Epoch 324/1000\n",
            "8/8 [==============================] - 0s 6ms/step - loss: 1.1561 - mae: 1.1561 - val_loss: 1.5318 - val_mae: 1.5318 - lr: 2.0000e-04\n",
            "Epoch 325/1000\n",
            "8/8 [==============================] - 0s 6ms/step - loss: 1.2700 - mae: 1.2700 - val_loss: 1.5396 - val_mae: 1.5396 - lr: 2.0000e-04\n",
            "Epoch 326/1000\n",
            "8/8 [==============================] - 0s 11ms/step - loss: 1.1525 - mae: 1.1525 - val_loss: 1.5168 - val_mae: 1.5168 - lr: 2.0000e-04\n",
            "Epoch 327/1000\n",
            "8/8 [==============================] - 0s 9ms/step - loss: 1.3192 - mae: 1.3192 - val_loss: 1.5486 - val_mae: 1.5486 - lr: 2.0000e-04\n",
            "Epoch 328/1000\n",
            "8/8 [==============================] - 0s 9ms/step - loss: 1.2314 - mae: 1.2314 - val_loss: 1.5991 - val_mae: 1.5991 - lr: 2.0000e-04\n",
            "Epoch 329/1000\n",
            "8/8 [==============================] - 0s 6ms/step - loss: 1.1944 - mae: 1.1944 - val_loss: 1.8463 - val_mae: 1.8463 - lr: 2.0000e-04\n",
            "Epoch 330/1000\n",
            "8/8 [==============================] - 0s 9ms/step - loss: 1.2409 - mae: 1.2409 - val_loss: 1.5279 - val_mae: 1.5279 - lr: 2.0000e-04\n",
            "Epoch 331/1000\n",
            "8/8 [==============================] - 0s 6ms/step - loss: 1.2638 - mae: 1.2638 - val_loss: 1.5419 - val_mae: 1.5419 - lr: 2.0000e-04\n",
            "Epoch 332/1000\n",
            "8/8 [==============================] - 0s 7ms/step - loss: 1.2584 - mae: 1.2584 - val_loss: 1.5667 - val_mae: 1.5667 - lr: 2.0000e-04\n",
            "Epoch 333/1000\n",
            "8/8 [==============================] - 0s 6ms/step - loss: 1.2184 - mae: 1.2184 - val_loss: 1.5286 - val_mae: 1.5286 - lr: 2.0000e-04\n",
            "Epoch 334/1000\n",
            "8/8 [==============================] - 0s 8ms/step - loss: 1.1966 - mae: 1.1966 - val_loss: 1.5671 - val_mae: 1.5671 - lr: 2.0000e-04\n",
            "Epoch 335/1000\n",
            "8/8 [==============================] - 0s 6ms/step - loss: 1.2615 - mae: 1.2615 - val_loss: 1.6632 - val_mae: 1.6632 - lr: 2.0000e-04\n",
            "Epoch 336/1000\n",
            "8/8 [==============================] - 0s 7ms/step - loss: 1.0995 - mae: 1.0995 - val_loss: 1.5265 - val_mae: 1.5265 - lr: 2.0000e-04\n",
            "Epoch 337/1000\n",
            "8/8 [==============================] - 0s 8ms/step - loss: 1.2164 - mae: 1.2164 - val_loss: 1.5590 - val_mae: 1.5590 - lr: 2.0000e-04\n",
            "Epoch 338/1000\n",
            "8/8 [==============================] - 0s 6ms/step - loss: 1.1774 - mae: 1.1774 - val_loss: 1.5240 - val_mae: 1.5240 - lr: 2.0000e-04\n",
            "Epoch 339/1000\n",
            "8/8 [==============================] - 0s 7ms/step - loss: 1.1740 - mae: 1.1740 - val_loss: 1.5908 - val_mae: 1.5908 - lr: 2.0000e-04\n",
            "Epoch 340/1000\n",
            "8/8 [==============================] - 0s 7ms/step - loss: 1.2354 - mae: 1.2354 - val_loss: 1.5265 - val_mae: 1.5265 - lr: 2.0000e-04\n",
            "Epoch 341/1000\n",
            "8/8 [==============================] - 0s 6ms/step - loss: 1.2024 - mae: 1.2024 - val_loss: 1.6144 - val_mae: 1.6144 - lr: 2.0000e-04\n",
            "Epoch 342/1000\n",
            "8/8 [==============================] - 0s 7ms/step - loss: 1.3235 - mae: 1.3235 - val_loss: 1.6125 - val_mae: 1.6125 - lr: 2.0000e-04\n",
            "Epoch 343/1000\n",
            "8/8 [==============================] - 0s 8ms/step - loss: 1.2198 - mae: 1.2198 - val_loss: 1.5714 - val_mae: 1.5714 - lr: 2.0000e-04\n",
            "Epoch 344/1000\n",
            "8/8 [==============================] - 0s 7ms/step - loss: 1.1602 - mae: 1.1602 - val_loss: 1.7602 - val_mae: 1.7602 - lr: 2.0000e-04\n",
            "Epoch 345/1000\n",
            "8/8 [==============================] - 0s 6ms/step - loss: 1.2161 - mae: 1.2161 - val_loss: 1.5187 - val_mae: 1.5187 - lr: 2.0000e-04\n",
            "Epoch 346/1000\n",
            "8/8 [==============================] - 0s 6ms/step - loss: 1.2488 - mae: 1.2488 - val_loss: 1.5668 - val_mae: 1.5668 - lr: 2.0000e-04\n",
            "Epoch 347/1000\n",
            "8/8 [==============================] - 0s 10ms/step - loss: 1.2388 - mae: 1.2388 - val_loss: 1.6139 - val_mae: 1.6139 - lr: 2.0000e-04\n",
            "Epoch 348/1000\n",
            "8/8 [==============================] - 0s 8ms/step - loss: 1.2253 - mae: 1.2253 - val_loss: 1.5283 - val_mae: 1.5283 - lr: 2.0000e-04\n",
            "Epoch 349/1000\n",
            "8/8 [==============================] - 0s 6ms/step - loss: 1.1970 - mae: 1.1970 - val_loss: 1.5445 - val_mae: 1.5445 - lr: 2.0000e-04\n",
            "Epoch 350/1000\n",
            "8/8 [==============================] - 0s 6ms/step - loss: 1.2589 - mae: 1.2589 - val_loss: 1.5769 - val_mae: 1.5769 - lr: 2.0000e-04\n",
            "Epoch 351/1000\n",
            "8/8 [==============================] - 0s 6ms/step - loss: 1.2232 - mae: 1.2232 - val_loss: 1.5205 - val_mae: 1.5205 - lr: 2.0000e-04\n",
            "Epoch 352/1000\n",
            "8/8 [==============================] - 0s 9ms/step - loss: 1.2224 - mae: 1.2224 - val_loss: 1.5285 - val_mae: 1.5285 - lr: 2.0000e-04\n",
            "Epoch 353/1000\n",
            "8/8 [==============================] - 0s 7ms/step - loss: 1.2355 - mae: 1.2355 - val_loss: 1.5470 - val_mae: 1.5470 - lr: 2.0000e-04\n",
            "Epoch 354/1000\n",
            "8/8 [==============================] - 0s 7ms/step - loss: 1.1672 - mae: 1.1672 - val_loss: 1.5519 - val_mae: 1.5519 - lr: 2.0000e-04\n",
            "Epoch 355/1000\n",
            "8/8 [==============================] - 0s 10ms/step - loss: 1.2003 - mae: 1.2003 - val_loss: 1.5469 - val_mae: 1.5469 - lr: 2.0000e-04\n",
            "Epoch 356/1000\n",
            "8/8 [==============================] - 0s 7ms/step - loss: 1.2310 - mae: 1.2310 - val_loss: 1.6171 - val_mae: 1.6171 - lr: 2.0000e-04\n",
            "Epoch 357/1000\n",
            "8/8 [==============================] - 0s 8ms/step - loss: 1.2209 - mae: 1.2209 - val_loss: 1.5720 - val_mae: 1.5720 - lr: 2.0000e-04\n",
            "Epoch 358/1000\n",
            "8/8 [==============================] - 0s 9ms/step - loss: 1.1944 - mae: 1.1944 - val_loss: 1.6591 - val_mae: 1.6591 - lr: 2.0000e-04\n",
            "Epoch 359/1000\n",
            "8/8 [==============================] - 0s 6ms/step - loss: 1.2647 - mae: 1.2647 - val_loss: 1.6446 - val_mae: 1.6446 - lr: 2.0000e-04\n",
            "Epoch 360/1000\n",
            "8/8 [==============================] - 0s 7ms/step - loss: 1.2564 - mae: 1.2564 - val_loss: 1.5529 - val_mae: 1.5529 - lr: 2.0000e-04\n",
            "Epoch 361/1000\n",
            "8/8 [==============================] - 0s 9ms/step - loss: 1.1518 - mae: 1.1518 - val_loss: 1.5969 - val_mae: 1.5969 - lr: 2.0000e-04\n",
            "Epoch 362/1000\n",
            "8/8 [==============================] - 0s 7ms/step - loss: 1.2223 - mae: 1.2223 - val_loss: 1.6187 - val_mae: 1.6187 - lr: 2.0000e-04\n",
            "Epoch 363/1000\n",
            "8/8 [==============================] - 0s 9ms/step - loss: 1.2189 - mae: 1.2189 - val_loss: 1.5264 - val_mae: 1.5264 - lr: 2.0000e-04\n",
            "Epoch 364/1000\n",
            "8/8 [==============================] - 0s 10ms/step - loss: 1.2785 - mae: 1.2785 - val_loss: 1.6036 - val_mae: 1.6036 - lr: 2.0000e-04\n",
            "Epoch 365/1000\n",
            "8/8 [==============================] - 0s 6ms/step - loss: 1.1921 - mae: 1.1921 - val_loss: 1.6705 - val_mae: 1.6705 - lr: 2.0000e-04\n",
            "Epoch 366/1000\n",
            "8/8 [==============================] - 0s 8ms/step - loss: 1.2423 - mae: 1.2423 - val_loss: 1.6423 - val_mae: 1.6423 - lr: 2.0000e-04\n",
            "Epoch 367/1000\n",
            "8/8 [==============================] - 0s 10ms/step - loss: 1.1798 - mae: 1.1798 - val_loss: 1.5499 - val_mae: 1.5499 - lr: 4.0000e-05\n",
            "Epoch 368/1000\n",
            "8/8 [==============================] - 0s 7ms/step - loss: 1.2325 - mae: 1.2325 - val_loss: 1.5599 - val_mae: 1.5599 - lr: 4.0000e-05\n",
            "Epoch 369/1000\n",
            "8/8 [==============================] - 0s 9ms/step - loss: 1.1757 - mae: 1.1757 - val_loss: 1.5737 - val_mae: 1.5737 - lr: 4.0000e-05\n",
            "Epoch 370/1000\n",
            "8/8 [==============================] - 0s 9ms/step - loss: 1.1429 - mae: 1.1429 - val_loss: 1.6299 - val_mae: 1.6299 - lr: 4.0000e-05\n",
            "Epoch 371/1000\n",
            "8/8 [==============================] - 0s 8ms/step - loss: 1.1640 - mae: 1.1640 - val_loss: 1.6174 - val_mae: 1.6174 - lr: 4.0000e-05\n",
            "Epoch 372/1000\n",
            "8/8 [==============================] - 0s 9ms/step - loss: 1.1692 - mae: 1.1692 - val_loss: 1.6354 - val_mae: 1.6354 - lr: 4.0000e-05\n",
            "Epoch 373/1000\n",
            "8/8 [==============================] - 0s 6ms/step - loss: 1.2170 - mae: 1.2170 - val_loss: 1.5983 - val_mae: 1.5983 - lr: 4.0000e-05\n",
            "Epoch 374/1000\n",
            "8/8 [==============================] - 0s 6ms/step - loss: 1.1155 - mae: 1.1155 - val_loss: 1.5622 - val_mae: 1.5622 - lr: 4.0000e-05\n",
            "Epoch 375/1000\n",
            "8/8 [==============================] - 0s 9ms/step - loss: 1.1643 - mae: 1.1643 - val_loss: 1.5793 - val_mae: 1.5793 - lr: 4.0000e-05\n",
            "Epoch 376/1000\n",
            "8/8 [==============================] - 0s 7ms/step - loss: 1.1864 - mae: 1.1864 - val_loss: 1.5664 - val_mae: 1.5664 - lr: 4.0000e-05\n",
            "INFO:tensorflow:Assets written to: ram://ed991e9f-a208-4d2a-8858-c6d14d697823/assets\n"
          ]
        }
      ]
    },
    {
      "cell_type": "code",
      "source": [
        "#### 여기부터 테스트 #####\n",
        "\n",
        "import numpy as np\n",
        "import pandas as pd\n",
        "import tensorflow\n",
        "import os\n",
        "\n",
        "test = pd.read_csv('/content/test2.csv')\n",
        "test.drop('id', axis=1, inplace=True)"
      ],
      "metadata": {
        "id": "ZE2cPB0Kbai0"
      },
      "execution_count": 1,
      "outputs": []
    },
    {
      "cell_type": "code",
      "source": [
        "import joblib"
      ],
      "metadata": {
        "id": "jrNA6DfGcch7"
      },
      "execution_count": 2,
      "outputs": []
    },
    {
      "cell_type": "code",
      "source": [
        "# 학습을 위해 바꿨던 값들 테스트를 위해 test항목을 다시 바꿔줌.\n",
        "test = pd.get_dummies(data = test, columns = ['Gender'], prefix = 'Gender')\n",
        "foreign_body = test['Whole Weight'] - (test['Shucked Weight'] + test['Viscra Weight'] + test['Shell Weight'])\n",
        "test['foreign body'] = foreign_body\n",
        "test.loc[test['foreign body'] < 0 , 'foreign body'] = 0"
      ],
      "metadata": {
        "id": "VOmSK22dcd-U"
      },
      "execution_count": 3,
      "outputs": []
    },
    {
      "cell_type": "code",
      "source": [
        "test_MF=test[(test['Gender_F']==1) | (test['Gender_M']==1)]\n",
        "test_MF_idx=test_MF.index\n",
        "test_I=test[test['Gender_I']==1]\n",
        "test_I_idx=test_I.index\n",
        "test_MF.drop(['Gender_F', 'Gender_I', 'Gender_M'], axis=1, inplace=True)\n",
        "test_I.drop(['Gender_F', 'Gender_I', 'Gender_M'], axis=1, inplace=True)"
      ],
      "metadata": {
        "colab": {
          "base_uri": "https://localhost:8080/"
        },
        "id": "vfDruVSwchnI",
        "outputId": "ac9f18df-461b-49eb-d922-ed2324096534"
      },
      "execution_count": 4,
      "outputs": [
        {
          "output_type": "stream",
          "name": "stderr",
          "text": [
            "/usr/local/lib/python3.7/dist-packages/pandas/core/frame.py:4913: SettingWithCopyWarning: \n",
            "A value is trying to be set on a copy of a slice from a DataFrame\n",
            "\n",
            "See the caveats in the documentation: https://pandas.pydata.org/pandas-docs/stable/user_guide/indexing.html#returning-a-view-versus-a-copy\n",
            "  errors=errors,\n"
          ]
        }
      ]
    },
    {
      "cell_type": "code",
      "source": [
        "ntest_MF=test_MF.drop('Target', axis=1)\n",
        "ntest_I=test_I.drop('Target', axis=1)"
      ],
      "metadata": {
        "id": "unD3uOydcoYg"
      },
      "execution_count": 5,
      "outputs": []
    },
    {
      "cell_type": "code",
      "source": [
        "# 모델 호출, MF와 I로 나누어서 모델을 선정하고 학습하였기에, 따로 호출해야 함.\n",
        "loaded_model_MF = joblib.load('/content/2016038005_김홍길_MF.pkl')\n",
        "loaded_model_I = joblib.load('/content/2016038005_김홍길_I.pkl')"
      ],
      "metadata": {
        "id": "PpquxkbZcrHq"
      },
      "execution_count": 6,
      "outputs": []
    },
    {
      "cell_type": "code",
      "source": [
        "Y_prediction = loaded_model_MF.predict(ntest_MF).flatten()\n",
        "Y_prediction_data = pd.DataFrame(Y_prediction)\n",
        "Y_prediction_data.to_csv('MF_test.csv',index=False)"
      ],
      "metadata": {
        "id": "xESZvZJrcviz"
      },
      "execution_count": 7,
      "outputs": []
    },
    {
      "cell_type": "code",
      "source": [
        "Y_prediction = loaded_model_I.predict(ntest_I).flatten()\n",
        "Y_prediction_data = pd.DataFrame(Y_prediction)\n",
        "Y_prediction_data.to_csv('I_test.csv',index=False)"
      ],
      "metadata": {
        "id": "QFeG1dCUcxj1"
      },
      "execution_count": 8,
      "outputs": []
    },
    {
      "cell_type": "code",
      "source": [
        "# 점수 측정을 위한 함수\n",
        "def NMAE(true, pred):\n",
        "    mae = np.mean(np.abs(true-pred))\n",
        "    score = mae / np.mean(np.abs(true))\n",
        "    return score"
      ],
      "metadata": {
        "id": "Cv2bYeSBczo2"
      },
      "execution_count": 9,
      "outputs": []
    },
    {
      "cell_type": "code",
      "source": [
        "result_MF = pd.read_csv('/content/MF_test.csv')\n",
        "result_I = pd.read_csv('/content/I_test.csv')"
      ],
      "metadata": {
        "id": "UZcvov0kc2AG"
      },
      "execution_count": 10,
      "outputs": []
    },
    {
      "cell_type": "code",
      "source": [
        "result_MF.columns=['Target']\n",
        "result_I.columns=['Target']\n",
        "answer = pd.DataFrame(test_MF['Target'])\n",
        "answer.to_csv('answer.csv',index=False)"
      ],
      "metadata": {
        "id": "zfGnUysac4Pw"
      },
      "execution_count": 11,
      "outputs": []
    },
    {
      "cell_type": "code",
      "source": [
        "answer=pd.read_csv('/content/answer.csv')\n",
        "result_MF = pd.concat([answer, result_MF], axis=1)"
      ],
      "metadata": {
        "id": "n_MYED0nc_Py"
      },
      "execution_count": 12,
      "outputs": []
    },
    {
      "cell_type": "code",
      "source": [
        "answer = pd.DataFrame(test_I['Target'])\n",
        "answer.to_csv('answer.csv',index=False)\n",
        "answer=pd.read_csv('/content/answer.csv')\n",
        "result_I = pd.concat([answer, result_I], axis=1)"
      ],
      "metadata": {
        "id": "e4_KAhqVdFu-"
      },
      "execution_count": 13,
      "outputs": []
    },
    {
      "cell_type": "code",
      "source": [
        "result = pd.concat([result_MF,result_I])"
      ],
      "metadata": {
        "id": "MXdowXIVdHxl"
      },
      "execution_count": 14,
      "outputs": []
    },
    {
      "cell_type": "code",
      "source": [
        "result.columns = ['answer','prediction']"
      ],
      "metadata": {
        "id": "OCAm1Id_dJQm"
      },
      "execution_count": 15,
      "outputs": []
    },
    {
      "cell_type": "code",
      "source": [
        "score = NMAE(result['answer'],result['prediction'])\n",
        "print('전복 나이 예측에 대한 nmae 값 : ' + str(score))"
      ],
      "metadata": {
        "colab": {
          "base_uri": "https://localhost:8080/"
        },
        "id": "4HGC86wFdKhY",
        "outputId": "05b6c01a-c15a-4ef9-db43-35c6201d5d2c"
      },
      "execution_count": 16,
      "outputs": [
        {
          "output_type": "stream",
          "name": "stdout",
          "text": [
            "전복 나이 예측에 대한 nmae 값 : 0.1637798242937853\n"
          ]
        }
      ]
    },
    {
      "cell_type": "code",
      "source": [
        "import seaborn as sns\n",
        "sns.histplot(data=result,kde=True)"
      ],
      "metadata": {
        "id": "n4PKYHjWglmp",
        "colab": {
          "base_uri": "https://localhost:8080/",
          "height": 283
        },
        "outputId": "c3ff22a8-6656-4b5b-993d-0fe07547183e"
      },
      "execution_count": 17,
      "outputs": [
        {
          "output_type": "execute_result",
          "data": {
            "text/plain": [
              "<matplotlib.axes._subplots.AxesSubplot at 0x7f74dfa7df90>"
            ]
          },
          "metadata": {},
          "execution_count": 17
        },
        {
          "output_type": "display_data",
          "data": {
            "text/plain": [
              "<Figure size 432x288 with 1 Axes>"
            ],
            "image/png": "[encoded data removed]"
          },
          "metadata": {
            "needs_background": "light"
          }
        }
      ]
    },
    {
      "cell_type": "code",
      "source": [
        "# 기울기가 1에 가깝고, 산포도가 그래프에 가까울수록 예측이 잘된 것.\n",
        "sns.regplot(x = 'answer', y = 'prediction', data = result, scatter_kws={\"color\": \"#FC7F77\"}, line_kws={\"color\": \"black\"})"
      ],
      "metadata": {
        "colab": {
          "base_uri": "https://localhost:8080/",
          "height": 297
        },
        "id": "8qXZKRsbqZ_b",
        "outputId": "9a53cf94-3a81-4e9e-81eb-a9797e6df8b7"
      },
      "execution_count": 18,
      "outputs": [
        {
          "output_type": "execute_result",
          "data": {
            "text/plain": [
              "<matplotlib.axes._subplots.AxesSubplot at 0x7f74e1019510>"
            ]
          },
          "metadata": {},
          "execution_count": 18
        },
        {
          "output_type": "display_data",
          "data": {
            "text/plain": [
              "<Figure size 432x288 with 1 Axes>"
            ],
            "image/png": "[encoded data removed]"
          },
          "metadata": {
            "needs_background": "light"
          }
        }
      ]
    },
    {
      "cell_type": "code",
      "source": [
        "result['answer'].mean()"
      ],
      "metadata": {
        "colab": {
          "base_uri": "https://localhost:8080/"
        },
        "id": "VYQZjtSTkVhY",
        "outputId": "5a3e1847-7996-41e7-f83c-233f77125d60"
      },
      "execution_count": 19,
      "outputs": [
        {
          "output_type": "execute_result",
          "data": {
            "text/plain": [
              "9.833333333333334"
            ]
          },
          "metadata": {},
          "execution_count": 19
        }
      ]
    },
    {
      "cell_type": "code",
      "source": [
        "result['prediction'].mean()"
      ],
      "metadata": {
        "colab": {
          "base_uri": "https://localhost:8080/"
        },
        "id": "iYMX8I19kczg",
        "outputId": "8abeb953-aeeb-4f59-ff5b-c00b9b10f4d0"
      },
      "execution_count": 20,
      "outputs": [
        {
          "output_type": "execute_result",
          "data": {
            "text/plain": [
              "9.127020153174604"
            ]
          },
          "metadata": {},
          "execution_count": 20
        }
      ]
    },
    {
      "cell_type": "code",
      "source": [
        "err = np.abs(result['answer'] - result['prediction'])"
      ],
      "metadata": {
        "id": "zVG3cLQXklK9"
      },
      "execution_count": 21,
      "outputs": []
    },
    {
      "cell_type": "code",
      "source": [
        "err.mean()"
      ],
      "metadata": {
        "colab": {
          "base_uri": "https://localhost:8080/"
        },
        "id": "azdg0j9Mk1z9",
        "outputId": "20b160fb-bd46-4327-8f92-65b09e5e3e07"
      },
      "execution_count": 22,
      "outputs": [
        {
          "output_type": "execute_result",
          "data": {
            "text/plain": [
              "1.6105016055555554"
            ]
          },
          "metadata": {},
          "execution_count": 22
        }
      ]
    },
    {
      "cell_type": "code",
      "source": [
        "err.max()"
      ],
      "metadata": {
        "colab": {
          "base_uri": "https://localhost:8080/"
        },
        "id": "290vJqVpk3ie",
        "outputId": "8e8a4c93-814b-49b0-9920-2bb1627477a6"
      },
      "execution_count": 23,
      "outputs": [
        {
          "output_type": "execute_result",
          "data": {
            "text/plain": [
              "9.281908"
            ]
          },
          "metadata": {},
          "execution_count": 23
        }
      ]
    },
    {
      "cell_type": "code",
      "source": [
        "err.min()"
      ],
      "metadata": {
        "colab": {
          "base_uri": "https://localhost:8080/"
        },
        "id": "YPUlecPyk5Kt",
        "outputId": "bfcaba9a-2806-4fda-a6d0-260c424c716a"
      },
      "execution_count": null,
      "outputs": [
        {
          "output_type": "execute_result",
          "data": {
            "text/plain": [
              "0.013992000000000004"
            ]
          },
          "metadata": {},
          "execution_count": 188
        }
      ]
    },
    {
      "cell_type": "code",
      "source": [
        "sns.histplot(data=err,kde=True)"
      ],
      "metadata": {
        "colab": {
          "base_uri": "https://localhost:8080/",
          "height": 283
        },
        "id": "RqlSvCSZlIiu",
        "outputId": "d599b043-289c-41bc-d384-6bac4d95654b"
      },
      "execution_count": 24,
      "outputs": [
        {
          "output_type": "execute_result",
          "data": {
            "text/plain": [
              "<matplotlib.axes._subplots.AxesSubplot at 0x7f74e1093150>"
            ]
          },
          "metadata": {},
          "execution_count": 24
        },
        {
          "output_type": "display_data",
          "data": {
            "text/plain": [
              "<Figure size 432x288 with 1 Axes>"
            ],
            "image/png": "[encoded data removed]"
          },
          "metadata": {
            "needs_background": "light"
          }
        }
      ]
    }
  ]
}
