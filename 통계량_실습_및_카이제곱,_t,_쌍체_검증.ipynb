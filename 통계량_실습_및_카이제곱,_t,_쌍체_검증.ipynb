{
  "nbformat": 4,
  "nbformat_minor": 0,
  "metadata": {
    "colab": {
      "name": "통계량 실습 및 카이제곱, t, 쌍체 검증.ipynb",
      "provenance": [],
      "authorship_tag": "ABX9TyM4aYOzrFXLrUhFZ6AOs8cB",
      "include_colab_link": true
    },
    "kernelspec": {
      "name": "python3",
      "display_name": "Python 3"
    },
    "language_info": {
      "name": "python"
    }
  },
  "cells": [
    {
      "cell_type": "markdown",
      "metadata": {
        "id": "view-in-github",
        "colab_type": "text"
      },
      "source": [
        "<a href=\"https://colab.research.google.com/github/honggilgim/python_test_with_colab/blob/main/%ED%86%B5%EA%B3%84%EB%9F%89_%EC%8B%A4%EC%8A%B5_%EB%B0%8F_%EC%B9%B4%EC%9D%B4%EC%A0%9C%EA%B3%B1%2C_t%2C_%EC%8C%8D%EC%B2%B4_%EA%B2%80%EC%A6%9D.ipynb\" target=\"_parent\"><img src=\"https://colab.research.google.com/assets/colab-badge.svg\" alt=\"Open In Colab\"/></a>"
      ]
    },
    {
      "cell_type": "code",
      "execution_count": 3,
      "metadata": {
        "colab": {
          "base_uri": "https://localhost:8080/"
        },
        "id": "lNAELhVNvomp",
        "outputId": "1250d14d-d498-4c7f-9c5d-bd3c3d195f78"
      },
      "outputs": [
        {
          "output_type": "execute_result",
          "data": {
            "text/plain": [
              "4.5"
            ]
          },
          "metadata": {},
          "execution_count": 3
        }
      ],
      "source": [
        "# 통계량 실습. numpy 를 활용하여 통계량 계산\n",
        "\n",
        "import numpy as np\n",
        "\n",
        "x = np.arange(10.0) # 0~9 까지의 실수 10개를 가지는 자료 구조 생성\n",
        "x.mean() # 평균 구하는 함수"
      ]
    },
    {
      "cell_type": "code",
      "source": [
        "numbers = np.arange(20.0) # 0~19 까지 실수 20개로 1차원 배열 생성\n",
        "x = np.reshape(numbers,(4,5)) # numbers를 4행 5열로 변경\n",
        "np.mean(x,0)"
      ],
      "metadata": {
        "colab": {
          "base_uri": "https://localhost:8080/"
        },
        "id": "ooGlGZM-v2wc",
        "outputId": "f8aec6b8-80fa-4a55-adbd-4653528255fc"
      },
      "execution_count": 4,
      "outputs": [
        {
          "output_type": "execute_result",
          "data": {
            "text/plain": [
              "array([ 7.5,  8.5,  9.5, 10.5, 11.5])"
            ]
          },
          "metadata": {},
          "execution_count": 4
        }
      ]
    },
    {
      "cell_type": "code",
      "source": [
        "np.std(x) # 행과 열을 고려하지 않고 x에 대한 표준편차 구하기"
      ],
      "metadata": {
        "colab": {
          "base_uri": "https://localhost:8080/"
        },
        "id": "BMWDfTrCwMKr",
        "outputId": "2382b661-6af6-4592-b3d1-6f23f1634cae"
      },
      "execution_count": 5,
      "outputs": [
        {
          "output_type": "execute_result",
          "data": {
            "text/plain": [
              "5.766281297335398"
            ]
          },
          "metadata": {},
          "execution_count": 5
        }
      ]
    },
    {
      "cell_type": "code",
      "source": [
        "np.var(x) # 마찬가지로, 행과 열을 고려하지 않고 분산 구하기"
      ],
      "metadata": {
        "colab": {
          "base_uri": "https://localhost:8080/"
        },
        "id": "UH-8h-eKwRKW",
        "outputId": "e7a48224-b351-4943-c5e5-c546af42cd81"
      },
      "execution_count": 6,
      "outputs": [
        {
          "output_type": "execute_result",
          "data": {
            "text/plain": [
              "33.25"
            ]
          },
          "metadata": {},
          "execution_count": 6
        }
      ]
    },
    {
      "cell_type": "code",
      "source": [
        "x = np.random.randn(3,4) # 3행 4열인 x\n",
        "# x 행별로 피어슨 상관관계 구하기, 예를 들어 1행과 2행의 상관관계 2행과 3행의 상관관계 등.\n",
        "# 결과는 3 3 행렬로 나오며 랜덤하게 형성되어 결과가 달라질 수가 있음."
      ],
      "metadata": {
        "id": "8H2kvwnWwWEf"
      },
      "execution_count": 7,
      "outputs": []
    },
    {
      "cell_type": "code",
      "source": [
        "np.corrcoef(x)"
      ],
      "metadata": {
        "colab": {
          "base_uri": "https://localhost:8080/"
        },
        "id": "5AmGQR3AwkBU",
        "outputId": "82ad18ed-0d51-4136-8f31-05575dafe87d"
      },
      "execution_count": 8,
      "outputs": [
        {
          "output_type": "execute_result",
          "data": {
            "text/plain": [
              "array([[ 1.        , -0.21923607, -0.8815205 ],\n",
              "       [-0.21923607,  1.        , -0.10073848],\n",
              "       [-0.8815205 , -0.10073848,  1.        ]])"
            ]
          },
          "metadata": {},
          "execution_count": 8
        }
      ]
    },
    {
      "cell_type": "code",
      "source": [
        "np.corrcoef(x[0],x[1])"
      ],
      "metadata": {
        "colab": {
          "base_uri": "https://localhost:8080/"
        },
        "id": "7B-7oI5Gwl6L",
        "outputId": "3228908b-e30d-4c41-ccf5-fda652b7b801"
      },
      "execution_count": 9,
      "outputs": [
        {
          "output_type": "execute_result",
          "data": {
            "text/plain": [
              "array([[ 1.        , -0.21923607],\n",
              "       [-0.21923607,  1.        ]])"
            ]
          },
          "metadata": {},
          "execution_count": 9
        }
      ]
    },
    {
      "cell_type": "code",
      "source": [
        "# x의 각 열 사이의 공분산 구하기, 총 4행 4열의 결과값이 출력되어 랜덤하게 생성\n",
        "np.cov(x, rowvar=False)"
      ],
      "metadata": {
        "colab": {
          "base_uri": "https://localhost:8080/"
        },
        "id": "0RScmENZwqUD",
        "outputId": "8d9a26ec-aec1-44dc-a37a-378e4f6616c6"
      },
      "execution_count": 10,
      "outputs": [
        {
          "output_type": "execute_result",
          "data": {
            "text/plain": [
              "array([[ 0.63157178, -0.24476256,  0.5315622 , -0.88336616],\n",
              "       [-0.24476256,  0.48960083, -0.35284441,  0.06092677],\n",
              "       [ 0.5315622 , -0.35284441,  0.50201189, -0.63880099],\n",
              "       [-0.88336616,  0.06092677, -0.63880099,  1.43617123]])"
            ]
          },
          "metadata": {},
          "execution_count": 10
        }
      ]
    },
    {
      "cell_type": "code",
      "source": [
        "#x의 각 행 사이의 공분산 구하기, 총 3행 3열의 결괏값이 출력되며 랜덤하게 생성되어 결과는 다를 수 있음.\n",
        "np.cov(x, rowvar=True)"
      ],
      "metadata": {
        "colab": {
          "base_uri": "https://localhost:8080/"
        },
        "id": "CG2Bz3Buwx2a",
        "outputId": "d619f3a6-8b05-46c0-ebbb-a4cc0c5c2c3c"
      },
      "execution_count": 11,
      "outputs": [
        {
          "output_type": "execute_result",
          "data": {
            "text/plain": [
              "array([[ 1.32543484, -0.17325673, -0.64301902],\n",
              "       [-0.17325673,  0.47119193, -0.04381336],\n",
              "       [-0.64301902, -0.04381336,  0.4014435 ]])"
            ]
          },
          "metadata": {},
          "execution_count": 11
        }
      ]
    },
    {
      "cell_type": "code",
      "source": [
        "# 다양한 확률 분포 사용하기\n",
        "\n",
        "import numpy as np\n",
        "from scipy import stats\n",
        "np.random.seed(0)\n",
        "stats.binom(10,0.5).rvs(10)\n",
        "# n=10, p=0.5인 이항 분포에서 rvs함수로 표본을 10개 추출"
      ],
      "metadata": {
        "colab": {
          "base_uri": "https://localhost:8080/"
        },
        "id": "MW7LbNXEw6mN",
        "outputId": "7e23ce60-54f8-419d-adbf-bdcfe0619e06"
      },
      "execution_count": 12,
      "outputs": [
        {
          "output_type": "execute_result",
          "data": {
            "text/plain": [
              "array([5, 6, 5, 5, 5, 6, 5, 7, 8, 5])"
            ]
          },
          "metadata": {},
          "execution_count": 12
        }
      ]
    },
    {
      "cell_type": "code",
      "source": [
        "stats.norm.rvs(0)\n",
        "# 평균은 0이고, 표준편차가 1인 정규 분포에서 표본 10개 추출"
      ],
      "metadata": {
        "colab": {
          "base_uri": "https://localhost:8080/"
        },
        "id": "W-QUlNJbxKEV",
        "outputId": "3fa551a8-62dd-4305-931a-db1db39ddb9c"
      },
      "execution_count": 13,
      "outputs": [
        {
          "output_type": "execute_result",
          "data": {
            "text/plain": [
              "0.144043571160878"
            ]
          },
          "metadata": {},
          "execution_count": 13
        }
      ]
    },
    {
      "cell_type": "code",
      "source": [
        "stats.uniform.rvs(10)\n",
        "# 0~1 사이에 정의된 균일 분포에서 표본 10개 추출"
      ],
      "metadata": {
        "colab": {
          "base_uri": "https://localhost:8080/"
        },
        "id": "5JyHUDiuxPzv",
        "outputId": "b8fdf0a4-a1c6-407e-fb1c-2c131cdcbed9"
      },
      "execution_count": 14,
      "outputs": [
        {
          "output_type": "execute_result",
          "data": {
            "text/plain": [
              "10.568044561093933"
            ]
          },
          "metadata": {},
          "execution_count": 14
        }
      ]
    },
    {
      "cell_type": "code",
      "source": [
        "stats.chi2(df=2).rvs(10)\n",
        "# 자유도가 2인 카이제곱 분포에서 표본 10개 추출"
      ],
      "metadata": {
        "colab": {
          "base_uri": "https://localhost:8080/"
        },
        "id": "RS5zq8cPxYLI",
        "outputId": "b17f3fb1-3190-4132-f3a1-4c53fe57ba22"
      },
      "execution_count": 15,
      "outputs": [
        {
          "output_type": "execute_result",
          "data": {
            "text/plain": [
              "array([5.19650831, 0.14737071, 0.18232206, 0.04085117, 3.57497536,\n",
              "       3.01156846, 4.08062856, 7.69044368, 3.21047912, 1.23785892])"
            ]
          },
          "metadata": {},
          "execution_count": 15
        }
      ]
    },
    {
      "cell_type": "code",
      "source": [
        "# 카이제곱 검정\n",
        "\n",
        "import scipy as sp\n",
        "n = np.array([1,2,4,1,2,10])\n",
        "# 주사위를 20번 던졌을 때, 1~6 사이의 눈이 나오는 빈도\n",
        "\n",
        "sp.stats.chisquare(n)\n",
        "# 귀무 가설 : 각 눈의 빈도는 동일한 확률로 나온다.\n",
        "# 결과에 대한 고찰 : 귀무 가설 기각"
      ],
      "metadata": {
        "colab": {
          "base_uri": "https://localhost:8080/"
        },
        "id": "2q-8QFuTxdQl",
        "outputId": "b6d52927-7360-46d8-990e-3b971fabea90"
      },
      "execution_count": 18,
      "outputs": [
        {
          "output_type": "execute_result",
          "data": {
            "text/plain": [
              "Power_divergenceResult(statistic=17.799999999999997, pvalue=0.0032077920346052823)"
            ]
          },
          "metadata": {},
          "execution_count": 18
        }
      ]
    },
    {
      "cell_type": "code",
      "source": [
        "# t 검증하기\n",
        "\n",
        "np.random.seed(0)\n",
        "x1 = stats.norm(0,1 ).rvs(10) # 평균이 0인 정규 분포에서 표본 10개 추출\n",
        "x2 = stats.norm(1,1).rvs(10) # 평균이 1인 정규 분포에서 표본 10개 추출\n",
        "np.mean(x1), np.mean(x2)\n",
        "stats.ttest_ind(x1,x2) # 두 집단의 모평균이 같다는 귀무 가설에 대해 t- 검정\n",
        "# 결과에 대한 고찰 : 결과는 10%로 유의 수준에서 귀무 가설을 기각한다."
      ],
      "metadata": {
        "colab": {
          "base_uri": "https://localhost:8080/"
        },
        "id": "Mz6Ey2aqyA-v",
        "outputId": "f00827a0-5048-4811-f3c7-d56d665fe955"
      },
      "execution_count": 19,
      "outputs": [
        {
          "output_type": "execute_result",
          "data": {
            "text/plain": [
              "Ttest_indResult(statistic=-1.6868710732328158, pvalue=0.10888146383913824)"
            ]
          },
          "metadata": {},
          "execution_count": 19
        }
      ]
    },
    {
      "cell_type": "code",
      "source": [
        "# 쌍체 t 검정하기\n",
        "\n",
        "# 어떤 처치의 전후로 통증 크기를 before와 after로 기록하였다. 처치 전의 평균과 처치 후의 평균이 차이가 있는지 쌍체 검정 t로 확인하기\n",
        "# 숫자가 클수록 통증이 심하며, 통증은 0~100 사이의 값으로 표현한다.\n",
        "\n",
        "before = [68,56,57,54,64,48,68,56,61,58,67,49,58,58,65,54,59,55,60,62]\n",
        "after = [65,57,57,54,64,47,67,54,60,58,65,48,57,56,64,53,57,55,61,63]\n",
        "\n",
        "\n",
        "# 귀무 가설은 처치 전후로 통증의 차이가 없고, 대립 가설은 통증의 차이가 있음"
      ],
      "metadata": {
        "id": "GvGfm-TsyYK1"
      },
      "execution_count": 22,
      "outputs": []
    },
    {
      "cell_type": "code",
      "source": [
        "stats.ttest_rel(before, after)\n",
        "# 유의 수준이 5% 라면 현재 p 값이 유의 수준보다 작으므로 귀무 가설을 기각한다."
      ],
      "metadata": {
        "colab": {
          "base_uri": "https://localhost:8080/"
        },
        "id": "0ehalVo8zBCi",
        "outputId": "a6ee1b08-f969-4750-aa91-dca69592ae8d"
      },
      "execution_count": 23,
      "outputs": [
        {
          "output_type": "execute_result",
          "data": {
            "text/plain": [
              "Ttest_relResult(statistic=3.0, pvalue=0.007361724183868639)"
            ]
          },
          "metadata": {},
          "execution_count": 23
        }
      ]
    },
    {
      "cell_type": "code",
      "source": [
        "# 고객 5명에게 광고 전후로 제품에 대한 선호도를 측정하였을 때,\n",
        "# 광고 효과가 있는지 확인하기, 1~10 사이의 값으로 측정하며 10은 제품을 매우 선호하고, 1은 제품을 선호하지 않는다.\n",
        "\n",
        "before = [2,3,2,3,2]\n",
        "after = [9,8,9,7,6]\n",
        "\n",
        "# 귀무 가설로는 광고 전후로 선호도 차이가 없고, 대립 가설로는 선호도 차이가 있음."
      ],
      "metadata": {
        "id": "uWgDz3j2zTzQ"
      },
      "execution_count": 24,
      "outputs": []
    },
    {
      "cell_type": "code",
      "source": [
        "stats.ttest_rel(before, after)\n",
        "# 유의 수준이 5% 라면 현재 p값이 유의 수준보다 작으므로 귀무 가설을 기각."
      ],
      "metadata": {
        "colab": {
          "base_uri": "https://localhost:8080/"
        },
        "id": "SFHwrt22zlVl",
        "outputId": "9036c927-50dc-4372-dd03-6d84ab8dc6d6"
      },
      "execution_count": 25,
      "outputs": [
        {
          "output_type": "execute_result",
          "data": {
            "text/plain": [
              "Ttest_relResult(statistic=-7.961865632364446, pvalue=0.001348170975769803)"
            ]
          },
          "metadata": {},
          "execution_count": 25
        }
      ]
    }
  ]
}