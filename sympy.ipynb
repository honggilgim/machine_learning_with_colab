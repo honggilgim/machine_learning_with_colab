{
  "nbformat": 4,
  "nbformat_minor": 0,
  "metadata": {
    "colab": {
      "name": "sympy.ipynb",
      "provenance": [],
      "collapsed_sections": [],
      "authorship_tag": "ABX9TyO2stG3f7OS/r7RL2vtP3Eb",
      "include_colab_link": true
    },
    "kernelspec": {
      "name": "python3",
      "display_name": "Python 3"
    },
    "language_info": {
      "name": "python"
    }
  },
  "cells": [
    {
      "cell_type": "markdown",
      "metadata": {
        "id": "view-in-github",
        "colab_type": "text"
      },
      "source": [
        "<a href=\"https://colab.research.google.com/github/honggilgim/python_test_with_colab/blob/main/sympy.ipynb\" target=\"_parent\"><img src=\"https://colab.research.google.com/assets/colab-badge.svg\" alt=\"Open In Colab\"/></a>"
      ]
    },
    {
      "cell_type": "code",
      "execution_count": null,
      "metadata": {
        "colab": {
          "base_uri": "https://localhost:8080/"
        },
        "id": "aPcW9yjAaVkC",
        "outputId": "0d6a60c5-7389-4d36-b771-2927b4866a20"
      },
      "outputs": [
        {
          "output_type": "stream",
          "name": "stdout",
          "text": [
            "12.0\n"
          ]
        }
      ],
      "source": [
        "from scipy.misc import derivative\n",
        "def f(x) :\n",
        "  return 3*x**2+1\n",
        "def d(x) :\n",
        "  return derivative(f,x)\n",
        "print(d(2.0))"
      ]
    },
    {
      "cell_type": "code",
      "source": [
        "import sympy as sp\n",
        "x = sp.Symbol('x')\n",
        "sp.integrate(3.0*x**2+1,x)"
      ],
      "metadata": {
        "colab": {
          "base_uri": "https://localhost:8080/",
          "height": 38
        },
        "id": "Jkdx20slg-G8",
        "outputId": "f9a335bf-1182-4e92-f065-86e0bd23ec87"
      },
      "execution_count": null,
      "outputs": [
        {
          "output_type": "execute_result",
          "data": {
            "text/plain": [
              "1.0*x**3 + 1.0*x"
            ],
            "text/latex": "$\\displaystyle 1.0 x^{3} + 1.0 x$"
          },
          "metadata": {},
          "execution_count": 8
        }
      ]
    },
    {
      "cell_type": "code",
      "source": [
        "import numpy as np\n",
        "from scipy.integrate import quad\n",
        "def f(x) :\n",
        "  return 3.0*x**2+1\n",
        "i = quad(f, 0, 2)\n",
        "print(i[0])"
      ],
      "metadata": {
        "colab": {
          "base_uri": "https://localhost:8080/"
        },
        "id": "2oyQYQ0Shhbb",
        "outputId": "271b5a44-1821-419a-ce33-48518d5c57c6"
      },
      "execution_count": null,
      "outputs": [
        {
          "output_type": "stream",
          "name": "stdout",
          "text": [
            "10.000000000000002\n"
          ]
        }
      ]
    },
    {
      "cell_type": "code",
      "source": [
        "#Dependencies\n",
        "import numpy as np\n",
        "import scipy.integrate as integrate\n",
        "import matplotlib.pyplot as plt\n",
        "\n",
        "#Our integral approximation function\n",
        "def integral_approximation(f, a, b) :\n",
        "  return (b-a)*np.mean(f)"
      ],
      "metadata": {
        "id": "xOQNRY-9jAIC"
      },
      "execution_count": null,
      "outputs": []
    },
    {
      "cell_type": "code",
      "source": [
        "#integrate f(x) = x^2\n",
        "def f1(x):\n",
        " return x**2"
      ],
      "metadata": {
        "id": "A6u_Zhasjm0L"
      },
      "execution_count": null,
      "outputs": []
    },
    {
      "cell_type": "code",
      "source": [
        "#Define bounds of integral\n",
        "a=0\n",
        "b=1"
      ],
      "metadata": {
        "id": "CynwWrHLj7Fr"
      },
      "execution_count": null,
      "outputs": []
    },
    {
      "cell_type": "code",
      "source": [
        "# Generate function values\n",
        "x_range = np.arange(a,b+0.0001,.0001)\n",
        "fx=f1(x_range)"
      ],
      "metadata": {
        "id": "C1VyznudkBNy"
      },
      "execution_count": null,
      "outputs": []
    },
    {
      "cell_type": "code",
      "source": [
        "#aPProximate integral\n",
        "approx = integral_approximation(fx,a,b)\n",
        "print(approx)"
      ],
      "metadata": {
        "colab": {
          "base_uri": "https://localhost:8080/"
        },
        "id": "YFnKyIPRkc6K",
        "outputId": "0d0c3666-5843-41a1-c9ed-2a7fd1b4a8f2"
      },
      "execution_count": null,
      "outputs": [
        {
          "output_type": "stream",
          "name": "stdout",
          "text": [
            "0.33335\n"
          ]
        }
      ]
    },
    {
      "cell_type": "code",
      "source": [
        "#Scipy approximation\n",
        "integrate.quad(f1,a,b)"
      ],
      "metadata": {
        "colab": {
          "base_uri": "https://localhost:8080/"
        },
        "id": "_i8ZyPHWlPp7",
        "outputId": "9977d615-154a-4f23-dd49-03c2922249a7"
      },
      "execution_count": null,
      "outputs": [
        {
          "output_type": "execute_result",
          "data": {
            "text/plain": [
              "(0.33333333333333337, 3.700743415417189e-15)"
            ]
          },
          "metadata": {},
          "execution_count": 21
        }
      ]
    },
    {
      "cell_type": "code",
      "source": [
        "#Integrating a random function\n",
        "np.random.seed(42)\n",
        "def gaussian(x,mu,sigma):\n",
        "  return np.exp((-1*(x-mu)**2)/(2*sigma*2))"
      ],
      "metadata": {
        "id": "OaXLPd1Ll1aD"
      },
      "execution_count": null,
      "outputs": []
    },
    {
      "cell_type": "code",
      "source": [
        "#define mu and sigma\n",
        "mu = 0\n",
        "sigma = 1"
      ],
      "metadata": {
        "id": "eerqN9CtmOM6"
      },
      "execution_count": null,
      "outputs": []
    },
    {
      "cell_type": "code",
      "source": [
        "#define bounds of integral\n",
        "a = -3\n",
        "b = 3"
      ],
      "metadata": {
        "id": "sOj4zSdGmUky"
      },
      "execution_count": null,
      "outputs": []
    },
    {
      "cell_type": "code",
      "source": [
        "#Generate function values\n",
        "x_range = np.linspace(-3, 3, 200)\n",
        "fx = gaussian(x_range, mu, sigma)\n",
        "approx = integral_approximation(fx,a,b)\n",
        "print(approx)"
      ],
      "metadata": {
        "colab": {
          "base_uri": "https://localhost:8080/"
        },
        "id": "r5SKZOximZDq",
        "outputId": "39820aa5-8d4d-4907-daf8-d098c84e09f1"
      },
      "execution_count": null,
      "outputs": [
        {
          "output_type": "stream",
          "name": "stdout",
          "text": [
            "3.410767949639311\n"
          ]
        }
      ]
    },
    {
      "cell_type": "code",
      "source": [
        "#Scipy approximation\n",
        "integrate.quad(lambda x:np.exp((-1*(x-mu)**2)/(2*sigma**2)),a,b)"
      ],
      "metadata": {
        "colab": {
          "base_uri": "https://localhost:8080/"
        },
        "id": "FlBMYPrGnR1C",
        "outputId": "3356b529-b7eb-402e-d89b-60e2c4dbee13"
      },
      "execution_count": null,
      "outputs": [
        {
          "output_type": "execute_result",
          "data": {
            "text/plain": [
              "(2.4998608894830947, 2.7754031051049595e-14)"
            ]
          },
          "metadata": {},
          "execution_count": 28
        }
      ]
    }
  ]
}